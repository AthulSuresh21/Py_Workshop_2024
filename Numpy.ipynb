{
  "cells": [
    {
      "cell_type": "markdown",
      "metadata": {
        "id": "view-in-github",
        "colab_type": "text"
      },
      "source": [
        "<a href=\"https://colab.research.google.com/github/AthulSuresh21/Scientific_computing/blob/main/Numpy.ipynb\" target=\"_parent\"><img src=\"https://colab.research.google.com/assets/colab-badge.svg\" alt=\"Open In Colab\"/></a>"
      ]
    },
    {
      "cell_type": "markdown",
      "metadata": {
        "id": "6ZXd-zacI1Fm"
      },
      "source": [
        "# <font color='blue'>Numpy Arrays. <font>"
      ]
    },
    {
      "cell_type": "markdown",
      "metadata": {
        "id": "I09AVnS6I1Fp"
      },
      "source": [
        " NUMPY is the basis for a lot of python numerical programming\n",
        "Numpy based methods are much faster than those based on traditional lists or tuples."
      ]
    },
    {
      "cell_type": "code",
      "execution_count": null,
      "metadata": {
        "id": "IfuDHYFBI1Fq"
      },
      "outputs": [],
      "source": [
        "import numpy as np # Import numpy package.\n",
        "from matplotlib import pyplot as plt # Import PLOTTING package.\n",
        "from scipy.linalg import expm # Import exponential of a matrix function, which we will use a lot..."
      ]
    },
    {
      "cell_type": "markdown",
      "metadata": {
        "id": "W9sGL2V3I1Fs"
      },
      "source": [
        "Lists are useful for general purpose python, not for mathematical and numerical stuff."
      ]
    },
    {
      "cell_type": "code",
      "execution_count": null,
      "metadata": {
        "id": "nEIXhuRBI1Fs",
        "outputId": "fb9cbaac-e34e-4d37-f482-a0fd57fc6c1b"
      },
      "outputs": [
        {
          "data": {
            "text/plain": [
              "[1, 2, 3, 4, 5, 6]"
            ]
          },
          "execution_count": 2,
          "metadata": {},
          "output_type": "execute_result"
        }
      ],
      "source": [
        "a=[1,2,3] # list 1\n",
        "b=[4,5,6] # list 2\n",
        "a+b # concatanation and not addition, as we want..."
      ]
    },
    {
      "cell_type": "markdown",
      "metadata": {
        "id": "WPEUk1SII1Fw"
      },
      "source": [
        "#On the other hand, most of the time, we just want to do math operations. For instance, when we write \"x+y\" on a paper, what we mean is addition of two vectors x, y. When we write \"sin(x)\" for a vector x, what we mean is the sine function applied to every element of x."
      ]
    },
    {
      "cell_type": "markdown",
      "metadata": {
        "id": "nJKshvdFI1Fw"
      },
      "source": [
        "To do that, we need numpy arrays.\n"
      ]
    },
    {
      "cell_type": "code",
      "execution_count": null,
      "metadata": {
        "id": "6kLTGFQKI1Fx"
      },
      "outputs": [],
      "source": [
        "arr1=np.ndarray([3,3])  # np.ndarray specifies the dimensions of the list. It just points at memory locations it will fill with your values later.\n",
        "arr1[0,0]=0.5\n",
        "arr1[0,1]=0\n",
        "arr1[0,2]=1\n",
        "arr1[1,0]=5\n",
        "arr1[1,1]=0\n",
        "arr1[1,2]=10\n",
        "arr1[2,0]=50\n",
        "arr1[2,1]=0\n",
        "arr1[2,2]=100\n"
      ]
    },
    {
      "cell_type": "code",
      "execution_count": null,
      "metadata": {
        "id": "63yiACHyI1Fx",
        "outputId": "e088e156-471b-4da4-db77-53eb2235e00e"
      },
      "outputs": [
        {
          "data": {
            "text/plain": [
              "array([[  0.5,   0. ,   1. ],\n",
              "       [  5. ,   0. ,  10. ],\n",
              "       [ 50. ,   0. , 100. ]])"
            ]
          },
          "execution_count": 4,
          "metadata": {},
          "output_type": "execute_result"
        }
      ],
      "source": [
        "arr1"
      ]
    },
    {
      "cell_type": "markdown",
      "metadata": {
        "id": "6XZOdynUI1Fy"
      },
      "source": [
        "The indexing is done as np.ndarray([ROW, COLUMN])"
      ]
    },
    {
      "cell_type": "code",
      "execution_count": null,
      "metadata": {
        "id": "jNilyulTI1Fy",
        "outputId": "9b634c70-06a1-4a93-b107-0022cc496b5e"
      },
      "outputs": [
        {
          "data": {
            "text/plain": [
              "numpy.ndarray"
            ]
          },
          "execution_count": 5,
          "metadata": {},
          "output_type": "execute_result"
        }
      ],
      "source": [
        "arr2=np.ndarray([4,2])\n",
        "type(arr2)"
      ]
    },
    {
      "cell_type": "markdown",
      "metadata": {
        "id": "_A0FWgkBI1Fy"
      },
      "source": [
        "You can convert a python list to a ndarray by using the convenience function np.array"
      ]
    },
    {
      "cell_type": "code",
      "execution_count": null,
      "metadata": {
        "id": "QmEve1z6I1Fz",
        "outputId": "078bf62e-bd14-4229-d138-aefd9ab31be9"
      },
      "outputs": [
        {
          "data": {
            "text/plain": [
              "numpy.ndarray"
            ]
          },
          "execution_count": 6,
          "metadata": {},
          "output_type": "execute_result"
        }
      ],
      "source": [
        "arr3=np.array([1,2,3,4,5]) # convenience function np.array\n",
        "type(arr3)"
      ]
    },
    {
      "cell_type": "code",
      "execution_count": null,
      "metadata": {
        "id": "SCbLEPKWI1Fz",
        "outputId": "5824ead6-d1ed-4b50-f0d5-1f2ddabd5535"
      },
      "outputs": [
        {
          "data": {
            "text/plain": [
              "(5,)"
            ]
          },
          "execution_count": 9,
          "metadata": {},
          "output_type": "execute_result"
        }
      ],
      "source": [
        "arr3.shape\n"
      ]
    },
    {
      "cell_type": "code",
      "execution_count": null,
      "metadata": {
        "id": "2BayZ5GmI1Fz"
      },
      "outputs": [],
      "source": [
        "np.shape(arr3)"
      ]
    },
    {
      "cell_type": "code",
      "execution_count": null,
      "metadata": {
        "id": "GGkuIpJQI1Fz",
        "outputId": "668112ca-a411-4ac4-84c8-5c95319bb414"
      },
      "outputs": [
        {
          "data": {
            "text/plain": [
              "numpy.ndarray"
            ]
          },
          "execution_count": 11,
          "metadata": {},
          "output_type": "execute_result"
        }
      ],
      "source": [
        "arr4=np.array([[1,2,3,4,5],[13,32,53,14,51]]) # convenience function np.array\n",
        "type(arr4)"
      ]
    },
    {
      "cell_type": "code",
      "execution_count": null,
      "metadata": {
        "id": "7Q3eMjtrI1F0",
        "outputId": "56320801-ce4a-4786-a82c-4ef70479bd8a"
      },
      "outputs": [
        {
          "data": {
            "text/plain": [
              "array([[ 1,  2,  3,  4,  5],\n",
              "       [13, 32, 53, 14, 51]])"
            ]
          },
          "execution_count": 12,
          "metadata": {},
          "output_type": "execute_result"
        }
      ],
      "source": [
        "arr4"
      ]
    },
    {
      "cell_type": "code",
      "execution_count": null,
      "metadata": {
        "id": "imzntJHtI1F1",
        "outputId": "ba876824-cde3-4968-c175-e631186a63b2"
      },
      "outputs": [
        {
          "data": {
            "text/plain": [
              "(2, 5)"
            ]
          },
          "execution_count": 13,
          "metadata": {},
          "output_type": "execute_result"
        }
      ],
      "source": [
        "np.shape(arr4) # NOTICE that the shape is a tuple"
      ]
    },
    {
      "cell_type": "code",
      "execution_count": null,
      "metadata": {
        "id": "MclCJyeWI1F2",
        "outputId": "3a3de73e-d411-4c9d-81ba-b760255509cc"
      },
      "outputs": [
        {
          "data": {
            "text/plain": [
              "array([1, 2, 3, 4, 5])"
            ]
          },
          "execution_count": 14,
          "metadata": {},
          "output_type": "execute_result"
        }
      ],
      "source": [
        "arr4[0,:] # select the first row"
      ]
    },
    {
      "cell_type": "code",
      "execution_count": null,
      "metadata": {
        "id": "hYz-z7TfI1F2",
        "outputId": "33f43c95-4e11-4965-b889-53c4989fa7fe"
      },
      "outputs": [
        {
          "data": {
            "text/plain": [
              "array([13, 32, 53, 14, 51])"
            ]
          },
          "execution_count": 15,
          "metadata": {},
          "output_type": "execute_result"
        }
      ],
      "source": [
        "arr4[1,:] # select the second row"
      ]
    },
    {
      "cell_type": "code",
      "execution_count": null,
      "metadata": {
        "id": "Jaqz8heNI1F3",
        "outputId": "85de807b-2baf-4639-c67f-7dde71b174c2"
      },
      "outputs": [
        {
          "data": {
            "text/plain": [
              "array([ 1, 13])"
            ]
          },
          "execution_count": 16,
          "metadata": {},
          "output_type": "execute_result"
        }
      ],
      "source": [
        "arr4[:,0] # select the first column"
      ]
    },
    {
      "cell_type": "code",
      "execution_count": null,
      "metadata": {
        "id": "azR-BCZ8I1F3",
        "outputId": "3dc4d30d-c708-41ad-c641-7a183bfb6435"
      },
      "outputs": [
        {
          "data": {
            "text/plain": [
              "array([ 4, 14])"
            ]
          },
          "execution_count": 17,
          "metadata": {},
          "output_type": "execute_result"
        }
      ],
      "source": [
        "arr4[:,3] # select the fourth column"
      ]
    },
    {
      "cell_type": "code",
      "execution_count": null,
      "metadata": {
        "scrolled": true,
        "id": "T0TFMQtlI1F3",
        "outputId": "88d6e637-72b7-4a96-d880-036486f189c7"
      },
      "outputs": [
        {
          "data": {
            "text/plain": [
              "array([[ 1,  2,  3],\n",
              "       [13, 32, 53]])"
            ]
          },
          "execution_count": 18,
          "metadata": {},
          "output_type": "execute_result"
        }
      ],
      "source": [
        "arr4[:,0:3] # all rows, columns 1,2 and 3 (indexed by [0],[1] and [2])"
      ]
    },
    {
      "cell_type": "code",
      "execution_count": null,
      "metadata": {
        "scrolled": true,
        "id": "eMM65cFxI1F3",
        "outputId": "dae1f498-7fd1-4290-84ce-15cb92f7dd7e"
      },
      "outputs": [
        {
          "data": {
            "text/plain": [
              "array([[ 1,  3,  5],\n",
              "       [13, 53, 51]])"
            ]
          },
          "execution_count": 19,
          "metadata": {},
          "output_type": "execute_result"
        }
      ],
      "source": [
        "arr4[:,::2] # skip even columns"
      ]
    },
    {
      "cell_type": "code",
      "execution_count": null,
      "metadata": {
        "scrolled": true,
        "id": "Dk4VXti9I1F3",
        "outputId": "dc8b5f68-f859-4ddb-bad7-53efebb6bdaf"
      },
      "outputs": [
        {
          "data": {
            "text/plain": [
              "array([[ 2,  4],\n",
              "       [32, 14]])"
            ]
          },
          "execution_count": 20,
          "metadata": {},
          "output_type": "execute_result"
        }
      ],
      "source": [
        "arr4[:,1::2] # skip odd columns"
      ]
    },
    {
      "cell_type": "markdown",
      "metadata": {
        "id": "7T9e4Cp_I1F4"
      },
      "source": [
        "#Tensors with numpy\n",
        "\n",
        "Suppose I want to write a tensor with three indices $M_{i,j,k}$ where $i$ is 2 dimensional, $j$ is 5 dimensional and $k$ is a 3 dimensional array."
      ]
    },
    {
      "cell_type": "code",
      "execution_count": null,
      "metadata": {
        "id": "lIMtzSazI1F4"
      },
      "outputs": [],
      "source": [
        "M=np.ndarray([2,5,3])"
      ]
    },
    {
      "cell_type": "code",
      "execution_count": null,
      "metadata": {
        "scrolled": true,
        "id": "R_GpVRP1I1F4",
        "outputId": "94945ae3-39a4-4fff-c22e-73029f2af321"
      },
      "outputs": [
        {
          "data": {
            "text/plain": [
              "(2, 5, 3)"
            ]
          },
          "execution_count": 22,
          "metadata": {},
          "output_type": "execute_result"
        }
      ],
      "source": [
        "M.shape"
      ]
    },
    {
      "cell_type": "code",
      "execution_count": null,
      "metadata": {
        "id": "UiOpcyu2I1F4"
      },
      "outputs": [],
      "source": [
        "M[:,0,:]=np.array([[1,-2,-3.44],[4,5,6]]) # takes negatives, takes floats..."
      ]
    },
    {
      "cell_type": "code",
      "execution_count": null,
      "metadata": {
        "id": "ALtg40TlI1F5",
        "outputId": "f185a6db-80ea-4751-f19a-ef143eebdbc7"
      },
      "outputs": [
        {
          "name": "stdout",
          "output_type": "stream",
          "text": [
            "[[[ 1.00000000e+000 -2.00000000e+000 -3.44000000e+000]\n",
            "  [ 0.00000000e+000  6.90985489e-310  1.16097020e-028]\n",
            "  [ 1.26087994e-076  2.42245819e-028  2.42014909e-052]\n",
            "  [ 1.04917183e-153  5.23081515e-143  6.29199630e-066]\n",
            "  [ 3.72709314e-057  1.82843739e+184  4.04937643e-037]]\n",
            "\n",
            " [[ 4.00000000e+000  5.00000000e+000  6.00000000e+000]\n",
            "  [ 3.96041428e+246  1.16318408e-028  1.88832812e+185]\n",
            "  [ 7.63227814e+169  4.85274160e-033  2.77397547e+180]\n",
            "  [ 1.01848862e+248  1.16096643e-028  9.80058441e+252]\n",
            "  [ 7.50189709e+247  1.14484251e+243  2.59903827e-144]]]\n"
          ]
        }
      ],
      "source": [
        "print(M) #why some of the elements are weird numbers?"
      ]
    },
    {
      "cell_type": "markdown",
      "metadata": {
        "id": "5Pck0uz8I1F5"
      },
      "source": [
        "# Making Copies of NDARRAYS..."
      ]
    },
    {
      "cell_type": "code",
      "execution_count": null,
      "metadata": {
        "id": "JSG48_kRI1F5"
      },
      "outputs": [],
      "source": [
        "x=np.array([1,2,3])\n",
        "z=np.copy(x)"
      ]
    },
    {
      "cell_type": "code",
      "execution_count": null,
      "metadata": {
        "id": "Gsiy2dx9I1F5"
      },
      "outputs": [],
      "source": [
        "y=x"
      ]
    },
    {
      "cell_type": "code",
      "execution_count": null,
      "metadata": {
        "id": "lntQueKRI1F5"
      },
      "outputs": [],
      "source": [
        "y[0]=-1"
      ]
    },
    {
      "cell_type": "code",
      "execution_count": null,
      "metadata": {
        "id": "Fe4V_20AI1F5",
        "outputId": "bfebe62a-4e63-49d1-afa7-9d93a737a39b"
      },
      "outputs": [
        {
          "data": {
            "text/plain": [
              "array([-1,  2,  3])"
            ]
          },
          "execution_count": 34,
          "metadata": {},
          "output_type": "execute_result"
        }
      ],
      "source": [
        "x"
      ]
    },
    {
      "cell_type": "code",
      "execution_count": null,
      "metadata": {
        "id": "BZCiV-1BI1F6",
        "outputId": "7573c530-3776-4c45-fc4a-c5af567b237a"
      },
      "outputs": [
        {
          "data": {
            "text/plain": [
              "array([1, 2, 3])"
            ]
          },
          "execution_count": 35,
          "metadata": {},
          "output_type": "execute_result"
        }
      ],
      "source": [
        "z"
      ]
    },
    {
      "cell_type": "markdown",
      "metadata": {
        "id": "NDUHpQxmI1F6"
      },
      "source": [
        "Numpy is FAST!"
      ]
    },
    {
      "cell_type": "code",
      "execution_count": null,
      "metadata": {
        "scrolled": true,
        "id": "c-r1b3u8I1F6",
        "outputId": "e65c3ca9-405f-409e-a5fa-d2a1b7f319d8"
      },
      "outputs": [
        {
          "data": {
            "text/plain": [
              "range"
            ]
          },
          "execution_count": 37,
          "metadata": {},
          "output_type": "execute_result"
        }
      ],
      "source": [
        "nums=range(1000) # Lets make a list from 0 to 999.\n",
        "type(nums) # What type is r0?"
      ]
    },
    {
      "cell_type": "code",
      "execution_count": null,
      "metadata": {
        "id": "Q3naRPsKI1F6",
        "outputId": "761267be-51f1-4425-b12f-8ad4b13daf65"
      },
      "outputs": [
        {
          "data": {
            "text/plain": [
              "range(0, 1000)"
            ]
          },
          "execution_count": 38,
          "metadata": {},
          "output_type": "execute_result"
        }
      ],
      "source": [
        "nums"
      ]
    },
    {
      "cell_type": "markdown",
      "metadata": {
        "id": "vz4-zCSKI1F7"
      },
      "source": [
        "https://docs.python.org/3/library/stdtypes.html#range"
      ]
    },
    {
      "cell_type": "code",
      "execution_count": null,
      "metadata": {
        "id": "Vgma6XKlI1F7",
        "outputId": "5cedc3ff-702b-4b09-e9fd-9bd96da47362"
      },
      "outputs": [
        {
          "data": {
            "text/plain": [
              "[0, 1, 4, 9, 16, 25, 36, 49, 64, 81]"
            ]
          },
          "execution_count": 40,
          "metadata": {},
          "output_type": "execute_result"
        }
      ],
      "source": [
        "f=[x**2 for x in nums] # Lets time the function f=x^2 for x in r0.\n",
        "f[0:10] # Lets display the first 10 numbers to know we are right."
      ]
    },
    {
      "cell_type": "markdown",
      "metadata": {
        "id": "Nv2L_EKnI1F8"
      },
      "source": [
        "# What I just did here, is due to something called a LIST COMPREHENSION"
      ]
    },
    {
      "cell_type": "markdown",
      "metadata": {
        "id": "b7SUecZmI1F9"
      },
      "source": [
        "# In Maths, we can define sets in set builder form as S={x| x in even integers less than 7 and is divisible by 3}\n",
        "\n",
        "# In PYTHON, you can do the following...."
      ]
    },
    {
      "cell_type": "code",
      "execution_count": null,
      "metadata": {
        "id": "OMQb6F0mI1F9",
        "outputId": "41beb2dc-e334-4420-96de-1f9b33036a16"
      },
      "outputs": [
        {
          "data": {
            "text/plain": [
              "[3, 6]"
            ]
          },
          "execution_count": 42,
          "metadata": {},
          "output_type": "execute_result"
        }
      ],
      "source": [
        "[x for x in range(1,8) if x%3==0]"
      ]
    },
    {
      "cell_type": "code",
      "execution_count": null,
      "metadata": {
        "id": "KgIWDBOtI1F-",
        "outputId": "db01aa2d-921f-4235-eb6a-1c392d759d41"
      },
      "outputs": [
        {
          "name": "stdout",
          "output_type": "stream",
          "text": [
            "173 µs ± 426 ns per loop (mean ± std. dev. of 7 runs, 10000 loops each)\n"
          ]
        }
      ],
      "source": [
        "%timeit [i**2 for i in nums] # Lets time the function."
      ]
    },
    {
      "cell_type": "code",
      "execution_count": null,
      "metadata": {
        "id": "r5m4mftnI1F-",
        "outputId": "270b6b53-0837-4a6b-c961-74dd70514991"
      },
      "outputs": [
        {
          "data": {
            "text/plain": [
              "array([ 0,  1,  4,  9, 16, 25, 36, 49, 64, 81])"
            ]
          },
          "execution_count": 44,
          "metadata": {},
          "output_type": "execute_result"
        }
      ],
      "source": [
        "nums=np.arange(1000) # Numpy arange is the same as \"range\" for arrays.\n",
        "f=nums**2 # In numpy r0**2 is itemwise square.\n",
        "f[0:10] # Prints the first 10 entries to check."
      ]
    },
    {
      "cell_type": "code",
      "execution_count": null,
      "metadata": {
        "id": "9TAVyQ8qI1F-",
        "outputId": "d8de19d5-3986-472c-c4c8-23e2e4aa89e9"
      },
      "outputs": [
        {
          "name": "stdout",
          "output_type": "stream",
          "text": [
            "854 ns ± 13.8 ns per loop (mean ± std. dev. of 7 runs, 1000000 loops each)\n"
          ]
        }
      ],
      "source": [
        "%timeit nums**2 # Again, lets time this."
      ]
    },
    {
      "cell_type": "code",
      "execution_count": null,
      "metadata": {
        "id": "PyB4d0fiI1F_"
      },
      "outputs": [],
      "source": [
        "%timeit?"
      ]
    },
    {
      "cell_type": "code",
      "execution_count": null,
      "metadata": {
        "id": "z_RAa5s1I1F_",
        "outputId": "2428326b-508f-4876-853a-f81b3048627a"
      },
      "outputs": [
        {
          "data": {
            "text/plain": [
              "202.57611241217796"
            ]
          },
          "execution_count": 49,
          "metadata": {},
          "output_type": "execute_result"
        }
      ],
      "source": [
        "(173*10**(-6))/(854*10**(-9))"
      ]
    },
    {
      "cell_type": "markdown",
      "metadata": {
        "id": "qKV9YXQAI1F_"
      },
      "source": [
        "## <font color='red'> NOTICE that the numpy array is almost 200 times faster. This is why physics code always uses numpy arrays.</font>"
      ]
    },
    {
      "cell_type": "code",
      "execution_count": null,
      "metadata": {
        "id": "iV7gPtSHI1F_",
        "outputId": "9863f35b-eaad-4ea5-ae0d-10b8370e44ec"
      },
      "outputs": [
        {
          "data": {
            "text/plain": [
              "array([0.+1.j, 2.+4.j, 3.+0.j])"
            ]
          },
          "execution_count": 50,
          "metadata": {},
          "output_type": "execute_result"
        }
      ],
      "source": [
        "z = np.array([1j, 2+4j, 3], dtype=complex) # You can specify type for the entire array, which is useful.\n",
        "z"
      ]
    },
    {
      "cell_type": "code",
      "execution_count": null,
      "metadata": {
        "id": "tjnQ-wAaI1GA",
        "outputId": "a3b4652c-8d83-4214-a366-26244777e546"
      },
      "outputs": [
        {
          "data": {
            "text/plain": [
              "array([0., 0., 0., 0., 0., 0., 0., 0., 0., 0.])"
            ]
          },
          "execution_count": 51,
          "metadata": {},
          "output_type": "execute_result"
        }
      ],
      "source": [
        "z=np.zeros(10) # 1dim array of zeros...superuseful as the placeholder for incoming data..\n",
        "z"
      ]
    },
    {
      "cell_type": "code",
      "execution_count": null,
      "metadata": {
        "id": "Uor-GuwRI1GA",
        "outputId": "d1e3b5c7-c481-419a-977f-027e804809f9"
      },
      "outputs": [
        {
          "data": {
            "text/plain": [
              "0.0"
            ]
          },
          "execution_count": 52,
          "metadata": {},
          "output_type": "execute_result"
        }
      ],
      "source": [
        "z[-1] # last entry"
      ]
    },
    {
      "cell_type": "code",
      "execution_count": null,
      "metadata": {
        "id": "XcMBV5afI1GA",
        "outputId": "c288df97-622c-458f-b579-382767b0fb08"
      },
      "outputs": [
        {
          "data": {
            "text/plain": [
              "array([[[0., 0., 0., 0.],\n",
              "        [0., 0., 0., 0.],\n",
              "        [0., 0., 0., 0.],\n",
              "        [0., 0., 0., 0.]],\n",
              "\n",
              "       [[0., 0., 0., 0.],\n",
              "        [0., 0., 0., 0.],\n",
              "        [0., 0., 0., 0.],\n",
              "        [0., 0., 0., 0.]]])"
            ]
          },
          "execution_count": 53,
          "metadata": {},
          "output_type": "execute_result"
        }
      ],
      "source": [
        "z = np.zeros((2,4,4))\n",
        "z"
      ]
    },
    {
      "cell_type": "markdown",
      "metadata": {
        "id": "lx1jPopMI1GA"
      },
      "source": [
        "# You can construct random matrices in Python, something that is very useful going forward..."
      ]
    },
    {
      "cell_type": "code",
      "execution_count": null,
      "metadata": {
        "scrolled": true,
        "id": "BNf7E6gxI1GB",
        "outputId": "44f8dea8-b862-432c-bc64-35a542d8c051"
      },
      "outputs": [
        {
          "data": {
            "image/png": "[encoded data removed]",
            "text/plain": [
              "<Figure size 640x480 with 1 Axes>"
            ]
          },
          "metadata": {},
          "output_type": "display_data"
        }
      ],
      "source": [
        "z=np.random.rand(5*10**6,1) # NUMPY has built-in functions for UNIFORM random numbers.\n",
        "import matplotlib.mlab as mlab\n",
        "num_bins = 100\n",
        "n, bins, patches = plt.hist(z, num_bins, facecolor='blue', alpha=1) # NOTICE Uniform approximately distribution."
      ]
    },
    {
      "cell_type": "code",
      "execution_count": null,
      "metadata": {
        "id": "hH3dZTjwI1GB",
        "outputId": "493889c5-6ae9-4272-9437-de0339d3d116"
      },
      "outputs": [
        {
          "data": {
            "text/plain": [
              "array([[0.20952835, 0.64571534],\n",
              "       [0.23569038, 0.78785995]])"
            ]
          },
          "execution_count": 55,
          "metadata": {},
          "output_type": "execute_result"
        }
      ],
      "source": [
        "np.random.rand(2,2)"
      ]
    },
    {
      "cell_type": "markdown",
      "metadata": {
        "id": "AYXFTjLpI1GB"
      },
      "source": [
        "'''\n",
        "\n",
        "Notice that as you increase the number of random numbers in the array below,\n",
        "we get more and more closer to the UNIFORM/NORMAL distribution.\n",
        "\n",
        "'''"
      ]
    },
    {
      "cell_type": "code",
      "execution_count": null,
      "metadata": {
        "scrolled": false,
        "id": "ySppAFCNI1GB",
        "outputId": "ac2ed0f5-264e-483c-cb6a-9fa9e5681e8f"
      },
      "outputs": [
        {
          "data": {
            "image/png": "[encoded data removed]",
            "text/plain": [
              "<Figure size 640x480 with 1 Axes>"
            ]
          },
          "metadata": {},
          "output_type": "display_data"
        }
      ],
      "source": [
        "z=np.random.randn(50000,1) # NUMPY has built-in functions for Normal random numbers (notice its randN for normal random)\n",
        "import matplotlib.mlab as mlab\n",
        "num_bins = 1000\n",
        "n, bins, patches = plt.hist(z, num_bins, facecolor='black', alpha=0.5)"
      ]
    },
    {
      "cell_type": "code",
      "execution_count": null,
      "metadata": {
        "scrolled": true,
        "id": "dJPsUUxuI1GC",
        "outputId": "bf7a0134-974f-462c-d47b-1a7f89113f23"
      },
      "outputs": [
        {
          "data": {
            "image/png": "[encoded data removed]",
            "text/plain": [
              "<Figure size 640x480 with 1 Axes>"
            ]
          },
          "metadata": {},
          "output_type": "display_data"
        }
      ],
      "source": [
        "z=np.random.randn(500000,1) # NUMPY has built-in functions for Normal random numbers (notice its randN for normal random)\n",
        "import matplotlib.mlab as mlab\n",
        "num_bins = 1000\n",
        "n, bins, patches = plt.hist(z, num_bins, facecolor='black', alpha=0.5) # More the data points, smoother the Gaussian!!!"
      ]
    },
    {
      "cell_type": "code",
      "execution_count": null,
      "metadata": {
        "id": "kDwiQvkuI1GC",
        "outputId": "92dacdb8-73da-4c0a-cdd4-1e225bdae7d3"
      },
      "outputs": [
        {
          "data": {
            "image/png": "[encoded data removed]",
            "text/plain": [
              "<Figure size 640x480 with 1 Axes>"
            ]
          },
          "metadata": {},
          "output_type": "display_data"
        }
      ],
      "source": [
        "z=np.random.randn(5000000,1) # NUMPY has built-in functions for Normal random numbers (notice its randN for normal random)\n",
        "import matplotlib.mlab as mlab\n",
        "num_bins = 1000\n",
        "n, bins, patches = plt.hist(z, num_bins, facecolor='black', alpha=0.5) # More the data points, smoother the Gaussian!!!"
      ]
    },
    {
      "cell_type": "code",
      "execution_count": null,
      "metadata": {
        "id": "Gs-yx1vzI1GC"
      },
      "outputs": [],
      "source": [
        "np.random.randn?"
      ]
    },
    {
      "cell_type": "code",
      "execution_count": null,
      "metadata": {
        "scrolled": true,
        "id": "oe4k-d4MI1GC",
        "outputId": "e377e0ad-aff2-46a4-84e8-f93c58489882"
      },
      "outputs": [
        {
          "data": {
            "image/png": "[encoded data removed]",
            "text/plain": [
              "<Figure size 640x480 with 1 Axes>"
            ]
          },
          "metadata": {},
          "output_type": "display_data"
        }
      ],
      "source": [
        "c = np.linspace(-np.pi, np.pi, 10001)   # start, end, num-points\n",
        "x = np.exp(-c**2)\n",
        "plt.plot(c,x,'k.-') # Plot a Gaussian just to see!\n",
        "plt.show()"
      ]
    },
    {
      "cell_type": "code",
      "execution_count": null,
      "metadata": {
        "id": "ckRqT-pYI1GD",
        "outputId": "bf6391d1-aba7-47aa-f0f9-3169c7688511"
      },
      "outputs": [
        {
          "data": {
            "text/plain": [
              "array([[1., 0., 0., 0.],\n",
              "       [0., 1., 0., 0.],\n",
              "       [0., 0., 1., 0.],\n",
              "       [0., 0., 0., 1.]])"
            ]
          },
          "execution_count": 64,
          "metadata": {},
          "output_type": "execute_result"
        }
      ],
      "source": [
        "w=np.eye(4) # eye produces IDENTITY operators in D-dimensions\n",
        "w"
      ]
    },
    {
      "cell_type": "code",
      "execution_count": null,
      "metadata": {
        "id": "4mmnPjzZI1GD",
        "outputId": "87685a13-eac8-4be1-d3eb-15888fc5ab7e"
      },
      "outputs": [
        {
          "data": {
            "text/plain": [
              "array([[15., 15., 15., 15.],\n",
              "       [15., 15., 15., 15.],\n",
              "       [15., 15., 15., 15.],\n",
              "       [15., 15., 15., 15.]])"
            ]
          },
          "execution_count": 65,
          "metadata": {},
          "output_type": "execute_result"
        }
      ],
      "source": [
        "w=15*np.ones([4,4]) # ones produces a matrix filled with the number 1.\n",
        "w"
      ]
    },
    {
      "cell_type": "markdown",
      "metadata": {
        "id": "DUy9ZuLXI1GD"
      },
      "source": [
        "# You can declare custom arrays in np"
      ]
    },
    {
      "cell_type": "code",
      "execution_count": null,
      "metadata": {
        "id": "i_4dodYLI1GE"
      },
      "outputs": [],
      "source": [
        "a=np.array([1.,2.])\n",
        "b=np.array([-2.,4.])"
      ]
    },
    {
      "cell_type": "code",
      "execution_count": null,
      "metadata": {
        "id": "P2LSfKNjI1GE",
        "outputId": "f0923462-2118-4ade-c385-d1eeaff23c1e"
      },
      "outputs": [
        {
          "data": {
            "text/plain": [
              "6.0"
            ]
          },
          "execution_count": 67,
          "metadata": {},
          "output_type": "execute_result"
        }
      ],
      "source": [
        "np.dot(a,b)"
      ]
    },
    {
      "cell_type": "code",
      "execution_count": null,
      "metadata": {
        "id": "uN6uIR1II1GE",
        "outputId": "d981dfb8-84eb-4b30-db17-7df2ea35a6a2"
      },
      "outputs": [
        {
          "data": {
            "text/plain": [
              "6.0"
            ]
          },
          "execution_count": 68,
          "metadata": {},
          "output_type": "execute_result"
        }
      ],
      "source": [
        "a.dot(b) # Also an \"instance method\". This means you can call dot() on a"
      ]
    },
    {
      "cell_type": "markdown",
      "metadata": {
        "id": "mCd9ToF_I1GF"
      },
      "source": [
        "## We can start applying this to physics.\n",
        "Two state system."
      ]
    },
    {
      "cell_type": "markdown",
      "metadata": {
        "id": "x6z6Wx3RI1GF"
      },
      "source": [
        "# Unitary matrices are matrices that obey $UU^{\\dagger}=U^{\\dagger}U=I$.\n",
        "# In quantum mechanics $U(dt):=e^{-i \\frac{H dt}{\\hbar}}$"
      ]
    },
    {
      "cell_type": "code",
      "execution_count": null,
      "metadata": {
        "id": "lm5FRz6OI1GG"
      },
      "outputs": [],
      "source": [
        "U=np.array([[0,1],[1,0]])\n",
        "up=np.array([1,0])\n",
        "down=np.array([0,1])"
      ]
    },
    {
      "cell_type": "code",
      "execution_count": null,
      "metadata": {
        "id": "DwZpqq4dI1GG",
        "outputId": "2fa5b2ad-9bdb-4fee-b62f-25ab43ac0a54"
      },
      "outputs": [
        {
          "data": {
            "text/plain": [
              "array([0, 1])"
            ]
          },
          "execution_count": 71,
          "metadata": {},
          "output_type": "execute_result"
        }
      ],
      "source": [
        "U.dot(up) # U acting on |spin up >"
      ]
    },
    {
      "cell_type": "code",
      "execution_count": null,
      "metadata": {
        "id": "8iu0hgKOI1GH",
        "outputId": "97a6d7a8-d2b6-48fe-a495-6099b93939df"
      },
      "outputs": [
        {
          "data": {
            "text/plain": [
              "array([1, 0])"
            ]
          },
          "execution_count": 72,
          "metadata": {},
          "output_type": "execute_result"
        }
      ],
      "source": [
        "U.dot(down)"
      ]
    },
    {
      "cell_type": "code",
      "execution_count": null,
      "metadata": {
        "id": "11NEk9aBI1GH",
        "outputId": "79b5b729-a911-43a9-8057-87ba7d0336d4"
      },
      "outputs": [
        {
          "data": {
            "text/plain": [
              "array([0.70710678, 0.70710678])"
            ]
          },
          "execution_count": 73,
          "metadata": {},
          "output_type": "execute_result"
        }
      ],
      "source": [
        "U.dot((up+down)/np.sqrt(2))"
      ]
    },
    {
      "cell_type": "code",
      "execution_count": null,
      "metadata": {
        "id": "V-pF-BEHI1GH",
        "outputId": "b67461c6-9881-4936-c596-a7e04e66a686"
      },
      "outputs": [
        {
          "data": {
            "text/plain": [
              "array([-0.70710678,  0.70710678])"
            ]
          },
          "execution_count": 75,
          "metadata": {},
          "output_type": "execute_result"
        }
      ],
      "source": [
        "U.dot((up-down)/np.sqrt(2)) #what is the physical meaning of this?"
      ]
    },
    {
      "cell_type": "code",
      "execution_count": null,
      "metadata": {
        "id": "3sNZI7R7I1GI"
      },
      "outputs": [],
      "source": [
        "H=np.kron(np.array([[1,0],[0,-1]]),np.array([[1,0],[0,1]]))+np.kron(np.array([[1,0],[0,1]]),np.array([[1,0],[0,-1]]))+np.array([[1,0,0,0],[0,0,1,0],[0,1,0,0],[0,0,0,1]])"
      ]
    },
    {
      "cell_type": "code",
      "execution_count": null,
      "metadata": {
        "id": "1qqaTwYhI1GI",
        "outputId": "aabec6a0-a258-4cd3-e9cf-1ef2fcf9697e"
      },
      "outputs": [
        {
          "data": {
            "text/plain": [
              "array([[1.        +0.j        , 0.54030231+0.84147098j],\n",
              "       [0.54030231+0.84147098j, 1.        +0.j        ]])"
            ]
          },
          "execution_count": 80,
          "metadata": {},
          "output_type": "execute_result"
        }
      ],
      "source": [
        "M=np.array([[0,1],[1,0]])\n",
        "np.exp(1j*M) # exponentiates ONLY the elements of the matrix. I dont want that . I want the matrix Exponential."
      ]
    },
    {
      "cell_type": "code",
      "execution_count": null,
      "metadata": {
        "id": "PiaDNMo4I1GI",
        "outputId": "23341dac-f71a-4b5c-92d7-cabb7654e939"
      },
      "outputs": [
        {
          "data": {
            "text/plain": [
              "array([[0.54030231+0.j        , 0.        +0.84147098j],\n",
              "       [0.        +0.84147098j, 0.54030231+0.j        ]])"
            ]
          },
          "execution_count": 81,
          "metadata": {},
          "output_type": "execute_result"
        }
      ],
      "source": [
        "expm(1j*M) # Matrix exponential"
      ]
    },
    {
      "cell_type": "code",
      "execution_count": null,
      "metadata": {
        "id": "tJIZAAkzI1GJ"
      },
      "outputs": [],
      "source": [
        "expm?"
      ]
    },
    {
      "cell_type": "code",
      "execution_count": null,
      "metadata": {
        "id": "DmOKsIYLI1GJ"
      },
      "outputs": [],
      "source": [
        "σ=np.zeros([4,2,2])+1j*np.zeros([4,2,2])\n",
        "σ[0]=np.eye(2)\n",
        "σ[1]=np.array([[0,1],[1,0]])\n",
        "σ[2]=np.array([[0,-1j],[1j,0]])\n",
        "σ[3]=np.array([[1,0],[0,-1]])"
      ]
    },
    {
      "cell_type": "code",
      "execution_count": null,
      "metadata": {
        "id": "u3HcEB6dI1GJ"
      },
      "outputs": [],
      "source": [
        "σ1 = [np.kron(k,np.eye(2)) for k in σ]\n",
        "σ2 = [np.kron(np.eye(2),k) for k in σ]\n",
        "O  = [np.kron(s1,s2) for s1 in σ for s2 in σ]"
      ]
    },
    {
      "cell_type": "code",
      "execution_count": null,
      "metadata": {
        "id": "ns8_s4SsI1GJ",
        "outputId": "cc5f54f4-92af-44d4-f31b-5404c881ae99"
      },
      "outputs": [
        {
          "data": {
            "text/plain": [
              "array([[0.+0.j, 0.+0.j, 1.+0.j, 0.+0.j],\n",
              "       [0.+0.j, 0.+0.j, 0.+0.j, 1.+0.j],\n",
              "       [1.+0.j, 0.+0.j, 0.+0.j, 0.+0.j],\n",
              "       [0.+0.j, 1.+0.j, 0.+0.j, 0.+0.j]])"
            ]
          },
          "execution_count": 85,
          "metadata": {},
          "output_type": "execute_result"
        }
      ],
      "source": [
        "σ1[1]"
      ]
    },
    {
      "cell_type": "code",
      "execution_count": null,
      "metadata": {
        "id": "eQc61peJI1GK",
        "outputId": "2205834d-ea92-4b5b-800c-20c9a29e0821"
      },
      "outputs": [
        {
          "data": {
            "text/plain": [
              "array([[0.+0.j, 1.+0.j, 0.+0.j, 0.+0.j],\n",
              "       [1.+0.j, 0.+0.j, 0.+0.j, 0.+0.j],\n",
              "       [0.+0.j, 0.+0.j, 0.+0.j, 1.+0.j],\n",
              "       [0.+0.j, 0.+0.j, 1.+0.j, 0.+0.j]])"
            ]
          },
          "execution_count": 86,
          "metadata": {},
          "output_type": "execute_result"
        }
      ],
      "source": [
        "σ2[1]"
      ]
    },
    {
      "cell_type": "code",
      "execution_count": null,
      "metadata": {
        "id": "Fo7KwSJfI1GK",
        "outputId": "2335be25-7f77-48bb-9911-ed4d51512cfb"
      },
      "outputs": [
        {
          "data": {
            "text/plain": [
              "array([[ 0.+0.j,  1.+0.j,  0.+0.j,  0.+0.j],\n",
              "       [ 1.+0.j,  0.+0.j,  0.+0.j,  0.+0.j],\n",
              "       [ 0.+0.j,  0.+0.j, -0.+0.j, -1.+0.j],\n",
              "       [ 0.+0.j,  0.+0.j, -1.+0.j, -0.+0.j]])"
            ]
          },
          "execution_count": 87,
          "metadata": {},
          "output_type": "execute_result"
        }
      ],
      "source": [
        "O[13]"
      ]
    },
    {
      "cell_type": "markdown",
      "metadata": {
        "id": "kpnye3fmI1GK"
      },
      "source": [
        "\n",
        " [1] Consider a quantum system initially in the ground state. If the evolution by time $dt$ is given by $e^{(-i \\sigma_x dt)}$ acting on the state $\\vert\\psi(0)\\rangle=(0,1)^{T}$, simulate this for $10^5$ timesteps with $dt=\\pi\\times 10^{-5}$. Verify by looking at $\\langle \\psi(t)\\vert\\sigma_z\\vert\\psi(t)\\rangle$\n",
        "\n",
        "[2] Generate all possible basis matrices for eight-level systems. Note that basis matrices can be generated by starting with a random matrix and applying the Gram-Schmidt orthogonalisation method you learned in basic quantum mechanics.\n",
        "\n",
        " [3] Generate an arbitrary $12\\times 12$ unitary matrix by using your knowledge of quantum mechanics. Compute its eigenvectors and from your knowledge of eigenvectors of a unitary matrix argue that you have a basis."
      ]
    },
    {
      "cell_type": "code",
      "execution_count": null,
      "metadata": {
        "id": "COB1n6KoI1GK"
      },
      "outputs": [],
      "source": []
    },
    {
      "cell_type": "code",
      "execution_count": null,
      "metadata": {
        "id": "Tg5lWS5UI1GL"
      },
      "outputs": [],
      "source": []
    }
  ],
  "metadata": {
    "kernelspec": {
      "display_name": "Python 3 (ipykernel)",
      "language": "python",
      "name": "python3"
    },
    "language_info": {
      "codemirror_mode": {
        "name": "ipython",
        "version": 3
      },
      "file_extension": ".py",
      "mimetype": "text/x-python",
      "name": "python",
      "nbconvert_exporter": "python",
      "pygments_lexer": "ipython3",
      "version": "3.9.12"
    },
    "colab": {
      "provenance": [],
      "include_colab_link": true
    }
  },
  "nbformat": 4,
  "nbformat_minor": 0
}