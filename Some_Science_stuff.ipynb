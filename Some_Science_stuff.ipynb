{
  "cells": [
    {
      "cell_type": "markdown",
      "metadata": {
        "id": "view-in-github",
        "colab_type": "text"
      },
      "source": [
        "<a href=\"https://colab.research.google.com/github/AthulSuresh21/Scientific_computing/blob/main/Some_Science_stuff.ipynb\" target=\"_parent\"><img src=\"https://colab.research.google.com/assets/colab-badge.svg\" alt=\"Open In Colab\"/></a>"
      ]
    },
    {
      "cell_type": "code",
      "execution_count": null,
      "id": "e7616c8d",
      "metadata": {
        "id": "e7616c8d"
      },
      "outputs": [],
      "source": [
        "import sympy as smp\n",
        "import scipy as scp\n",
        "import numpy as np\n",
        "import matplotlib.pyplot as plt"
      ]
    },
    {
      "cell_type": "code",
      "execution_count": null,
      "id": "77345450",
      "metadata": {
        "id": "77345450"
      },
      "outputs": [],
      "source": [
        "x,y,a,b = smp.symbols('x y a b',real=True)"
      ]
    },
    {
      "cell_type": "code",
      "execution_count": null,
      "id": "eb130ac1",
      "metadata": {
        "id": "eb130ac1"
      },
      "outputs": [],
      "source": [
        "f_x = x**3*smp.sin(x)"
      ]
    },
    {
      "cell_type": "code",
      "execution_count": null,
      "id": "8d3d01f6",
      "metadata": {
        "id": "8d3d01f6",
        "outputId": "1d2c6a11-43e0-44a4-e5f7-8a2f08067e84"
      },
      "outputs": [
        {
          "data": {
            "text/latex": [
              "$\\displaystyle - x^{3} \\cos{\\left(x \\right)} + 3 x^{2} \\sin{\\left(x \\right)} + 6 x \\cos{\\left(x \\right)} - 6 \\sin{\\left(x \\right)}$"
            ],
            "text/plain": [
              "-x**3*cos(x) + 3*x**2*sin(x) + 6*x*cos(x) - 6*sin(x)"
            ]
          },
          "execution_count": 17,
          "metadata": {},
          "output_type": "execute_result"
        }
      ],
      "source": [
        "smp.integrate(f_x,x)"
      ]
    },
    {
      "cell_type": "code",
      "execution_count": null,
      "id": "a1555360",
      "metadata": {
        "id": "a1555360"
      },
      "outputs": [],
      "source": [
        "f_x = smp.exp(-x**2)"
      ]
    },
    {
      "cell_type": "code",
      "execution_count": null,
      "id": "0972f0de",
      "metadata": {
        "id": "0972f0de",
        "outputId": "41004f0c-318c-4047-d1a8-cc87dc805b89"
      },
      "outputs": [
        {
          "data": {
            "text/latex": [
              "$\\displaystyle \\frac{\\sqrt{\\pi} \\operatorname{erf}{\\left(x \\right)}}{2}$"
            ],
            "text/plain": [
              "sqrt(pi)*erf(x)/2"
            ]
          },
          "execution_count": 19,
          "metadata": {},
          "output_type": "execute_result"
        }
      ],
      "source": [
        "smp.integrate(f_x,x)"
      ]
    },
    {
      "cell_type": "code",
      "execution_count": null,
      "id": "4709dbd7",
      "metadata": {
        "id": "4709dbd7",
        "outputId": "c50e0e86-f854-4326-f55f-adc6352c60fa"
      },
      "outputs": [
        {
          "data": {
            "text/latex": [
              "$\\displaystyle \\frac{x \\sqrt{x^{2} + 1}}{2} + \\frac{\\operatorname{asinh}{\\left(x \\right)}}{2}$"
            ],
            "text/plain": [
              "x*sqrt(x**2 + 1)/2 + asinh(x)/2"
            ]
          },
          "execution_count": 20,
          "metadata": {},
          "output_type": "execute_result"
        }
      ],
      "source": [
        "smp.integrate(smp.sqrt(1+x**2),x)"
      ]
    },
    {
      "cell_type": "code",
      "execution_count": null,
      "id": "33f66b18",
      "metadata": {
        "id": "33f66b18",
        "outputId": "b77ab2d3-ebbd-4030-9dfa-b08b08b40668"
      },
      "outputs": [
        {
          "data": {
            "text/latex": [
              "$\\displaystyle \\sqrt{\\pi}$"
            ],
            "text/plain": [
              "sqrt(pi)"
            ]
          },
          "execution_count": 21,
          "metadata": {},
          "output_type": "execute_result"
        }
      ],
      "source": [
        "smp.integrate(smp.exp(-x**2),(x,-smp.oo,+smp.oo))"
      ]
    },
    {
      "cell_type": "code",
      "execution_count": null,
      "id": "3321deb4",
      "metadata": {
        "id": "3321deb4",
        "outputId": "43ad495e-78bf-4a25-f233-9cab7396a1fb"
      },
      "outputs": [
        {
          "data": {
            "text/latex": [
              "$\\displaystyle \\frac{\\sqrt{\\pi} \\left(1 - e^{-1}\\right)}{2}$"
            ],
            "text/plain": [
              "sqrt(pi)*(1 - exp(-1))/2"
            ]
          },
          "execution_count": 22,
          "metadata": {},
          "output_type": "execute_result"
        }
      ],
      "source": [
        "smp.integrate((smp.sin(x))**2*smp.exp(-x**2),(x,-smp.oo,+smp.oo))"
      ]
    },
    {
      "cell_type": "code",
      "execution_count": null,
      "id": "fbab0dc6",
      "metadata": {
        "id": "fbab0dc6",
        "outputId": "344d5fc4-125d-4e6b-f84b-ecd723e93350"
      },
      "outputs": [
        {
          "data": {
            "text/latex": [
              "$\\displaystyle \\sin^{2}{\\left(2 \\right)}$"
            ],
            "text/plain": [
              "sin(2)**2"
            ]
          },
          "execution_count": 23,
          "metadata": {},
          "output_type": "execute_result"
        }
      ],
      "source": [
        "smp.integrate((smp.sin(x))**2*smp.DiracDelta(x-2),(x,-smp.oo,+smp.oo))"
      ]
    },
    {
      "cell_type": "code",
      "execution_count": null,
      "id": "48f63936",
      "metadata": {
        "id": "48f63936",
        "outputId": "b1384e2b-e8bf-4fae-fc88-fd218c394c99"
      },
      "outputs": [
        {
          "data": {
            "text/latex": [
              "$\\displaystyle \\frac{3 \\sqrt{2} \\sqrt{\\pi} S\\left(\\frac{\\sqrt{2} y}{\\sqrt{\\pi}}\\right) \\Gamma\\left(\\frac{3}{4}\\right)}{8 \\Gamma\\left(\\frac{7}{4}\\right)}$"
            ],
            "text/plain": [
              "3*sqrt(2)*sqrt(pi)*fresnels(sqrt(2)*y/sqrt(pi))*gamma(3/4)/(8*gamma(7/4))"
            ]
          },
          "execution_count": 24,
          "metadata": {},
          "output_type": "execute_result"
        }
      ],
      "source": [
        "smp.integrate(smp.sin(x**2),(x,0,y))"
      ]
    },
    {
      "cell_type": "code",
      "execution_count": null,
      "id": "6622f93f",
      "metadata": {
        "id": "6622f93f",
        "outputId": "368e658a-e037-4d9a-b55f-f26ab6f05fdc"
      },
      "outputs": [
        {
          "data": {
            "text/latex": [
              "$\\displaystyle \\frac{x^{5}}{5}$"
            ],
            "text/plain": [
              "x**5/5"
            ]
          },
          "execution_count": 25,
          "metadata": {},
          "output_type": "execute_result"
        }
      ],
      "source": [
        "smp.integrate((1+x**4)/(1+x**-4),x)"
      ]
    },
    {
      "cell_type": "code",
      "execution_count": null,
      "id": "07283c7f",
      "metadata": {
        "id": "07283c7f",
        "outputId": "4cb9d8c9-0830-4cf8-a4e5-d702d32611c0"
      },
      "outputs": [
        {
          "data": {
            "text/latex": [
              "$\\displaystyle \\pi$"
            ],
            "text/plain": [
              "pi"
            ]
          },
          "execution_count": 27,
          "metadata": {},
          "output_type": "execute_result"
        }
      ],
      "source": [
        "smp.integrate(1/((1+x)*smp.sqrt(x)),(x,0,smp.oo))"
      ]
    },
    {
      "cell_type": "code",
      "execution_count": null,
      "id": "80df48b9",
      "metadata": {
        "id": "80df48b9",
        "outputId": "a8919365-a686-42a7-82d3-c35ee6aa0f00"
      },
      "outputs": [
        {
          "data": {
            "text/latex": [
              "$\\displaystyle \\frac{\\pi}{2}$"
            ],
            "text/plain": [
              "pi/2"
            ]
          },
          "execution_count": 29,
          "metadata": {},
          "output_type": "execute_result"
        }
      ],
      "source": [
        "smp.integrate(smp.sinc(x),(x,0,smp.oo))"
      ]
    },
    {
      "cell_type": "code",
      "execution_count": null,
      "id": "a1552e87",
      "metadata": {
        "id": "a1552e87"
      },
      "outputs": [],
      "source": [
        "def LJ(r):\n",
        "    return 40*((2/r)**12-(2/r)**6)"
      ]
    },
    {
      "cell_type": "code",
      "execution_count": null,
      "id": "f532d8b3",
      "metadata": {
        "id": "f532d8b3"
      },
      "outputs": [],
      "source": [
        "r = np.linspace(1.8,5,1000)"
      ]
    },
    {
      "cell_type": "code",
      "execution_count": null,
      "id": "8ce16ec0",
      "metadata": {
        "id": "8ce16ec0",
        "outputId": "712c1618-f4b2-4639-e9b2-5c8c75ffeb55"
      },
      "outputs": [
        {
          "data": {
            "text/plain": [
              "[<matplotlib.lines.Line2D at 0x7f5a9f666b80>]"
            ]
          },
          "execution_count": 42,
          "metadata": {},
          "output_type": "execute_result"
        },
        {
          "data": {
            "image/png": "[encoded data removed]",
            "text/plain": [
              "<Figure size 640x480 with 1 Axes>"
            ]
          },
          "metadata": {},
          "output_type": "display_data"
        }
      ],
      "source": [
        "plt.plot(r,LJ(r))"
      ]
    },
    {
      "cell_type": "code",
      "execution_count": null,
      "id": "9b5395c7",
      "metadata": {
        "id": "9b5395c7"
      },
      "outputs": [],
      "source": [
        "min_LJ = scp.optimize.minimize(LJ,1.9)"
      ]
    },
    {
      "cell_type": "code",
      "execution_count": null,
      "id": "660317fc",
      "metadata": {
        "id": "660317fc",
        "outputId": "0abba52d-8bfe-4abc-8799-c3c29c9a1974"
      },
      "outputs": [
        {
          "data": {
            "text/plain": [
              "  message: Optimization terminated successfully.\n",
              "  success: True\n",
              "   status: 0\n",
              "      fun: -9.999999999999941\n",
              "        x: [ 2.245e+00]\n",
              "      nit: 6\n",
              "      jac: [ 5.364e-06]\n",
              " hess_inv: [[ 6.977e-03]]\n",
              "     nfev: 30\n",
              "     njev: 15"
            ]
          },
          "execution_count": 44,
          "metadata": {},
          "output_type": "execute_result"
        }
      ],
      "source": [
        "min_LJ"
      ]
    },
    {
      "cell_type": "code",
      "execution_count": null,
      "id": "e7233754",
      "metadata": {
        "id": "e7233754",
        "outputId": "baa2cc06-ded4-40bd-af3e-2cede4d27467"
      },
      "outputs": [
        {
          "data": {
            "text/plain": [
              "2.244924125547203"
            ]
          },
          "execution_count": 45,
          "metadata": {},
          "output_type": "execute_result"
        }
      ],
      "source": [
        "min_LJ.x[0]"
      ]
    },
    {
      "cell_type": "code",
      "execution_count": null,
      "id": "c01bbce3",
      "metadata": {
        "id": "c01bbce3",
        "outputId": "e9010af5-bd99-4df9-874a-aa053c40110e"
      },
      "outputs": [
        {
          "data": {
            "text/plain": [
              "2.244924096618746"
            ]
          },
          "execution_count": 47,
          "metadata": {},
          "output_type": "execute_result"
        }
      ],
      "source": [
        "(2**(1/6))*2"
      ]
    },
    {
      "cell_type": "code",
      "execution_count": null,
      "id": "c2882030",
      "metadata": {
        "id": "c2882030"
      },
      "outputs": [],
      "source": [
        "x = np.linspace(-1,1,1000)"
      ]
    },
    {
      "cell_type": "code",
      "execution_count": null,
      "id": "7dd59378",
      "metadata": {
        "id": "7dd59378"
      },
      "outputs": [],
      "source": [
        "y = scp.special.legendre(2)(x)"
      ]
    },
    {
      "cell_type": "code",
      "execution_count": null,
      "id": "728118c3",
      "metadata": {
        "id": "728118c3",
        "outputId": "51d80faf-fe12-4b73-93f0-f05fe173130e"
      },
      "outputs": [
        {
          "data": {
            "text/plain": [
              "1000"
            ]
          },
          "execution_count": 68,
          "metadata": {},
          "output_type": "execute_result"
        }
      ],
      "source": [
        "len(y)"
      ]
    },
    {
      "cell_type": "code",
      "execution_count": null,
      "id": "d7228ca3",
      "metadata": {
        "id": "d7228ca3",
        "outputId": "63228995-099c-4c4a-bfdc-35facbdf3dbf"
      },
      "outputs": [
        {
          "data": {
            "text/plain": [
              "array([ 1.00000000e+00,  9.94000006e-01,  9.88012036e-01,  9.82036090e-01,\n",
              "        9.76072168e-01,  9.70120270e-01,  9.64180397e-01,  9.58252547e-01,\n",
              "        9.52336721e-01,  9.46432919e-01,  9.40541142e-01,  9.34661388e-01,\n",
              "        9.28793659e-01,  9.22937953e-01,  9.17094271e-01,  9.11262614e-01,\n",
              "        9.05442981e-01,  8.99635371e-01,  8.93839786e-01,  8.88056224e-01,\n",
              "        8.82284687e-01,  8.76525174e-01,  8.70777685e-01,  8.65042219e-01,\n",
              "        8.59318778e-01,  8.53607361e-01,  8.47907968e-01,  8.42220599e-01,\n",
              "        8.36545254e-01,  8.30881933e-01,  8.25230636e-01,  8.19591363e-01,\n",
              "        8.13964114e-01,  8.08348889e-01,  8.02745689e-01,  7.97154512e-01,\n",
              "        7.91575359e-01,  7.86008230e-01,  7.80453126e-01,  7.74910045e-01,\n",
              "        7.69378989e-01,  7.63859956e-01,  7.58352948e-01,  7.52857963e-01,\n",
              "        7.47375003e-01,  7.41904066e-01,  7.36445154e-01,  7.30998266e-01,\n",
              "        7.25563401e-01,  7.20140561e-01,  7.14729745e-01,  7.09330953e-01,\n",
              "        7.03944184e-01,  6.98569440e-01,  6.93206720e-01,  6.87856024e-01,\n",
              "        6.82517352e-01,  6.77190704e-01,  6.71876080e-01,  6.66573480e-01,\n",
              "        6.61282905e-01,  6.56004353e-01,  6.50737825e-01,  6.45483321e-01,\n",
              "        6.40240841e-01,  6.35010386e-01,  6.29791954e-01,  6.24585547e-01,\n",
              "        6.19391163e-01,  6.14208803e-01,  6.09038468e-01,  6.03880156e-01,\n",
              "        5.98733869e-01,  5.93599606e-01,  5.88477366e-01,  5.83367151e-01,\n",
              "        5.78268960e-01,  5.73182792e-01,  5.68108649e-01,  5.63046530e-01,\n",
              "        5.57996435e-01,  5.52958364e-01,  5.47932317e-01,  5.42918294e-01,\n",
              "        5.37916295e-01,  5.32926320e-01,  5.27948369e-01,  5.22982442e-01,\n",
              "        5.18028539e-01,  5.13086660e-01,  5.08156805e-01,  5.03238975e-01,\n",
              "        4.98333168e-01,  4.93439385e-01,  4.88557627e-01,  4.83687892e-01,\n",
              "        4.78830182e-01,  4.73984495e-01,  4.69150833e-01,  4.64329194e-01,\n",
              "        4.59519580e-01,  4.54721989e-01,  4.49936423e-01,  4.45162881e-01,\n",
              "        4.40401362e-01,  4.35651868e-01,  4.30914398e-01,  4.26188952e-01,\n",
              "        4.21475530e-01,  4.16774131e-01,  4.12084757e-01,  4.07407407e-01,\n",
              "        4.02742081e-01,  3.98088779e-01,  3.93447502e-01,  3.88818248e-01,\n",
              "        3.84201018e-01,  3.79595812e-01,  3.75002630e-01,  3.70421473e-01,\n",
              "        3.65852339e-01,  3.61295229e-01,  3.56750144e-01,  3.52217082e-01,\n",
              "        3.47696044e-01,  3.43187031e-01,  3.38690041e-01,  3.34205076e-01,\n",
              "        3.29732135e-01,  3.25271217e-01,  3.20822324e-01,  3.16385455e-01,\n",
              "        3.11960609e-01,  3.07547788e-01,  3.03146991e-01,  2.98758218e-01,\n",
              "        2.94381469e-01,  2.90016743e-01,  2.85664042e-01,  2.81323365e-01,\n",
              "        2.76994712e-01,  2.72678083e-01,  2.68373479e-01,  2.64080898e-01,\n",
              "        2.59800341e-01,  2.55531808e-01,  2.51275299e-01,  2.47030815e-01,\n",
              "        2.42798354e-01,  2.38577917e-01,  2.34369505e-01,  2.30173116e-01,\n",
              "        2.25988752e-01,  2.21816411e-01,  2.17656095e-01,  2.13507802e-01,\n",
              "        2.09371534e-01,  2.05247289e-01,  2.01135069e-01,  1.97034873e-01,\n",
              "        1.92946700e-01,  1.88870552e-01,  1.84806428e-01,  1.80754328e-01,\n",
              "        1.76714252e-01,  1.72686200e-01,  1.68670172e-01,  1.64666168e-01,\n",
              "        1.60674188e-01,  1.56694232e-01,  1.52726300e-01,  1.48770392e-01,\n",
              "        1.44826508e-01,  1.40894648e-01,  1.36974813e-01,  1.33067001e-01,\n",
              "        1.29171213e-01,  1.25287450e-01,  1.21415710e-01,  1.17555994e-01,\n",
              "        1.13708303e-01,  1.09872635e-01,  1.06048992e-01,  1.02237373e-01,\n",
              "        9.84377771e-02,  9.46502058e-02,  9.08746584e-02,  8.71111352e-02,\n",
              "        8.33596359e-02,  7.96201607e-02,  7.58927095e-02,  7.21772824e-02,\n",
              "        6.84738793e-02,  6.47825002e-02,  6.11031452e-02,  5.74358142e-02,\n",
              "        5.37805072e-02,  5.01372243e-02,  4.65059654e-02,  4.28867306e-02,\n",
              "        3.92795198e-02,  3.56843330e-02,  3.21011702e-02,  2.85300315e-02,\n",
              "        2.49709169e-02,  2.14238262e-02,  1.78887596e-02,  1.43657171e-02,\n",
              "        1.08546985e-02,  7.35570405e-03,  3.86873360e-03,  3.93787181e-04,\n",
              "       -3.06913520e-03, -6.52003355e-03, -9.95890786e-03, -1.33857581e-02,\n",
              "       -1.68005844e-02, -2.02033866e-02, -2.35941647e-02, -2.69729189e-02,\n",
              "       -3.03396490e-02, -3.36943550e-02, -3.70370370e-02, -4.03676950e-02,\n",
              "       -4.36863290e-02, -4.69929389e-02, -5.02875248e-02, -5.35700866e-02,\n",
              "       -5.68406244e-02, -6.00991382e-02, -6.33456279e-02, -6.65800936e-02,\n",
              "       -6.98025353e-02, -7.30129529e-02, -7.62113465e-02, -7.93977160e-02,\n",
              "       -8.25720616e-02, -8.57343830e-02, -8.88846805e-02, -9.20229539e-02,\n",
              "       -9.51492033e-02, -9.82634286e-02, -1.01365630e-01, -1.04455807e-01,\n",
              "       -1.07533960e-01, -1.10600090e-01, -1.13654195e-01, -1.16696276e-01,\n",
              "       -1.19726333e-01, -1.22744366e-01, -1.25750375e-01, -1.28744360e-01,\n",
              "       -1.31726321e-01, -1.34696258e-01, -1.37654171e-01, -1.40600060e-01,\n",
              "       -1.43533924e-01, -1.46455765e-01, -1.49365582e-01, -1.52263374e-01,\n",
              "       -1.55149143e-01, -1.58022888e-01, -1.60884608e-01, -1.63734305e-01,\n",
              "       -1.66571977e-01, -1.69397626e-01, -1.72211250e-01, -1.75012851e-01,\n",
              "       -1.77802427e-01, -1.80579979e-01, -1.83345508e-01, -1.86099012e-01,\n",
              "       -1.88840492e-01, -1.91569948e-01, -1.94287380e-01, -1.96992789e-01,\n",
              "       -1.99686173e-01, -2.02367533e-01, -2.05036869e-01, -2.07694181e-01,\n",
              "       -2.10339469e-01, -2.12972732e-01, -2.15593972e-01, -2.18203188e-01,\n",
              "       -2.20800380e-01, -2.23385548e-01, -2.25958691e-01, -2.28519811e-01,\n",
              "       -2.31068907e-01, -2.33605978e-01, -2.36131026e-01, -2.38644049e-01,\n",
              "       -2.41145049e-01, -2.43634024e-01, -2.46110976e-01, -2.48575903e-01,\n",
              "       -2.51028807e-01, -2.53469686e-01, -2.55898541e-01, -2.58315372e-01,\n",
              "       -2.60720180e-01, -2.63112963e-01, -2.65493722e-01, -2.67862457e-01,\n",
              "       -2.70219168e-01, -2.72563855e-01, -2.74896518e-01, -2.77217157e-01,\n",
              "       -2.79525772e-01, -2.81822363e-01, -2.84106930e-01, -2.86379473e-01,\n",
              "       -2.88639991e-01, -2.90888486e-01, -2.93124957e-01, -2.95349403e-01,\n",
              "       -2.97561826e-01, -2.99762225e-01, -3.01950599e-01, -3.04126950e-01,\n",
              "       -3.06291276e-01, -3.08443579e-01, -3.10583857e-01, -3.12712112e-01,\n",
              "       -3.14828342e-01, -3.16932548e-01, -3.19024730e-01, -3.21104889e-01,\n",
              "       -3.23173023e-01, -3.25229133e-01, -3.27273219e-01, -3.29305281e-01,\n",
              "       -3.31325319e-01, -3.33333333e-01, -3.35329323e-01, -3.37313289e-01,\n",
              "       -3.39285231e-01, -3.41245149e-01, -3.43193043e-01, -3.45128913e-01,\n",
              "       -3.47052758e-01, -3.48964580e-01, -3.50864378e-01, -3.52752152e-01,\n",
              "       -3.54627901e-01, -3.56491627e-01, -3.58343328e-01, -3.60183006e-01,\n",
              "       -3.62010659e-01, -3.63826289e-01, -3.65629894e-01, -3.67421476e-01,\n",
              "       -3.69201033e-01, -3.70968566e-01, -3.72724075e-01, -3.74467561e-01,\n",
              "       -3.76199022e-01, -3.77918459e-01, -3.79625872e-01, -3.81321261e-01,\n",
              "       -3.83004626e-01, -3.84675967e-01, -3.86335284e-01, -3.87982577e-01,\n",
              "       -3.89617846e-01, -3.91241091e-01, -3.92852312e-01, -3.94451509e-01,\n",
              "       -3.96038681e-01, -3.97613830e-01, -3.99176955e-01, -4.00728055e-01,\n",
              "       -4.02267132e-01, -4.03794185e-01, -4.05309213e-01, -4.06812218e-01,\n",
              "       -4.08303198e-01, -4.09782155e-01, -4.11249087e-01, -4.12703995e-01,\n",
              "       -4.14146880e-01, -4.15577740e-01, -4.16996576e-01, -4.18403388e-01,\n",
              "       -4.19798177e-01, -4.21180941e-01, -4.22551681e-01, -4.23910397e-01,\n",
              "       -4.25257089e-01, -4.26591757e-01, -4.27914401e-01, -4.29225021e-01,\n",
              "       -4.30523617e-01, -4.31810189e-01, -4.33084736e-01, -4.34347260e-01,\n",
              "       -4.35597760e-01, -4.36836236e-01, -4.38062687e-01, -4.39277115e-01,\n",
              "       -4.40479519e-01, -4.41669898e-01, -4.42848254e-01, -4.44014585e-01,\n",
              "       -4.45168893e-01, -4.46311176e-01, -4.47441435e-01, -4.48559671e-01,\n",
              "       -4.49665882e-01, -4.50760069e-01, -4.51842233e-01, -4.52912372e-01,\n",
              "       -4.53970487e-01, -4.55016578e-01, -4.56050645e-01, -4.57072688e-01,\n",
              "       -4.58082707e-01, -4.59080702e-01, -4.60066673e-01, -4.61040620e-01,\n",
              "       -4.62002543e-01, -4.62952442e-01, -4.63890317e-01, -4.64816168e-01,\n",
              "       -4.65729994e-01, -4.66631797e-01, -4.67521576e-01, -4.68399330e-01,\n",
              "       -4.69265061e-01, -4.70118767e-01, -4.70960450e-01, -4.71790108e-01,\n",
              "       -4.72607743e-01, -4.73413353e-01, -4.74206940e-01, -4.74988502e-01,\n",
              "       -4.75758040e-01, -4.76515555e-01, -4.77261045e-01, -4.77994511e-01,\n",
              "       -4.78715953e-01, -4.79425371e-01, -4.80122765e-01, -4.80808135e-01,\n",
              "       -4.81481481e-01, -4.82142803e-01, -4.82792101e-01, -4.83429375e-01,\n",
              "       -4.84054625e-01, -4.84667851e-01, -4.85269053e-01, -4.85858231e-01,\n",
              "       -4.86435384e-01, -4.87000514e-01, -4.87553620e-01, -4.88094701e-01,\n",
              "       -4.88623759e-01, -4.89140792e-01, -4.89645802e-01, -4.90138787e-01,\n",
              "       -4.90619749e-01, -4.91088686e-01, -4.91545600e-01, -4.91990489e-01,\n",
              "       -4.92423354e-01, -4.92844196e-01, -4.93253013e-01, -4.93649806e-01,\n",
              "       -4.94034575e-01, -4.94407320e-01, -4.94768041e-01, -4.95116738e-01,\n",
              "       -4.95453411e-01, -4.95778060e-01, -4.96090685e-01, -4.96391286e-01,\n",
              "       -4.96679863e-01, -4.96956416e-01, -4.97220945e-01, -4.97473449e-01,\n",
              "       -4.97713930e-01, -4.97942387e-01, -4.98158819e-01, -4.98363228e-01,\n",
              "       -4.98555613e-01, -4.98735973e-01, -4.98904310e-01, -4.99060622e-01,\n",
              "       -4.99204911e-01, -4.99337175e-01, -4.99457415e-01, -4.99565632e-01,\n",
              "       -4.99661824e-01, -4.99745992e-01, -4.99818136e-01, -4.99878257e-01,\n",
              "       -4.99926353e-01, -4.99962425e-01, -4.99986473e-01, -4.99998497e-01,\n",
              "       -4.99998497e-01, -4.99986473e-01, -4.99962425e-01, -4.99926353e-01,\n",
              "       -4.99878257e-01, -4.99818136e-01, -4.99745992e-01, -4.99661824e-01,\n",
              "       -4.99565632e-01, -4.99457415e-01, -4.99337175e-01, -4.99204911e-01,\n",
              "       -4.99060622e-01, -4.98904310e-01, -4.98735973e-01, -4.98555613e-01,\n",
              "       -4.98363228e-01, -4.98158819e-01, -4.97942387e-01, -4.97713930e-01,\n",
              "       -4.97473449e-01, -4.97220945e-01, -4.96956416e-01, -4.96679863e-01,\n",
              "       -4.96391286e-01, -4.96090685e-01, -4.95778060e-01, -4.95453411e-01,\n",
              "       -4.95116738e-01, -4.94768041e-01, -4.94407320e-01, -4.94034575e-01,\n",
              "       -4.93649806e-01, -4.93253013e-01, -4.92844196e-01, -4.92423354e-01,\n",
              "       -4.91990489e-01, -4.91545600e-01, -4.91088686e-01, -4.90619749e-01,\n",
              "       -4.90138787e-01, -4.89645802e-01, -4.89140792e-01, -4.88623759e-01,\n",
              "       -4.88094701e-01, -4.87553620e-01, -4.87000514e-01, -4.86435384e-01,\n",
              "       -4.85858231e-01, -4.85269053e-01, -4.84667851e-01, -4.84054625e-01,\n",
              "       -4.83429375e-01, -4.82792101e-01, -4.82142803e-01, -4.81481481e-01,\n",
              "       -4.80808135e-01, -4.80122765e-01, -4.79425371e-01, -4.78715953e-01,\n",
              "       -4.77994511e-01, -4.77261045e-01, -4.76515555e-01, -4.75758040e-01,\n",
              "       -4.74988502e-01, -4.74206940e-01, -4.73413353e-01, -4.72607743e-01,\n",
              "       -4.71790108e-01, -4.70960450e-01, -4.70118767e-01, -4.69265061e-01,\n",
              "       -4.68399330e-01, -4.67521576e-01, -4.66631797e-01, -4.65729994e-01,\n",
              "       -4.64816168e-01, -4.63890317e-01, -4.62952442e-01, -4.62002543e-01,\n",
              "       -4.61040620e-01, -4.60066673e-01, -4.59080702e-01, -4.58082707e-01,\n",
              "       -4.57072688e-01, -4.56050645e-01, -4.55016578e-01, -4.53970487e-01,\n",
              "       -4.52912372e-01, -4.51842233e-01, -4.50760069e-01, -4.49665882e-01,\n",
              "       -4.48559671e-01, -4.47441435e-01, -4.46311176e-01, -4.45168893e-01,\n",
              "       -4.44014585e-01, -4.42848254e-01, -4.41669898e-01, -4.40479519e-01,\n",
              "       -4.39277115e-01, -4.38062687e-01, -4.36836236e-01, -4.35597760e-01,\n",
              "       -4.34347260e-01, -4.33084736e-01, -4.31810189e-01, -4.30523617e-01,\n",
              "       -4.29225021e-01, -4.27914401e-01, -4.26591757e-01, -4.25257089e-01,\n",
              "       -4.23910397e-01, -4.22551681e-01, -4.21180941e-01, -4.19798177e-01,\n",
              "       -4.18403388e-01, -4.16996576e-01, -4.15577740e-01, -4.14146880e-01,\n",
              "       -4.12703995e-01, -4.11249087e-01, -4.09782155e-01, -4.08303198e-01,\n",
              "       -4.06812218e-01, -4.05309213e-01, -4.03794185e-01, -4.02267132e-01,\n",
              "       -4.00728055e-01, -3.99176955e-01, -3.97613830e-01, -3.96038681e-01,\n",
              "       -3.94451509e-01, -3.92852312e-01, -3.91241091e-01, -3.89617846e-01,\n",
              "       -3.87982577e-01, -3.86335284e-01, -3.84675967e-01, -3.83004626e-01,\n",
              "       -3.81321261e-01, -3.79625872e-01, -3.77918459e-01, -3.76199022e-01,\n",
              "       -3.74467561e-01, -3.72724075e-01, -3.70968566e-01, -3.69201033e-01,\n",
              "       -3.67421476e-01, -3.65629894e-01, -3.63826289e-01, -3.62010659e-01,\n",
              "       -3.60183006e-01, -3.58343328e-01, -3.56491627e-01, -3.54627901e-01,\n",
              "       -3.52752152e-01, -3.50864378e-01, -3.48964580e-01, -3.47052758e-01,\n",
              "       -3.45128913e-01, -3.43193043e-01, -3.41245149e-01, -3.39285231e-01,\n",
              "       -3.37313289e-01, -3.35329323e-01, -3.33333333e-01, -3.31325319e-01,\n",
              "       -3.29305281e-01, -3.27273219e-01, -3.25229133e-01, -3.23173023e-01,\n",
              "       -3.21104889e-01, -3.19024730e-01, -3.16932548e-01, -3.14828342e-01,\n",
              "       -3.12712112e-01, -3.10583857e-01, -3.08443579e-01, -3.06291276e-01,\n",
              "       -3.04126950e-01, -3.01950599e-01, -2.99762225e-01, -2.97561826e-01,\n",
              "       -2.95349403e-01, -2.93124957e-01, -2.90888486e-01, -2.88639991e-01,\n",
              "       -2.86379473e-01, -2.84106930e-01, -2.81822363e-01, -2.79525772e-01,\n",
              "       -2.77217157e-01, -2.74896518e-01, -2.72563855e-01, -2.70219168e-01,\n",
              "       -2.67862457e-01, -2.65493722e-01, -2.63112963e-01, -2.60720180e-01,\n",
              "       -2.58315372e-01, -2.55898541e-01, -2.53469686e-01, -2.51028807e-01,\n",
              "       -2.48575903e-01, -2.46110976e-01, -2.43634024e-01, -2.41145049e-01,\n",
              "       -2.38644049e-01, -2.36131026e-01, -2.33605978e-01, -2.31068907e-01,\n",
              "       -2.28519811e-01, -2.25958691e-01, -2.23385548e-01, -2.20800380e-01,\n",
              "       -2.18203188e-01, -2.15593972e-01, -2.12972732e-01, -2.10339469e-01,\n",
              "       -2.07694181e-01, -2.05036869e-01, -2.02367533e-01, -1.99686173e-01,\n",
              "       -1.96992789e-01, -1.94287380e-01, -1.91569948e-01, -1.88840492e-01,\n",
              "       -1.86099012e-01, -1.83345508e-01, -1.80579979e-01, -1.77802427e-01,\n",
              "       -1.75012851e-01, -1.72211250e-01, -1.69397626e-01, -1.66571977e-01,\n",
              "       -1.63734305e-01, -1.60884608e-01, -1.58022888e-01, -1.55149143e-01,\n",
              "       -1.52263374e-01, -1.49365582e-01, -1.46455765e-01, -1.43533924e-01,\n",
              "       -1.40600060e-01, -1.37654171e-01, -1.34696258e-01, -1.31726321e-01,\n",
              "       -1.28744360e-01, -1.25750375e-01, -1.22744366e-01, -1.19726333e-01,\n",
              "       -1.16696276e-01, -1.13654195e-01, -1.10600090e-01, -1.07533960e-01,\n",
              "       -1.04455807e-01, -1.01365630e-01, -9.82634286e-02, -9.51492033e-02,\n",
              "       -9.20229539e-02, -8.88846805e-02, -8.57343830e-02, -8.25720616e-02,\n",
              "       -7.93977160e-02, -7.62113465e-02, -7.30129529e-02, -6.98025353e-02,\n",
              "       -6.65800936e-02, -6.33456279e-02, -6.00991382e-02, -5.68406244e-02,\n",
              "       -5.35700866e-02, -5.02875248e-02, -4.69929389e-02, -4.36863290e-02,\n",
              "       -4.03676950e-02, -3.70370370e-02, -3.36943550e-02, -3.03396490e-02,\n",
              "       -2.69729189e-02, -2.35941647e-02, -2.02033866e-02, -1.68005844e-02,\n",
              "       -1.33857581e-02, -9.95890786e-03, -6.52003355e-03, -3.06913520e-03,\n",
              "        3.93787181e-04,  3.86873360e-03,  7.35570405e-03,  1.08546985e-02,\n",
              "        1.43657171e-02,  1.78887596e-02,  2.14238262e-02,  2.49709169e-02,\n",
              "        2.85300315e-02,  3.21011702e-02,  3.56843330e-02,  3.92795198e-02,\n",
              "        4.28867306e-02,  4.65059654e-02,  5.01372243e-02,  5.37805072e-02,\n",
              "        5.74358142e-02,  6.11031452e-02,  6.47825002e-02,  6.84738793e-02,\n",
              "        7.21772824e-02,  7.58927095e-02,  7.96201607e-02,  8.33596359e-02,\n",
              "        8.71111352e-02,  9.08746584e-02,  9.46502058e-02,  9.84377771e-02,\n",
              "        1.02237373e-01,  1.06048992e-01,  1.09872635e-01,  1.13708303e-01,\n",
              "        1.17555994e-01,  1.21415710e-01,  1.25287450e-01,  1.29171213e-01,\n",
              "        1.33067001e-01,  1.36974813e-01,  1.40894648e-01,  1.44826508e-01,\n",
              "        1.48770392e-01,  1.52726300e-01,  1.56694232e-01,  1.60674188e-01,\n",
              "        1.64666168e-01,  1.68670172e-01,  1.72686200e-01,  1.76714252e-01,\n",
              "        1.80754328e-01,  1.84806428e-01,  1.88870552e-01,  1.92946700e-01,\n",
              "        1.97034873e-01,  2.01135069e-01,  2.05247289e-01,  2.09371534e-01,\n",
              "        2.13507802e-01,  2.17656095e-01,  2.21816411e-01,  2.25988752e-01,\n",
              "        2.30173116e-01,  2.34369505e-01,  2.38577917e-01,  2.42798354e-01,\n",
              "        2.47030815e-01,  2.51275299e-01,  2.55531808e-01,  2.59800341e-01,\n",
              "        2.64080898e-01,  2.68373479e-01,  2.72678083e-01,  2.76994712e-01,\n",
              "        2.81323365e-01,  2.85664042e-01,  2.90016743e-01,  2.94381469e-01,\n",
              "        2.98758218e-01,  3.03146991e-01,  3.07547788e-01,  3.11960609e-01,\n",
              "        3.16385455e-01,  3.20822324e-01,  3.25271217e-01,  3.29732135e-01,\n",
              "        3.34205076e-01,  3.38690041e-01,  3.43187031e-01,  3.47696044e-01,\n",
              "        3.52217082e-01,  3.56750144e-01,  3.61295229e-01,  3.65852339e-01,\n",
              "        3.70421473e-01,  3.75002630e-01,  3.79595812e-01,  3.84201018e-01,\n",
              "        3.88818248e-01,  3.93447502e-01,  3.98088779e-01,  4.02742081e-01,\n",
              "        4.07407407e-01,  4.12084757e-01,  4.16774131e-01,  4.21475530e-01,\n",
              "        4.26188952e-01,  4.30914398e-01,  4.35651868e-01,  4.40401362e-01,\n",
              "        4.45162881e-01,  4.49936423e-01,  4.54721989e-01,  4.59519580e-01,\n",
              "        4.64329194e-01,  4.69150833e-01,  4.73984495e-01,  4.78830182e-01,\n",
              "        4.83687892e-01,  4.88557627e-01,  4.93439385e-01,  4.98333168e-01,\n",
              "        5.03238975e-01,  5.08156805e-01,  5.13086660e-01,  5.18028539e-01,\n",
              "        5.22982442e-01,  5.27948369e-01,  5.32926320e-01,  5.37916295e-01,\n",
              "        5.42918294e-01,  5.47932317e-01,  5.52958364e-01,  5.57996435e-01,\n",
              "        5.63046530e-01,  5.68108649e-01,  5.73182792e-01,  5.78268960e-01,\n",
              "        5.83367151e-01,  5.88477366e-01,  5.93599606e-01,  5.98733869e-01,\n",
              "        6.03880156e-01,  6.09038468e-01,  6.14208803e-01,  6.19391163e-01,\n",
              "        6.24585547e-01,  6.29791954e-01,  6.35010386e-01,  6.40240841e-01,\n",
              "        6.45483321e-01,  6.50737825e-01,  6.56004353e-01,  6.61282905e-01,\n",
              "        6.66573480e-01,  6.71876080e-01,  6.77190704e-01,  6.82517352e-01,\n",
              "        6.87856024e-01,  6.93206720e-01,  6.98569440e-01,  7.03944184e-01,\n",
              "        7.09330953e-01,  7.14729745e-01,  7.20140561e-01,  7.25563401e-01,\n",
              "        7.30998266e-01,  7.36445154e-01,  7.41904066e-01,  7.47375003e-01,\n",
              "        7.52857963e-01,  7.58352948e-01,  7.63859956e-01,  7.69378989e-01,\n",
              "        7.74910045e-01,  7.80453126e-01,  7.86008230e-01,  7.91575359e-01,\n",
              "        7.97154512e-01,  8.02745689e-01,  8.08348889e-01,  8.13964114e-01,\n",
              "        8.19591363e-01,  8.25230636e-01,  8.30881933e-01,  8.36545254e-01,\n",
              "        8.42220599e-01,  8.47907968e-01,  8.53607361e-01,  8.59318778e-01,\n",
              "        8.65042219e-01,  8.70777685e-01,  8.76525174e-01,  8.82284687e-01,\n",
              "        8.88056224e-01,  8.93839786e-01,  8.99635371e-01,  9.05442981e-01,\n",
              "        9.11262614e-01,  9.17094271e-01,  9.22937953e-01,  9.28793659e-01,\n",
              "        9.34661388e-01,  9.40541142e-01,  9.46432919e-01,  9.52336721e-01,\n",
              "        9.58252547e-01,  9.64180397e-01,  9.70120270e-01,  9.76072168e-01,\n",
              "        9.82036090e-01,  9.88012036e-01,  9.94000006e-01,  1.00000000e+00])"
            ]
          },
          "execution_count": 69,
          "metadata": {},
          "output_type": "execute_result"
        }
      ],
      "source": [
        "y"
      ]
    },
    {
      "cell_type": "code",
      "execution_count": null,
      "id": "a1e9052c",
      "metadata": {
        "id": "a1e9052c",
        "outputId": "4c2d0165-988b-4515-9365-2bb7b026512d"
      },
      "outputs": [
        {
          "data": {
            "text/plain": [
              "[<matplotlib.lines.Line2D at 0x7f5a975fa340>]"
            ]
          },
          "execution_count": 70,
          "metadata": {},
          "output_type": "execute_result"
        },
        {
          "data": {
            "image/png": "[encoded data removed]",
            "text/plain": [
              "<Figure size 640x480 with 1 Axes>"
            ]
          },
          "metadata": {},
          "output_type": "display_data"
        }
      ],
      "source": [
        "plt.plot(x,y)"
      ]
    },
    {
      "cell_type": "code",
      "execution_count": null,
      "id": "b48234a4",
      "metadata": {
        "id": "b48234a4"
      },
      "outputs": [],
      "source": [
        "dydx = np.gradient(y,x)"
      ]
    },
    {
      "cell_type": "code",
      "execution_count": null,
      "id": "2a1b040b",
      "metadata": {
        "id": "2a1b040b",
        "outputId": "f2144565-c7f3-478d-f9b0-c51ee891b52a"
      },
      "outputs": [
        {
          "data": {
            "text/plain": [
              "[<matplotlib.lines.Line2D at 0x7f5a9f7dafd0>]"
            ]
          },
          "execution_count": 74,
          "metadata": {},
          "output_type": "execute_result"
        },
        {
          "data": {
            "image/png": "[encoded data removed]",
            "text/plain": [
              "<Figure size 640x480 with 1 Axes>"
            ]
          },
          "metadata": {},
          "output_type": "display_data"
        }
      ],
      "source": [
        "plt.plot(x,y)\n",
        "plt.plot(x,dydx)"
      ]
    },
    {
      "cell_type": "code",
      "execution_count": null,
      "id": "8c608f45",
      "metadata": {
        "id": "8c608f45"
      },
      "outputs": [],
      "source": []
    }
  ],
  "metadata": {
    "kernelspec": {
      "display_name": "Python 3 (ipykernel)",
      "language": "python",
      "name": "python3"
    },
    "language_info": {
      "codemirror_mode": {
        "name": "ipython",
        "version": 3
      },
      "file_extension": ".py",
      "mimetype": "text/x-python",
      "name": "python",
      "nbconvert_exporter": "python",
      "pygments_lexer": "ipython3",
      "version": "3.9.12"
    },
    "colab": {
      "provenance": [],
      "include_colab_link": true
    }
  },
  "nbformat": 4,
  "nbformat_minor": 5
}