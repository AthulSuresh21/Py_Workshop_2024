{
 "cells": [
  {
   "cell_type": "markdown",
   "metadata": {},
   "source": [
    "# Basic python syntax and data types"
   ]
  },
  {
   "cell_type": "markdown",
   "metadata": {},
   "source": [
    "## Arithmetic"
   ]
  },
  {
   "cell_type": "code",
   "execution_count": 1,
   "metadata": {
    "execution": {
     "iopub.execute_input": "2024-09-09T03:38:29.065268Z",
     "iopub.status.busy": "2024-09-09T03:38:29.064692Z",
     "iopub.status.idle": "2024-09-09T03:38:29.075318Z",
     "shell.execute_reply": "2024-09-09T03:38:29.073034Z",
     "shell.execute_reply.started": "2024-09-09T03:38:29.065219Z"
    }
   },
   "outputs": [
    {
     "data": {
      "text/plain": [
       "8"
      ]
     },
     "execution_count": 1,
     "metadata": {},
     "output_type": "execute_result"
    }
   ],
   "source": [
    "5 + 3"
   ]
  },
  {
   "cell_type": "code",
   "execution_count": 2,
   "metadata": {
    "execution": {
     "iopub.execute_input": "2024-09-09T03:38:29.345808Z",
     "iopub.status.busy": "2024-09-09T03:38:29.345278Z",
     "iopub.status.idle": "2024-09-09T03:38:29.354195Z",
     "shell.execute_reply": "2024-09-09T03:38:29.352655Z",
     "shell.execute_reply.started": "2024-09-09T03:38:29.345760Z"
    }
   },
   "outputs": [
    {
     "data": {
      "text/plain": [
       "3"
      ]
     },
     "execution_count": 2,
     "metadata": {},
     "output_type": "execute_result"
    }
   ],
   "source": [
    "5 - 2"
   ]
  },
  {
   "cell_type": "code",
   "execution_count": 3,
   "metadata": {
    "execution": {
     "iopub.execute_input": "2024-09-09T03:38:29.746671Z",
     "iopub.status.busy": "2024-09-09T03:38:29.746208Z",
     "iopub.status.idle": "2024-09-09T03:38:29.755047Z",
     "shell.execute_reply": "2024-09-09T03:38:29.753504Z",
     "shell.execute_reply.started": "2024-09-09T03:38:29.746624Z"
    }
   },
   "outputs": [
    {
     "data": {
      "text/plain": [
       "10"
      ]
     },
     "execution_count": 3,
     "metadata": {},
     "output_type": "execute_result"
    }
   ],
   "source": [
    "5 * 2"
   ]
  },
  {
   "cell_type": "code",
   "execution_count": 4,
   "metadata": {
    "execution": {
     "iopub.execute_input": "2024-09-08T23:59:27.323754Z",
     "iopub.status.busy": "2024-09-08T23:59:27.323318Z",
     "iopub.status.idle": "2024-09-08T23:59:27.332019Z",
     "shell.execute_reply": "2024-09-08T23:59:27.330532Z",
     "shell.execute_reply.started": "2024-09-08T23:59:27.323711Z"
    }
   },
   "outputs": [
    {
     "data": {
      "text/plain": [
       "2.5"
      ]
     },
     "execution_count": 4,
     "metadata": {},
     "output_type": "execute_result"
    }
   ],
   "source": [
    "5 / 2"
   ]
  },
  {
   "cell_type": "code",
   "execution_count": 5,
   "metadata": {
    "execution": {
     "iopub.execute_input": "2024-09-08T23:59:34.019992Z",
     "iopub.status.busy": "2024-09-08T23:59:34.019129Z",
     "iopub.status.idle": "2024-09-08T23:59:34.027601Z",
     "shell.execute_reply": "2024-09-08T23:59:34.026293Z",
     "shell.execute_reply.started": "2024-09-08T23:59:34.019943Z"
    }
   },
   "outputs": [
    {
     "data": {
      "text/plain": [
       "2"
      ]
     },
     "execution_count": 5,
     "metadata": {},
     "output_type": "execute_result"
    }
   ],
   "source": [
    "5 // 2 #floor division"
   ]
  },
  {
   "cell_type": "code",
   "execution_count": 6,
   "metadata": {
    "execution": {
     "iopub.execute_input": "2024-09-09T00:01:02.338267Z",
     "iopub.status.busy": "2024-09-09T00:01:02.337764Z",
     "iopub.status.idle": "2024-09-09T00:01:02.347000Z",
     "shell.execute_reply": "2024-09-09T00:01:02.345237Z",
     "shell.execute_reply.started": "2024-09-09T00:01:02.338214Z"
    }
   },
   "outputs": [
    {
     "data": {
      "text/plain": [
       "1"
      ]
     },
     "execution_count": 6,
     "metadata": {},
     "output_type": "execute_result"
    }
   ],
   "source": [
    "5 % 2 #modulus"
   ]
  },
  {
   "cell_type": "code",
   "execution_count": 7,
   "metadata": {
    "execution": {
     "iopub.execute_input": "2024-09-09T00:01:02.933560Z",
     "iopub.status.busy": "2024-09-09T00:01:02.933142Z",
     "iopub.status.idle": "2024-09-09T00:01:02.941031Z",
     "shell.execute_reply": "2024-09-09T00:01:02.939598Z",
     "shell.execute_reply.started": "2024-09-09T00:01:02.933522Z"
    }
   },
   "outputs": [
    {
     "data": {
      "text/plain": [
       "25"
      ]
     },
     "execution_count": 7,
     "metadata": {},
     "output_type": "execute_result"
    }
   ],
   "source": [
    "5 ** 2"
   ]
  },
  {
   "cell_type": "code",
   "execution_count": 8,
   "metadata": {
    "execution": {
     "iopub.execute_input": "2024-09-09T00:01:03.620920Z",
     "iopub.status.busy": "2024-09-09T00:01:03.620474Z",
     "iopub.status.idle": "2024-09-09T00:01:03.627527Z",
     "shell.execute_reply": "2024-09-09T00:01:03.626251Z",
     "shell.execute_reply.started": "2024-09-09T00:01:03.620876Z"
    }
   },
   "outputs": [
    {
     "name": "stdout",
     "output_type": "stream",
     "text": [
      "2.5\n"
     ]
    }
   ],
   "source": [
    "print(5 / 2)"
   ]
  },
  {
   "cell_type": "markdown",
   "metadata": {},
   "source": [
    "### variables"
   ]
  },
  {
   "cell_type": "code",
   "execution_count": 9,
   "metadata": {
    "execution": {
     "iopub.execute_input": "2024-09-09T00:01:50.054042Z",
     "iopub.status.busy": "2024-09-09T00:01:50.053511Z",
     "iopub.status.idle": "2024-09-09T00:01:50.059799Z",
     "shell.execute_reply": "2024-09-09T00:01:50.058625Z",
     "shell.execute_reply.started": "2024-09-09T00:01:50.053989Z"
    }
   },
   "outputs": [],
   "source": [
    "number = 5/2"
   ]
  },
  {
   "cell_type": "code",
   "execution_count": 10,
   "metadata": {
    "execution": {
     "iopub.execute_input": "2024-09-09T00:01:56.985078Z",
     "iopub.status.busy": "2024-09-09T00:01:56.984603Z",
     "iopub.status.idle": "2024-09-09T00:01:56.995105Z",
     "shell.execute_reply": "2024-09-09T00:01:56.993712Z",
     "shell.execute_reply.started": "2024-09-09T00:01:56.985033Z"
    }
   },
   "outputs": [
    {
     "data": {
      "text/plain": [
       "float"
      ]
     },
     "execution_count": 10,
     "metadata": {},
     "output_type": "execute_result"
    }
   ],
   "source": [
    "type(number)"
   ]
  },
  {
   "cell_type": "code",
   "execution_count": 11,
   "metadata": {
    "execution": {
     "iopub.execute_input": "2024-09-09T00:02:04.953671Z",
     "iopub.status.busy": "2024-09-09T00:02:04.952907Z",
     "iopub.status.idle": "2024-09-09T00:02:04.959809Z",
     "shell.execute_reply": "2024-09-09T00:02:04.958646Z",
     "shell.execute_reply.started": "2024-09-09T00:02:04.953620Z"
    }
   },
   "outputs": [
    {
     "name": "stdout",
     "output_type": "stream",
     "text": [
      "2.5\n"
     ]
    }
   ],
   "source": [
    "print(number)"
   ]
  },
  {
   "cell_type": "code",
   "execution_count": 12,
   "metadata": {
    "execution": {
     "iopub.execute_input": "2024-09-09T00:02:28.870270Z",
     "iopub.status.busy": "2024-09-09T00:02:28.869799Z",
     "iopub.status.idle": "2024-09-09T00:02:28.876841Z",
     "shell.execute_reply": "2024-09-09T00:02:28.875570Z",
     "shell.execute_reply.started": "2024-09-09T00:02:28.870225Z"
    }
   },
   "outputs": [
    {
     "name": "stdout",
     "output_type": "stream",
     "text": [
      "3.5\n"
     ]
    }
   ],
   "source": [
    "number += 1\n",
    "print(number)"
   ]
  },
  {
   "cell_type": "code",
   "execution_count": 13,
   "metadata": {
    "execution": {
     "iopub.execute_input": "2024-09-09T00:02:33.429269Z",
     "iopub.status.busy": "2024-09-09T00:02:33.428820Z",
     "iopub.status.idle": "2024-09-09T00:02:33.435263Z",
     "shell.execute_reply": "2024-09-09T00:02:33.434016Z",
     "shell.execute_reply.started": "2024-09-09T00:02:33.429225Z"
    }
   },
   "outputs": [],
   "source": [
    "del number"
   ]
  },
  {
   "cell_type": "code",
   "execution_count": 14,
   "metadata": {
    "execution": {
     "iopub.execute_input": "2024-09-09T00:02:38.152903Z",
     "iopub.status.busy": "2024-09-09T00:02:38.152129Z",
     "iopub.status.idle": "2024-09-09T00:02:38.547861Z",
     "shell.execute_reply": "2024-09-09T00:02:38.546285Z",
     "shell.execute_reply.started": "2024-09-09T00:02:38.152857Z"
    }
   },
   "outputs": [
    {
     "ename": "NameError",
     "evalue": "name 'number' is not defined",
     "output_type": "error",
     "traceback": [
      "\u001b[0;31m---------------------------------------------------------------------------\u001b[0m",
      "\u001b[0;31mNameError\u001b[0m                                 Traceback (most recent call last)",
      "\u001b[0;32m/tmp/ipykernel_281055/77136783.py\u001b[0m in \u001b[0;36m<module>\u001b[0;34m\u001b[0m\n\u001b[0;32m----> 1\u001b[0;31m \u001b[0mtype\u001b[0m\u001b[0;34m(\u001b[0m\u001b[0mnumber\u001b[0m\u001b[0;34m)\u001b[0m\u001b[0;34m\u001b[0m\u001b[0;34m\u001b[0m\u001b[0m\n\u001b[0m",
      "\u001b[0;31mNameError\u001b[0m: name 'number' is not defined"
     ]
    }
   ],
   "source": [
    "type(number)"
   ]
  },
  {
   "cell_type": "code",
   "execution_count": null,
   "metadata": {
    "execution": {
     "iopub.execute_input": "2024-09-09T00:02:45.721637Z",
     "iopub.status.busy": "2024-09-09T00:02:45.721168Z",
     "iopub.status.idle": "2024-09-09T00:02:45.751157Z",
     "shell.execute_reply": "2024-09-09T00:02:45.749729Z",
     "shell.execute_reply.started": "2024-09-09T00:02:45.721592Z"
    }
   },
   "outputs": [],
   "source": [
    "print(number)"
   ]
  },
  {
   "cell_type": "code",
   "execution_count": null,
   "metadata": {
    "execution": {
     "iopub.execute_input": "2024-09-09T00:03:18.768886Z",
     "iopub.status.busy": "2024-09-09T00:03:18.768474Z",
     "iopub.status.idle": "2024-09-09T00:03:18.776477Z",
     "shell.execute_reply": "2024-09-09T00:03:18.775223Z",
     "shell.execute_reply.started": "2024-09-09T00:03:18.768848Z"
    }
   },
   "outputs": [],
   "source": [
    "abs(-5)"
   ]
  },
  {
   "cell_type": "code",
   "execution_count": null,
   "metadata": {
    "execution": {
     "iopub.execute_input": "2024-09-09T00:03:26.231041Z",
     "iopub.status.busy": "2024-09-09T00:03:26.230611Z",
     "iopub.status.idle": "2024-09-09T00:03:26.238628Z",
     "shell.execute_reply": "2024-09-09T00:03:26.237385Z",
     "shell.execute_reply.started": "2024-09-09T00:03:26.231002Z"
    }
   },
   "outputs": [],
   "source": [
    "round(1.24)"
   ]
  },
  {
   "cell_type": "code",
   "execution_count": null,
   "metadata": {
    "execution": {
     "iopub.execute_input": "2024-09-09T00:03:32.151232Z",
     "iopub.status.busy": "2024-09-09T00:03:32.149996Z",
     "iopub.status.idle": "2024-09-09T00:03:32.159732Z",
     "shell.execute_reply": "2024-09-09T00:03:32.158228Z",
     "shell.execute_reply.started": "2024-09-09T00:03:32.151149Z"
    }
   },
   "outputs": [],
   "source": [
    "round(1.9)"
   ]
  },
  {
   "cell_type": "code",
   "execution_count": null,
   "metadata": {
    "execution": {
     "iopub.execute_input": "2024-09-09T00:03:45.012318Z",
     "iopub.status.busy": "2024-09-09T00:03:45.011856Z",
     "iopub.status.idle": "2024-09-09T00:03:45.019876Z",
     "shell.execute_reply": "2024-09-09T00:03:45.018676Z",
     "shell.execute_reply.started": "2024-09-09T00:03:45.012276Z"
    }
   },
   "outputs": [],
   "source": [
    "round(1.4)"
   ]
  },
  {
   "cell_type": "code",
   "execution_count": null,
   "metadata": {
    "execution": {
     "iopub.execute_input": "2024-09-09T00:04:27.043752Z",
     "iopub.status.busy": "2024-09-09T00:04:27.043282Z",
     "iopub.status.idle": "2024-09-09T00:04:27.051387Z",
     "shell.execute_reply": "2024-09-09T00:04:27.050235Z",
     "shell.execute_reply.started": "2024-09-09T00:04:27.043702Z"
    }
   },
   "outputs": [],
   "source": [
    "round(6.626,2) #round to the second decimal"
   ]
  },
  {
   "cell_type": "markdown",
   "metadata": {},
   "source": [
    "## Boolean/logic operators"
   ]
  },
  {
   "cell_type": "code",
   "execution_count": null,
   "metadata": {
    "execution": {
     "iopub.execute_input": "2024-09-09T00:06:31.853484Z",
     "iopub.status.busy": "2024-09-09T00:06:31.852937Z",
     "iopub.status.idle": "2024-09-09T00:06:31.859320Z",
     "shell.execute_reply": "2024-09-09T00:06:31.857936Z",
     "shell.execute_reply.started": "2024-09-09T00:06:31.853431Z"
    }
   },
   "outputs": [],
   "source": [
    "num1 = 2.33\n",
    "num2 = 21/9"
   ]
  },
  {
   "cell_type": "code",
   "execution_count": null,
   "metadata": {
    "execution": {
     "iopub.execute_input": "2024-09-09T00:06:38.544577Z",
     "iopub.status.busy": "2024-09-09T00:06:38.544153Z",
     "iopub.status.idle": "2024-09-09T00:06:38.552647Z",
     "shell.execute_reply": "2024-09-09T00:06:38.551249Z",
     "shell.execute_reply.started": "2024-09-09T00:06:38.544537Z"
    }
   },
   "outputs": [],
   "source": [
    "num1-num2"
   ]
  },
  {
   "cell_type": "code",
   "execution_count": null,
   "metadata": {
    "execution": {
     "iopub.execute_input": "2024-09-09T00:06:58.137964Z",
     "iopub.status.busy": "2024-09-09T00:06:58.137468Z",
     "iopub.status.idle": "2024-09-09T00:06:58.145564Z",
     "shell.execute_reply": "2024-09-09T00:06:58.144375Z",
     "shell.execute_reply.started": "2024-09-09T00:06:58.137921Z"
    }
   },
   "outputs": [],
   "source": [
    "num1 == num2"
   ]
  },
  {
   "cell_type": "code",
   "execution_count": null,
   "metadata": {
    "execution": {
     "iopub.execute_input": "2024-09-09T00:07:10.698173Z",
     "iopub.status.busy": "2024-09-09T00:07:10.697156Z",
     "iopub.status.idle": "2024-09-09T00:07:10.705979Z",
     "shell.execute_reply": "2024-09-09T00:07:10.704406Z",
     "shell.execute_reply.started": "2024-09-09T00:07:10.698122Z"
    }
   },
   "outputs": [],
   "source": [
    "num1 != num2"
   ]
  },
  {
   "cell_type": "code",
   "execution_count": null,
   "metadata": {
    "execution": {
     "iopub.execute_input": "2024-09-09T00:07:23.994469Z",
     "iopub.status.busy": "2024-09-09T00:07:23.993954Z",
     "iopub.status.idle": "2024-09-09T00:07:24.002553Z",
     "shell.execute_reply": "2024-09-09T00:07:24.001238Z",
     "shell.execute_reply.started": "2024-09-09T00:07:23.994410Z"
    }
   },
   "outputs": [],
   "source": [
    "num1 > num2"
   ]
  },
  {
   "cell_type": "code",
   "execution_count": 15,
   "metadata": {
    "execution": {
     "iopub.execute_input": "2024-09-09T00:07:36.555315Z",
     "iopub.status.busy": "2024-09-09T00:07:36.554044Z",
     "iopub.status.idle": "2024-09-09T00:07:36.563551Z",
     "shell.execute_reply": "2024-09-09T00:07:36.562250Z",
     "shell.execute_reply.started": "2024-09-09T00:07:36.555234Z"
    }
   },
   "outputs": [
    {
     "ename": "NameError",
     "evalue": "name 'num1' is not defined",
     "output_type": "error",
     "traceback": [
      "\u001b[0;31m---------------------------------------------------------------------------\u001b[0m",
      "\u001b[0;31mNameError\u001b[0m                                 Traceback (most recent call last)",
      "\u001b[0;32m/tmp/ipykernel_281055/3038899333.py\u001b[0m in \u001b[0;36m<module>\u001b[0;34m\u001b[0m\n\u001b[0;32m----> 1\u001b[0;31m \u001b[0mnum1\u001b[0m \u001b[0;34m>=\u001b[0m \u001b[0mnum2\u001b[0m\u001b[0;34m\u001b[0m\u001b[0;34m\u001b[0m\u001b[0m\n\u001b[0m",
      "\u001b[0;31mNameError\u001b[0m: name 'num1' is not defined"
     ]
    }
   ],
   "source": [
    "num1 >= num2"
   ]
  },
  {
   "cell_type": "code",
   "execution_count": 16,
   "metadata": {
    "execution": {
     "iopub.execute_input": "2024-09-09T00:07:46.650386Z",
     "iopub.status.busy": "2024-09-09T00:07:46.649972Z",
     "iopub.status.idle": "2024-09-09T00:07:46.657884Z",
     "shell.execute_reply": "2024-09-09T00:07:46.656596Z",
     "shell.execute_reply.started": "2024-09-09T00:07:46.650347Z"
    }
   },
   "outputs": [
    {
     "ename": "NameError",
     "evalue": "name 'num1' is not defined",
     "output_type": "error",
     "traceback": [
      "\u001b[0;31m---------------------------------------------------------------------------\u001b[0m",
      "\u001b[0;31mNameError\u001b[0m                                 Traceback (most recent call last)",
      "\u001b[0;32m/tmp/ipykernel_281055/3551798888.py\u001b[0m in \u001b[0;36m<module>\u001b[0;34m\u001b[0m\n\u001b[0;32m----> 1\u001b[0;31m \u001b[0mnum1\u001b[0m \u001b[0;34m<\u001b[0m \u001b[0mnum2\u001b[0m\u001b[0;34m\u001b[0m\u001b[0;34m\u001b[0m\u001b[0m\n\u001b[0m",
      "\u001b[0;31mNameError\u001b[0m: name 'num1' is not defined"
     ]
    }
   ],
   "source": [
    "num1 < num2"
   ]
  },
  {
   "cell_type": "markdown",
   "metadata": {},
   "source": [
    "## Typecasting in python"
   ]
  },
  {
   "cell_type": "code",
   "execution_count": 17,
   "metadata": {
    "execution": {
     "iopub.execute_input": "2024-09-09T00:09:21.074526Z",
     "iopub.status.busy": "2024-09-09T00:09:21.073948Z",
     "iopub.status.idle": "2024-09-09T00:09:21.081932Z",
     "shell.execute_reply": "2024-09-09T00:09:21.080469Z",
     "shell.execute_reply.started": "2024-09-09T00:09:21.074415Z"
    }
   },
   "outputs": [
    {
     "name": "stdout",
     "output_type": "stream",
     "text": [
      "12\n"
     ]
    }
   ],
   "source": [
    "num1 = '1'\n",
    "num2 = '2'\n",
    "\n",
    "print(num1 + num2)"
   ]
  },
  {
   "cell_type": "code",
   "execution_count": 18,
   "metadata": {
    "execution": {
     "iopub.execute_input": "2024-09-09T00:09:57.217231Z",
     "iopub.status.busy": "2024-09-09T00:09:57.216774Z",
     "iopub.status.idle": "2024-09-09T00:09:57.223879Z",
     "shell.execute_reply": "2024-09-09T00:09:57.222600Z",
     "shell.execute_reply.started": "2024-09-09T00:09:57.217162Z"
    }
   },
   "outputs": [
    {
     "name": "stdout",
     "output_type": "stream",
     "text": [
      "3\n"
     ]
    }
   ],
   "source": [
    "num1 = '1'\n",
    "num2 = '2'\n",
    "\n",
    "num1 = int(num1) #converting string to integer\n",
    "num2 = int(num2)\n",
    "\n",
    "print(num1 + num2)"
   ]
  },
  {
   "cell_type": "code",
   "execution_count": 19,
   "metadata": {
    "execution": {
     "iopub.execute_input": "2024-09-09T00:10:09.198053Z",
     "iopub.status.busy": "2024-09-09T00:10:09.197629Z",
     "iopub.status.idle": "2024-09-09T00:10:09.205456Z",
     "shell.execute_reply": "2024-09-09T00:10:09.204294Z",
     "shell.execute_reply.started": "2024-09-09T00:10:09.198014Z"
    }
   },
   "outputs": [
    {
     "data": {
      "text/plain": [
       "int"
      ]
     },
     "execution_count": 19,
     "metadata": {},
     "output_type": "execute_result"
    }
   ],
   "source": [
    "type(num1)"
   ]
  },
  {
   "cell_type": "code",
   "execution_count": 20,
   "metadata": {
    "execution": {
     "iopub.execute_input": "2024-09-09T00:10:20.189994Z",
     "iopub.status.busy": "2024-09-09T00:10:20.189544Z",
     "iopub.status.idle": "2024-09-09T00:10:20.195697Z",
     "shell.execute_reply": "2024-09-09T00:10:20.194406Z",
     "shell.execute_reply.started": "2024-09-09T00:10:20.189953Z"
    }
   },
   "outputs": [],
   "source": [
    "num1 = float(num1)"
   ]
  },
  {
   "cell_type": "code",
   "execution_count": 21,
   "metadata": {
    "execution": {
     "iopub.execute_input": "2024-09-09T00:10:29.085313Z",
     "iopub.status.busy": "2024-09-09T00:10:29.084871Z",
     "iopub.status.idle": "2024-09-09T00:10:29.092917Z",
     "shell.execute_reply": "2024-09-09T00:10:29.091590Z",
     "shell.execute_reply.started": "2024-09-09T00:10:29.085273Z"
    }
   },
   "outputs": [
    {
     "data": {
      "text/plain": [
       "float"
      ]
     },
     "execution_count": 21,
     "metadata": {},
     "output_type": "execute_result"
    }
   ],
   "source": [
    "type(num1)"
   ]
  },
  {
   "cell_type": "code",
   "execution_count": 22,
   "metadata": {
    "execution": {
     "iopub.execute_input": "2024-09-09T00:10:39.103879Z",
     "iopub.status.busy": "2024-09-09T00:10:39.102506Z",
     "iopub.status.idle": "2024-09-09T00:10:39.111003Z",
     "shell.execute_reply": "2024-09-09T00:10:39.109876Z",
     "shell.execute_reply.started": "2024-09-09T00:10:39.103826Z"
    }
   },
   "outputs": [
    {
     "data": {
      "text/plain": [
       "3.0"
      ]
     },
     "execution_count": 22,
     "metadata": {},
     "output_type": "execute_result"
    }
   ],
   "source": [
    "num1 + num2"
   ]
  },
  {
   "cell_type": "markdown",
   "metadata": {},
   "source": [
    "## Multiple data and sequential data"
   ]
  },
  {
   "cell_type": "markdown",
   "metadata": {},
   "source": [
    "### 1 Lists\n",
    "Lists are data types in python that can store multiple values. The values can belong to different data types."
   ]
  },
  {
   "cell_type": "code",
   "execution_count": 23,
   "metadata": {
    "execution": {
     "iopub.execute_input": "2024-09-09T00:22:39.851296Z",
     "iopub.status.busy": "2024-09-09T00:22:39.850864Z",
     "iopub.status.idle": "2024-09-09T00:22:39.857488Z",
     "shell.execute_reply": "2024-09-09T00:22:39.855959Z",
     "shell.execute_reply.started": "2024-09-09T00:22:39.851255Z"
    }
   },
   "outputs": [],
   "source": [
    "sample_list = [1, 3.333, 'a', 'box', False]"
   ]
  },
  {
   "cell_type": "code",
   "execution_count": 24,
   "metadata": {
    "execution": {
     "iopub.execute_input": "2024-09-09T00:22:40.329373Z",
     "iopub.status.busy": "2024-09-09T00:22:40.328901Z",
     "iopub.status.idle": "2024-09-09T00:22:40.335570Z",
     "shell.execute_reply": "2024-09-09T00:22:40.334263Z",
     "shell.execute_reply.started": "2024-09-09T00:22:40.329329Z"
    }
   },
   "outputs": [
    {
     "name": "stdout",
     "output_type": "stream",
     "text": [
      "[1, 3.333, 'a', 'box', False]\n"
     ]
    }
   ],
   "source": [
    "print(sample_list)"
   ]
  },
  {
   "cell_type": "code",
   "execution_count": 25,
   "metadata": {
    "execution": {
     "iopub.execute_input": "2024-09-09T00:22:40.620446Z",
     "iopub.status.busy": "2024-09-09T00:22:40.619970Z",
     "iopub.status.idle": "2024-09-09T00:22:40.628311Z",
     "shell.execute_reply": "2024-09-09T00:22:40.626886Z",
     "shell.execute_reply.started": "2024-09-09T00:22:40.620391Z"
    }
   },
   "outputs": [
    {
     "data": {
      "text/plain": [
       "5"
      ]
     },
     "execution_count": 25,
     "metadata": {},
     "output_type": "execute_result"
    }
   ],
   "source": [
    "len(sample_list)"
   ]
  },
  {
   "cell_type": "markdown",
   "metadata": {},
   "source": [
    "### Indexing in python"
   ]
  },
  {
   "cell_type": "code",
   "execution_count": 26,
   "metadata": {
    "execution": {
     "iopub.execute_input": "2024-09-09T00:22:41.271328Z",
     "iopub.status.busy": "2024-09-09T00:22:41.270837Z",
     "iopub.status.idle": "2024-09-09T00:22:41.278899Z",
     "shell.execute_reply": "2024-09-09T00:22:41.277797Z",
     "shell.execute_reply.started": "2024-09-09T00:22:41.271283Z"
    }
   },
   "outputs": [
    {
     "data": {
      "text/plain": [
       "1"
      ]
     },
     "execution_count": 26,
     "metadata": {},
     "output_type": "execute_result"
    }
   ],
   "source": [
    "sample_list[0]"
   ]
  },
  {
   "cell_type": "code",
   "execution_count": 27,
   "metadata": {
    "execution": {
     "iopub.execute_input": "2024-09-09T00:22:41.612655Z",
     "iopub.status.busy": "2024-09-09T00:22:41.612241Z",
     "iopub.status.idle": "2024-09-09T00:22:41.621520Z",
     "shell.execute_reply": "2024-09-09T00:22:41.620124Z",
     "shell.execute_reply.started": "2024-09-09T00:22:41.612614Z"
    }
   },
   "outputs": [
    {
     "data": {
      "text/plain": [
       "False"
      ]
     },
     "execution_count": 27,
     "metadata": {},
     "output_type": "execute_result"
    }
   ],
   "source": [
    "sample_list[-1]"
   ]
  },
  {
   "cell_type": "code",
   "execution_count": 28,
   "metadata": {
    "execution": {
     "iopub.execute_input": "2024-09-09T00:22:41.931253Z",
     "iopub.status.busy": "2024-09-09T00:22:41.930656Z",
     "iopub.status.idle": "2024-09-09T00:22:41.939233Z",
     "shell.execute_reply": "2024-09-09T00:22:41.938001Z",
     "shell.execute_reply.started": "2024-09-09T00:22:41.931184Z"
    }
   },
   "outputs": [
    {
     "data": {
      "text/plain": [
       "1"
      ]
     },
     "execution_count": 28,
     "metadata": {},
     "output_type": "execute_result"
    }
   ],
   "source": [
    "sample_list[-len(sample_list)]"
   ]
  },
  {
   "cell_type": "code",
   "execution_count": 29,
   "metadata": {
    "execution": {
     "iopub.execute_input": "2024-09-09T00:22:42.252732Z",
     "iopub.status.busy": "2024-09-09T00:22:42.252282Z",
     "iopub.status.idle": "2024-09-09T00:22:42.260969Z",
     "shell.execute_reply": "2024-09-09T00:22:42.259504Z",
     "shell.execute_reply.started": "2024-09-09T00:22:42.252689Z"
    }
   },
   "outputs": [
    {
     "data": {
      "text/plain": [
       "[1, 3.333]"
      ]
     },
     "execution_count": 29,
     "metadata": {},
     "output_type": "execute_result"
    }
   ],
   "source": [
    "sample_list[:2]"
   ]
  },
  {
   "cell_type": "code",
   "execution_count": 30,
   "metadata": {
    "execution": {
     "iopub.execute_input": "2024-09-09T00:22:42.523022Z",
     "iopub.status.busy": "2024-09-09T00:22:42.522564Z",
     "iopub.status.idle": "2024-09-09T00:22:42.530935Z",
     "shell.execute_reply": "2024-09-09T00:22:42.529550Z",
     "shell.execute_reply.started": "2024-09-09T00:22:42.522978Z"
    }
   },
   "outputs": [
    {
     "data": {
      "text/plain": [
       "['a', 'box', False]"
      ]
     },
     "execution_count": 30,
     "metadata": {},
     "output_type": "execute_result"
    }
   ],
   "source": [
    "sample_list[2:]"
   ]
  },
  {
   "cell_type": "code",
   "execution_count": 31,
   "metadata": {
    "execution": {
     "iopub.execute_input": "2024-09-09T00:22:42.898198Z",
     "iopub.status.busy": "2024-09-09T00:22:42.897763Z",
     "iopub.status.idle": "2024-09-09T00:22:42.906415Z",
     "shell.execute_reply": "2024-09-09T00:22:42.905031Z",
     "shell.execute_reply.started": "2024-09-09T00:22:42.898146Z"
    }
   },
   "outputs": [
    {
     "data": {
      "text/plain": [
       "[False, 'box']"
      ]
     },
     "execution_count": 31,
     "metadata": {},
     "output_type": "execute_result"
    }
   ],
   "source": [
    "sample_list[:2:-1]"
   ]
  },
  {
   "cell_type": "code",
   "execution_count": 32,
   "metadata": {
    "execution": {
     "iopub.execute_input": "2024-09-09T00:22:43.212573Z",
     "iopub.status.busy": "2024-09-09T00:22:43.212112Z",
     "iopub.status.idle": "2024-09-09T00:22:43.220270Z",
     "shell.execute_reply": "2024-09-09T00:22:43.218963Z",
     "shell.execute_reply.started": "2024-09-09T00:22:43.212530Z"
    }
   },
   "outputs": [
    {
     "data": {
      "text/plain": [
       "[False, 'box', 'a', 3.333, 1]"
      ]
     },
     "execution_count": 32,
     "metadata": {},
     "output_type": "execute_result"
    }
   ],
   "source": [
    "sample_list[::-1]"
   ]
  },
  {
   "cell_type": "code",
   "execution_count": 33,
   "metadata": {
    "execution": {
     "iopub.execute_input": "2024-09-09T00:22:43.532259Z",
     "iopub.status.busy": "2024-09-09T00:22:43.531816Z",
     "iopub.status.idle": "2024-09-09T00:22:43.538957Z",
     "shell.execute_reply": "2024-09-09T00:22:43.537580Z",
     "shell.execute_reply.started": "2024-09-09T00:22:43.532207Z"
    }
   },
   "outputs": [
    {
     "name": "stdout",
     "output_type": "stream",
     "text": [
      "[1, 3.333, 'a', 'box', False]\n",
      "[1, 3.333, 'a', 'box', False, 0]\n"
     ]
    }
   ],
   "source": [
    "print(sample_list)\n",
    "sample_list.append(0)\n",
    "print(sample_list)"
   ]
  },
  {
   "cell_type": "code",
   "execution_count": 34,
   "metadata": {
    "execution": {
     "iopub.execute_input": "2024-09-09T00:22:43.901914Z",
     "iopub.status.busy": "2024-09-09T00:22:43.901456Z",
     "iopub.status.idle": "2024-09-09T00:22:43.908369Z",
     "shell.execute_reply": "2024-09-09T00:22:43.907019Z",
     "shell.execute_reply.started": "2024-09-09T00:22:43.901871Z"
    }
   },
   "outputs": [
    {
     "name": "stdout",
     "output_type": "stream",
     "text": [
      "[1, 3.333, 'a', 'box', False, 0]\n",
      "[1, 3.333, 'a', 'box', False]\n"
     ]
    }
   ],
   "source": [
    "print(sample_list)\n",
    "sample_list.pop(-1)\n",
    "print(sample_list)"
   ]
  },
  {
   "cell_type": "code",
   "execution_count": 35,
   "metadata": {
    "execution": {
     "iopub.execute_input": "2024-09-09T00:22:44.469880Z",
     "iopub.status.busy": "2024-09-09T00:22:44.469402Z",
     "iopub.status.idle": "2024-09-09T00:22:44.476047Z",
     "shell.execute_reply": "2024-09-09T00:22:44.474837Z",
     "shell.execute_reply.started": "2024-09-09T00:22:44.469837Z"
    }
   },
   "outputs": [
    {
     "name": "stdout",
     "output_type": "stream",
     "text": [
      "[1, 3.333, 'a', 'b', 'box', False]\n"
     ]
    }
   ],
   "source": [
    "sample_list.insert(3,'b')\n",
    "print(sample_list)"
   ]
  },
  {
   "cell_type": "code",
   "execution_count": 36,
   "metadata": {
    "execution": {
     "iopub.execute_input": "2024-09-09T00:22:44.900360Z",
     "iopub.status.busy": "2024-09-09T00:22:44.899899Z",
     "iopub.status.idle": "2024-09-09T00:22:44.906301Z",
     "shell.execute_reply": "2024-09-09T00:22:44.904900Z",
     "shell.execute_reply.started": "2024-09-09T00:22:44.900318Z"
    }
   },
   "outputs": [],
   "source": [
    "new_list = [5,'e']"
   ]
  },
  {
   "cell_type": "code",
   "execution_count": 37,
   "metadata": {
    "execution": {
     "iopub.execute_input": "2024-09-09T00:22:45.982091Z",
     "iopub.status.busy": "2024-09-09T00:22:45.981699Z",
     "iopub.status.idle": "2024-09-09T00:22:45.988502Z",
     "shell.execute_reply": "2024-09-09T00:22:45.987094Z",
     "shell.execute_reply.started": "2024-09-09T00:22:45.982054Z"
    }
   },
   "outputs": [
    {
     "name": "stdout",
     "output_type": "stream",
     "text": [
      "[[5, 'e'], 1, 3.333, 'a', 'b', 'box', False]\n"
     ]
    }
   ],
   "source": [
    "sample_list.insert(0, new_list)\n",
    "print(sample_list)"
   ]
  },
  {
   "cell_type": "code",
   "execution_count": 38,
   "metadata": {
    "execution": {
     "iopub.execute_input": "2024-09-09T00:23:06.249207Z",
     "iopub.status.busy": "2024-09-09T00:23:06.248764Z",
     "iopub.status.idle": "2024-09-09T00:23:06.256609Z",
     "shell.execute_reply": "2024-09-09T00:23:06.255451Z",
     "shell.execute_reply.started": "2024-09-09T00:23:06.249147Z"
    }
   },
   "outputs": [
    {
     "data": {
      "text/plain": [
       "[5, 'e']"
      ]
     },
     "execution_count": 38,
     "metadata": {},
     "output_type": "execute_result"
    }
   ],
   "source": [
    "sample_list.pop(0)"
   ]
  },
  {
   "cell_type": "code",
   "execution_count": 39,
   "metadata": {
    "execution": {
     "iopub.execute_input": "2024-09-09T00:23:28.231981Z",
     "iopub.status.busy": "2024-09-09T00:23:28.231451Z",
     "iopub.status.idle": "2024-09-09T00:23:28.237525Z",
     "shell.execute_reply": "2024-09-09T00:23:28.236266Z",
     "shell.execute_reply.started": "2024-09-09T00:23:28.231929Z"
    }
   },
   "outputs": [],
   "source": [
    "sample_list.extend(new_list)"
   ]
  },
  {
   "cell_type": "code",
   "execution_count": 40,
   "metadata": {
    "execution": {
     "iopub.execute_input": "2024-09-09T00:23:33.987206Z",
     "iopub.status.busy": "2024-09-09T00:23:33.986746Z",
     "iopub.status.idle": "2024-09-09T00:23:33.993216Z",
     "shell.execute_reply": "2024-09-09T00:23:33.992010Z",
     "shell.execute_reply.started": "2024-09-09T00:23:33.987150Z"
    }
   },
   "outputs": [
    {
     "name": "stdout",
     "output_type": "stream",
     "text": [
      "[1, 3.333, 'a', 'b', 'box', False, 5, 'e']\n"
     ]
    }
   ],
   "source": [
    "print(sample_list)"
   ]
  },
  {
   "cell_type": "code",
   "execution_count": 41,
   "metadata": {
    "execution": {
     "iopub.execute_input": "2024-09-09T00:25:18.653610Z",
     "iopub.status.busy": "2024-09-09T00:25:18.653124Z",
     "iopub.status.idle": "2024-09-09T00:25:18.661910Z",
     "shell.execute_reply": "2024-09-09T00:25:18.660681Z",
     "shell.execute_reply.started": "2024-09-09T00:25:18.653566Z"
    }
   },
   "outputs": [
    {
     "data": {
      "text/plain": [
       "6"
      ]
     },
     "execution_count": 41,
     "metadata": {},
     "output_type": "execute_result"
    }
   ],
   "source": [
    "sample_list.index(5)"
   ]
  },
  {
   "cell_type": "code",
   "execution_count": 42,
   "metadata": {
    "execution": {
     "iopub.execute_input": "2024-09-09T00:25:28.347021Z",
     "iopub.status.busy": "2024-09-09T00:25:28.346627Z",
     "iopub.status.idle": "2024-09-09T00:25:28.383025Z",
     "shell.execute_reply": "2024-09-09T00:25:28.381577Z",
     "shell.execute_reply.started": "2024-09-09T00:25:28.346984Z"
    }
   },
   "outputs": [
    {
     "ename": "ValueError",
     "evalue": "9 is not in list",
     "output_type": "error",
     "traceback": [
      "\u001b[0;31m---------------------------------------------------------------------------\u001b[0m",
      "\u001b[0;31mValueError\u001b[0m                                Traceback (most recent call last)",
      "\u001b[0;32m/tmp/ipykernel_281055/705190283.py\u001b[0m in \u001b[0;36m<module>\u001b[0;34m\u001b[0m\n\u001b[0;32m----> 1\u001b[0;31m \u001b[0msample_list\u001b[0m\u001b[0;34m.\u001b[0m\u001b[0mindex\u001b[0m\u001b[0;34m(\u001b[0m\u001b[0;36m9\u001b[0m\u001b[0;34m)\u001b[0m\u001b[0;34m\u001b[0m\u001b[0;34m\u001b[0m\u001b[0m\n\u001b[0m",
      "\u001b[0;31mValueError\u001b[0m: 9 is not in list"
     ]
    }
   ],
   "source": [
    "sample_list.index(9)"
   ]
  },
  {
   "cell_type": "markdown",
   "metadata": {},
   "source": [
    "## First for loop"
   ]
  },
  {
   "cell_type": "code",
   "execution_count": 43,
   "metadata": {
    "execution": {
     "iopub.execute_input": "2024-09-09T00:26:34.061050Z",
     "iopub.status.busy": "2024-09-09T00:26:34.060181Z",
     "iopub.status.idle": "2024-09-09T00:26:34.067177Z",
     "shell.execute_reply": "2024-09-09T00:26:34.065788Z",
     "shell.execute_reply.started": "2024-09-09T00:26:34.061003Z"
    }
   },
   "outputs": [
    {
     "name": "stdout",
     "output_type": "stream",
     "text": [
      "1\n",
      "3.333\n",
      "a\n",
      "b\n",
      "box\n",
      "False\n",
      "5\n",
      "e\n"
     ]
    }
   ],
   "source": [
    "for element in sample_list:\n",
    "    print(element)"
   ]
  },
  {
   "cell_type": "code",
   "execution_count": 44,
   "metadata": {
    "execution": {
     "iopub.execute_input": "2024-09-09T00:27:55.730231Z",
     "iopub.status.busy": "2024-09-09T00:27:55.729670Z",
     "iopub.status.idle": "2024-09-09T00:27:55.737663Z",
     "shell.execute_reply": "2024-09-09T00:27:55.736252Z",
     "shell.execute_reply.started": "2024-09-09T00:27:55.730154Z"
    }
   },
   "outputs": [
    {
     "name": "stdout",
     "output_type": "stream",
     "text": [
      "0 1\n",
      "1 3.333\n",
      "2 a\n",
      "3 b\n",
      "4 box\n",
      "5 False\n",
      "6 5\n",
      "7 e\n"
     ]
    }
   ],
   "source": [
    "for index, element in enumerate(sample_list):\n",
    "    print(index, element)"
   ]
  },
  {
   "cell_type": "markdown",
   "metadata": {},
   "source": [
    "## Tuple is an immutable list."
   ]
  },
  {
   "cell_type": "code",
   "execution_count": 45,
   "metadata": {
    "execution": {
     "iopub.execute_input": "2024-09-09T00:29:38.290030Z",
     "iopub.status.busy": "2024-09-09T00:29:38.289279Z",
     "iopub.status.idle": "2024-09-09T00:29:38.295104Z",
     "shell.execute_reply": "2024-09-09T00:29:38.293956Z",
     "shell.execute_reply.started": "2024-09-09T00:29:38.289983Z"
    }
   },
   "outputs": [],
   "source": [
    "sample_tuple = (1, 3.333, 'a', 'box', False)"
   ]
  },
  {
   "cell_type": "code",
   "execution_count": 46,
   "metadata": {
    "execution": {
     "iopub.execute_input": "2024-09-09T00:29:45.248181Z",
     "iopub.status.busy": "2024-09-09T00:29:45.247709Z",
     "iopub.status.idle": "2024-09-09T00:29:45.255947Z",
     "shell.execute_reply": "2024-09-09T00:29:45.254601Z",
     "shell.execute_reply.started": "2024-09-09T00:29:45.248136Z"
    }
   },
   "outputs": [
    {
     "data": {
      "text/plain": [
       "tuple"
      ]
     },
     "execution_count": 46,
     "metadata": {},
     "output_type": "execute_result"
    }
   ],
   "source": [
    "type(sample_tuple)"
   ]
  },
  {
   "cell_type": "code",
   "execution_count": 47,
   "metadata": {
    "execution": {
     "iopub.execute_input": "2024-09-09T00:32:00.631144Z",
     "iopub.status.busy": "2024-09-09T00:32:00.630676Z",
     "iopub.status.idle": "2024-09-09T00:32:00.637793Z",
     "shell.execute_reply": "2024-09-09T00:32:00.636404Z",
     "shell.execute_reply.started": "2024-09-09T00:32:00.631093Z"
    }
   },
   "outputs": [
    {
     "name": "stdout",
     "output_type": "stream",
     "text": [
      "[1, 3.333, 'a', 'b', 'box', False, 5, 'e']\n"
     ]
    }
   ],
   "source": [
    "sample_list[0] = 1\n",
    "print(sample_list)"
   ]
  },
  {
   "cell_type": "code",
   "execution_count": 48,
   "metadata": {
    "execution": {
     "iopub.execute_input": "2024-09-09T00:32:12.386951Z",
     "iopub.status.busy": "2024-09-09T00:32:12.386520Z",
     "iopub.status.idle": "2024-09-09T00:32:12.417920Z",
     "shell.execute_reply": "2024-09-09T00:32:12.416375Z",
     "shell.execute_reply.started": "2024-09-09T00:32:12.386910Z"
    }
   },
   "outputs": [
    {
     "ename": "TypeError",
     "evalue": "'tuple' object does not support item assignment",
     "output_type": "error",
     "traceback": [
      "\u001b[0;31m---------------------------------------------------------------------------\u001b[0m",
      "\u001b[0;31mTypeError\u001b[0m                                 Traceback (most recent call last)",
      "\u001b[0;32m/tmp/ipykernel_281055/2423077447.py\u001b[0m in \u001b[0;36m<module>\u001b[0;34m\u001b[0m\n\u001b[0;32m----> 1\u001b[0;31m \u001b[0msample_tuple\u001b[0m\u001b[0;34m[\u001b[0m\u001b[0;36m0\u001b[0m\u001b[0;34m]\u001b[0m \u001b[0;34m=\u001b[0m \u001b[0;36m1\u001b[0m\u001b[0;34m\u001b[0m\u001b[0;34m\u001b[0m\u001b[0m\n\u001b[0m",
      "\u001b[0;31mTypeError\u001b[0m: 'tuple' object does not support item assignment"
     ]
    }
   ],
   "source": [
    "sample_tuple[0] = 1"
   ]
  },
  {
   "cell_type": "markdown",
   "metadata": {},
   "source": [
    "## Some useful built in functions for sequential dat types."
   ]
  },
  {
   "cell_type": "markdown",
   "metadata": {},
   "source": [
    "### sorted"
   ]
  },
  {
   "cell_type": "code",
   "execution_count": 49,
   "metadata": {
    "execution": {
     "iopub.execute_input": "2024-09-09T01:09:54.594213Z",
     "iopub.status.busy": "2024-09-09T01:09:54.593020Z",
     "iopub.status.idle": "2024-09-09T01:09:54.600465Z",
     "shell.execute_reply": "2024-09-09T01:09:54.598820Z",
     "shell.execute_reply.started": "2024-09-09T01:09:54.594141Z"
    }
   },
   "outputs": [],
   "source": [
    "numbers = [1, 224,221,1.1,224.01,9999,22,33,12,21,25,45]\n",
    "sorted_numbers = sorted(numbers)"
   ]
  },
  {
   "cell_type": "code",
   "execution_count": 50,
   "metadata": {
    "execution": {
     "iopub.execute_input": "2024-09-09T01:10:03.871233Z",
     "iopub.status.busy": "2024-09-09T01:10:03.870758Z",
     "iopub.status.idle": "2024-09-09T01:10:03.877960Z",
     "shell.execute_reply": "2024-09-09T01:10:03.876529Z",
     "shell.execute_reply.started": "2024-09-09T01:10:03.871161Z"
    }
   },
   "outputs": [
    {
     "name": "stdout",
     "output_type": "stream",
     "text": [
      "[1, 1.1, 12, 21, 22, 25, 33, 45, 221, 224, 224.01, 9999]\n"
     ]
    }
   ],
   "source": [
    "print(sorted_numbers)"
   ]
  },
  {
   "cell_type": "markdown",
   "metadata": {},
   "source": [
    "### zip"
   ]
  },
  {
   "cell_type": "markdown",
   "metadata": {},
   "source": [
    "Zip function \"zips\" together two or more sequential data types to create a list of tuples."
   ]
  },
  {
   "cell_type": "code",
   "execution_count": 142,
   "metadata": {
    "execution": {
     "iopub.execute_input": "2024-09-09T01:25:34.280923Z",
     "iopub.status.busy": "2024-09-09T01:25:34.280474Z",
     "iopub.status.idle": "2024-09-09T01:25:34.287177Z",
     "shell.execute_reply": "2024-09-09T01:25:34.285820Z",
     "shell.execute_reply.started": "2024-09-09T01:25:34.280878Z"
    }
   },
   "outputs": [],
   "source": [
    "string_list = ['a','b','c','d']\n",
    "number_list = [ 0 , 2 , 3 , 4 ]\n"
   ]
  },
  {
   "cell_type": "code",
   "execution_count": 143,
   "metadata": {
    "execution": {
     "iopub.execute_input": "2024-09-09T01:25:34.810993Z",
     "iopub.status.busy": "2024-09-09T01:25:34.810556Z",
     "iopub.status.idle": "2024-09-09T01:25:34.817661Z",
     "shell.execute_reply": "2024-09-09T01:25:34.816273Z",
     "shell.execute_reply.started": "2024-09-09T01:25:34.810951Z"
    }
   },
   "outputs": [
    {
     "name": "stdout",
     "output_type": "stream",
     "text": [
      "<zip object at 0x7d5d5f8c9ec0>\n"
     ]
    }
   ],
   "source": [
    "string_number_zip = zip(number_list,string_list)\n",
    "print(string_number_zip)"
   ]
  },
  {
   "cell_type": "code",
   "execution_count": 144,
   "metadata": {
    "execution": {
     "iopub.execute_input": "2024-09-09T01:25:35.850758Z",
     "iopub.status.busy": "2024-09-09T01:25:35.850307Z",
     "iopub.status.idle": "2024-09-09T01:25:35.858920Z",
     "shell.execute_reply": "2024-09-09T01:25:35.857558Z",
     "shell.execute_reply.started": "2024-09-09T01:25:35.850715Z"
    }
   },
   "outputs": [
    {
     "data": {
      "text/plain": [
       "[(0, 'a'), (2, 'b'), (3, 'c'), (4, 'd')]"
      ]
     },
     "execution_count": 144,
     "metadata": {},
     "output_type": "execute_result"
    }
   ],
   "source": [
    "list(string_number_zip)"
   ]
  },
  {
   "cell_type": "code",
   "execution_count": 145,
   "metadata": {
    "execution": {
     "iopub.execute_input": "2024-09-09T01:46:57.684281Z",
     "iopub.status.busy": "2024-09-09T01:46:57.683804Z",
     "iopub.status.idle": "2024-09-09T01:46:57.690952Z",
     "shell.execute_reply": "2024-09-09T01:46:57.689520Z",
     "shell.execute_reply.started": "2024-09-09T01:46:57.684233Z"
    }
   },
   "outputs": [
    {
     "name": "stdout",
     "output_type": "stream",
     "text": [
      "Index 0, element 1:0,element 2:a\n",
      "Index 1, element 1:2,element 2:b\n",
      "Index 2, element 1:3,element 2:c\n",
      "Index 3, element 1:4,element 2:d\n"
     ]
    }
   ],
   "source": [
    "for i, (a,b) in enumerate(zip(number_list,string_list)):\n",
    "    print(f'Index {i}, element 1:{a},element 2:{b}')"
   ]
  },
  {
   "cell_type": "markdown",
   "metadata": {},
   "source": [
    "## Sets : same characterstics as the sets in mathematics"
   ]
  },
  {
   "cell_type": "code",
   "execution_count": 94,
   "metadata": {
    "execution": {
     "iopub.execute_input": "2024-09-09T00:34:06.124200Z",
     "iopub.status.busy": "2024-09-09T00:34:06.123768Z",
     "iopub.status.idle": "2024-09-09T00:34:06.129822Z",
     "shell.execute_reply": "2024-09-09T00:34:06.128589Z",
     "shell.execute_reply.started": "2024-09-09T00:34:06.124143Z"
    }
   },
   "outputs": [],
   "source": [
    "set1 =  {'python','julia','java'}\n",
    "set2 =  {'cpp','c','java'}"
   ]
  },
  {
   "cell_type": "code",
   "execution_count": 96,
   "metadata": {
    "execution": {
     "iopub.execute_input": "2024-09-09T00:34:35.036738Z",
     "iopub.status.busy": "2024-09-09T00:34:35.036299Z",
     "iopub.status.idle": "2024-09-09T00:34:35.042897Z",
     "shell.execute_reply": "2024-09-09T00:34:35.041522Z",
     "shell.execute_reply.started": "2024-09-09T00:34:35.036694Z"
    }
   },
   "outputs": [
    {
     "name": "stdout",
     "output_type": "stream",
     "text": [
      "{'java', 'python', 'julia'}\n"
     ]
    }
   ],
   "source": [
    "print(set1)"
   ]
  },
  {
   "cell_type": "code",
   "execution_count": 97,
   "metadata": {
    "execution": {
     "iopub.execute_input": "2024-09-09T00:35:15.476591Z",
     "iopub.status.busy": "2024-09-09T00:35:15.476096Z",
     "iopub.status.idle": "2024-09-09T00:35:15.482888Z",
     "shell.execute_reply": "2024-09-09T00:35:15.481646Z",
     "shell.execute_reply.started": "2024-09-09T00:35:15.476543Z"
    }
   },
   "outputs": [
    {
     "name": "stdout",
     "output_type": "stream",
     "text": [
      "{'java', 'python', 'julia'}\n"
     ]
    }
   ],
   "source": [
    "set1 =  {'python','julia','java','julia'}\n",
    "print(set1)"
   ]
  },
  {
   "cell_type": "code",
   "execution_count": 99,
   "metadata": {
    "execution": {
     "iopub.execute_input": "2024-09-09T00:36:04.146647Z",
     "iopub.status.busy": "2024-09-09T00:36:04.146245Z",
     "iopub.status.idle": "2024-09-09T00:36:04.154071Z",
     "shell.execute_reply": "2024-09-09T00:36:04.152824Z",
     "shell.execute_reply.started": "2024-09-09T00:36:04.146609Z"
    }
   },
   "outputs": [
    {
     "data": {
      "text/plain": [
       "True"
      ]
     },
     "execution_count": 99,
     "metadata": {},
     "output_type": "execute_result"
    }
   ],
   "source": [
    "'julia' in set1 #can be done with lists and tuples as well\n",
    "#but sets are optimized for membership tests"
   ]
  },
  {
   "cell_type": "code",
   "execution_count": 100,
   "metadata": {
    "execution": {
     "iopub.execute_input": "2024-09-09T00:36:42.425857Z",
     "iopub.status.busy": "2024-09-09T00:36:42.425305Z",
     "iopub.status.idle": "2024-09-09T00:36:42.436128Z",
     "shell.execute_reply": "2024-09-09T00:36:42.434673Z",
     "shell.execute_reply.started": "2024-09-09T00:36:42.425773Z"
    }
   },
   "outputs": [
    {
     "name": "stdout",
     "output_type": "stream",
     "text": [
      "{'java'}\n"
     ]
    }
   ],
   "source": [
    "print(set1.intersection(set2))"
   ]
  },
  {
   "cell_type": "code",
   "execution_count": 101,
   "metadata": {
    "execution": {
     "iopub.execute_input": "2024-09-09T00:36:52.376520Z",
     "iopub.status.busy": "2024-09-09T00:36:52.375983Z",
     "iopub.status.idle": "2024-09-09T00:36:52.383032Z",
     "shell.execute_reply": "2024-09-09T00:36:52.381589Z",
     "shell.execute_reply.started": "2024-09-09T00:36:52.376397Z"
    }
   },
   "outputs": [
    {
     "name": "stdout",
     "output_type": "stream",
     "text": [
      "{'python', 'julia'}\n"
     ]
    }
   ],
   "source": [
    "print(set1.difference(set2))"
   ]
  },
  {
   "cell_type": "code",
   "execution_count": 102,
   "metadata": {
    "execution": {
     "iopub.execute_input": "2024-09-09T00:37:13.782460Z",
     "iopub.status.busy": "2024-09-09T00:37:13.782039Z",
     "iopub.status.idle": "2024-09-09T00:37:13.788470Z",
     "shell.execute_reply": "2024-09-09T00:37:13.787276Z",
     "shell.execute_reply.started": "2024-09-09T00:37:13.782418Z"
    }
   },
   "outputs": [
    {
     "name": "stdout",
     "output_type": "stream",
     "text": [
      "set()\n"
     ]
    }
   ],
   "source": [
    "print(set2.difference(set2))"
   ]
  },
  {
   "cell_type": "code",
   "execution_count": 103,
   "metadata": {
    "execution": {
     "iopub.execute_input": "2024-09-09T00:37:23.233909Z",
     "iopub.status.busy": "2024-09-09T00:37:23.233420Z",
     "iopub.status.idle": "2024-09-09T00:37:23.240595Z",
     "shell.execute_reply": "2024-09-09T00:37:23.239350Z",
     "shell.execute_reply.started": "2024-09-09T00:37:23.233865Z"
    }
   },
   "outputs": [
    {
     "name": "stdout",
     "output_type": "stream",
     "text": [
      "{'c', 'cpp'}\n"
     ]
    }
   ],
   "source": [
    "print(set2.difference(set1))"
   ]
  },
  {
   "cell_type": "code",
   "execution_count": 104,
   "metadata": {
    "execution": {
     "iopub.execute_input": "2024-09-09T00:37:33.430033Z",
     "iopub.status.busy": "2024-09-09T00:37:33.429553Z",
     "iopub.status.idle": "2024-09-09T00:37:33.436666Z",
     "shell.execute_reply": "2024-09-09T00:37:33.435295Z",
     "shell.execute_reply.started": "2024-09-09T00:37:33.429973Z"
    }
   },
   "outputs": [
    {
     "name": "stdout",
     "output_type": "stream",
     "text": [
      "{'c', 'java', 'python', 'cpp', 'julia'}\n"
     ]
    }
   ],
   "source": [
    "print(set2.union(set1))"
   ]
  },
  {
   "cell_type": "markdown",
   "metadata": {},
   "source": [
    "## Dictionaries"
   ]
  },
  {
   "cell_type": "code",
   "execution_count": 149,
   "metadata": {
    "execution": {
     "iopub.execute_input": "2024-09-09T01:51:40.883370Z",
     "iopub.status.busy": "2024-09-09T01:51:40.882726Z",
     "iopub.status.idle": "2024-09-09T01:51:40.889628Z",
     "shell.execute_reply": "2024-09-09T01:51:40.888280Z",
     "shell.execute_reply.started": "2024-09-09T01:51:40.883324Z"
    }
   },
   "outputs": [],
   "source": [
    "dict1 = {'cation':'Na+','e': 2.71828,1:2}"
   ]
  },
  {
   "cell_type": "code",
   "execution_count": 150,
   "metadata": {
    "execution": {
     "iopub.execute_input": "2024-09-09T01:51:48.221902Z",
     "iopub.status.busy": "2024-09-09T01:51:48.221471Z",
     "iopub.status.idle": "2024-09-09T01:51:48.231246Z",
     "shell.execute_reply": "2024-09-09T01:51:48.230076Z",
     "shell.execute_reply.started": "2024-09-09T01:51:48.221858Z"
    }
   },
   "outputs": [
    {
     "data": {
      "text/plain": [
       "{'cation': 'Na+', 'e': 2.71828, 1: 2}"
      ]
     },
     "execution_count": 150,
     "metadata": {},
     "output_type": "execute_result"
    }
   ],
   "source": [
    "dict1"
   ]
  },
  {
   "cell_type": "code",
   "execution_count": 151,
   "metadata": {
    "execution": {
     "iopub.execute_input": "2024-09-09T01:52:30.655842Z",
     "iopub.status.busy": "2024-09-09T01:52:30.655391Z",
     "iopub.status.idle": "2024-09-09T01:52:30.663383Z",
     "shell.execute_reply": "2024-09-09T01:52:30.662111Z",
     "shell.execute_reply.started": "2024-09-09T01:52:30.655796Z"
    }
   },
   "outputs": [
    {
     "data": {
      "text/plain": [
       "'Na+'"
      ]
     },
     "execution_count": 151,
     "metadata": {},
     "output_type": "execute_result"
    }
   ],
   "source": [
    "dict1['cation']"
   ]
  },
  {
   "cell_type": "code",
   "execution_count": 152,
   "metadata": {
    "execution": {
     "iopub.execute_input": "2024-09-09T01:53:02.742404Z",
     "iopub.status.busy": "2024-09-09T01:53:02.741966Z",
     "iopub.status.idle": "2024-09-09T01:53:02.747878Z",
     "shell.execute_reply": "2024-09-09T01:53:02.746686Z",
     "shell.execute_reply.started": "2024-09-09T01:53:02.742363Z"
    }
   },
   "outputs": [],
   "source": [
    "del dict1[1]"
   ]
  },
  {
   "cell_type": "code",
   "execution_count": 153,
   "metadata": {
    "execution": {
     "iopub.execute_input": "2024-09-09T01:53:08.622460Z",
     "iopub.status.busy": "2024-09-09T01:53:08.621092Z",
     "iopub.status.idle": "2024-09-09T01:53:08.629619Z",
     "shell.execute_reply": "2024-09-09T01:53:08.628495Z",
     "shell.execute_reply.started": "2024-09-09T01:53:08.622403Z"
    }
   },
   "outputs": [
    {
     "data": {
      "text/plain": [
       "{'cation': 'Na+', 'e': 2.71828}"
      ]
     },
     "execution_count": 153,
     "metadata": {},
     "output_type": "execute_result"
    }
   ],
   "source": [
    "dict1"
   ]
  },
  {
   "cell_type": "markdown",
   "metadata": {},
   "source": [
    "### Creating dictionaries from lists (or other sequence data types)"
   ]
  },
  {
   "cell_type": "code",
   "execution_count": 154,
   "metadata": {
    "execution": {
     "iopub.execute_input": "2024-09-09T01:55:01.286476Z",
     "iopub.status.busy": "2024-09-09T01:55:01.285982Z",
     "iopub.status.idle": "2024-09-09T01:55:01.292014Z",
     "shell.execute_reply": "2024-09-09T01:55:01.290867Z",
     "shell.execute_reply.started": "2024-09-09T01:55:01.286428Z"
    }
   },
   "outputs": [],
   "source": [
    "string_list = ['a','b','c','d']\n",
    "number_list = [ 0 , 2 , 3 , 4 ]"
   ]
  },
  {
   "cell_type": "code",
   "execution_count": 157,
   "metadata": {
    "execution": {
     "iopub.execute_input": "2024-09-09T01:56:08.577511Z",
     "iopub.status.busy": "2024-09-09T01:56:08.576439Z",
     "iopub.status.idle": "2024-09-09T01:56:08.583529Z",
     "shell.execute_reply": "2024-09-09T01:56:08.582081Z",
     "shell.execute_reply.started": "2024-09-09T01:56:08.577444Z"
    }
   },
   "outputs": [],
   "source": [
    "dict2 = dict(zip(string_list,number_list))"
   ]
  },
  {
   "cell_type": "code",
   "execution_count": 158,
   "metadata": {
    "execution": {
     "iopub.execute_input": "2024-09-09T01:56:09.039565Z",
     "iopub.status.busy": "2024-09-09T01:56:09.039144Z",
     "iopub.status.idle": "2024-09-09T01:56:09.047599Z",
     "shell.execute_reply": "2024-09-09T01:56:09.045970Z",
     "shell.execute_reply.started": "2024-09-09T01:56:09.039525Z"
    }
   },
   "outputs": [
    {
     "data": {
      "text/plain": [
       "{'a': 0, 'b': 2, 'c': 3, 'd': 4}"
      ]
     },
     "execution_count": 158,
     "metadata": {},
     "output_type": "execute_result"
    }
   ],
   "source": [
    "dict2"
   ]
  },
  {
   "cell_type": "code",
   "execution_count": 159,
   "metadata": {
    "execution": {
     "iopub.execute_input": "2024-09-09T02:00:38.200517Z",
     "iopub.status.busy": "2024-09-09T02:00:38.199974Z",
     "iopub.status.idle": "2024-09-09T02:00:38.210711Z",
     "shell.execute_reply": "2024-09-09T02:00:38.209439Z",
     "shell.execute_reply.started": "2024-09-09T02:00:38.200445Z"
    }
   },
   "outputs": [
    {
     "data": {
      "text/plain": [
       "0"
      ]
     },
     "execution_count": 159,
     "metadata": {},
     "output_type": "execute_result"
    }
   ],
   "source": [
    "dict2.get('a')"
   ]
  },
  {
   "cell_type": "markdown",
   "metadata": {},
   "source": [
    "### Only immutable datatypes can be used as a key in dictionary. For exampe lists can't be used keys."
   ]
  },
  {
   "cell_type": "markdown",
   "metadata": {},
   "source": [
    "## Complex Numbers"
   ]
  },
  {
   "cell_type": "code",
   "execution_count": 1,
   "metadata": {
    "execution": {
     "iopub.execute_input": "2024-09-09T03:04:14.293706Z",
     "iopub.status.busy": "2024-09-09T03:04:14.293108Z",
     "iopub.status.idle": "2024-09-09T03:04:14.310460Z",
     "shell.execute_reply": "2024-09-09T03:04:14.308793Z",
     "shell.execute_reply.started": "2024-09-09T03:04:14.293635Z"
    }
   },
   "outputs": [],
   "source": [
    "z=5+3j"
   ]
  },
  {
   "cell_type": "code",
   "execution_count": 2,
   "metadata": {
    "execution": {
     "iopub.execute_input": "2024-09-09T03:04:31.986777Z",
     "iopub.status.busy": "2024-09-09T03:04:31.986211Z",
     "iopub.status.idle": "2024-09-09T03:04:31.996233Z",
     "shell.execute_reply": "2024-09-09T03:04:31.994737Z",
     "shell.execute_reply.started": "2024-09-09T03:04:31.986727Z"
    }
   },
   "outputs": [
    {
     "data": {
      "text/plain": [
       "complex"
      ]
     },
     "execution_count": 2,
     "metadata": {},
     "output_type": "execute_result"
    }
   ],
   "source": [
    "type(z)"
   ]
  },
  {
   "cell_type": "code",
   "execution_count": 3,
   "metadata": {
    "execution": {
     "iopub.execute_input": "2024-09-09T03:04:40.758516Z",
     "iopub.status.busy": "2024-09-09T03:04:40.758035Z",
     "iopub.status.idle": "2024-09-09T03:04:40.767645Z",
     "shell.execute_reply": "2024-09-09T03:04:40.766077Z",
     "shell.execute_reply.started": "2024-09-09T03:04:40.758465Z"
    }
   },
   "outputs": [
    {
     "data": {
      "text/plain": [
       "(12+3j)"
      ]
     },
     "execution_count": 3,
     "metadata": {},
     "output_type": "execute_result"
    }
   ],
   "source": [
    "z+7"
   ]
  },
  {
   "cell_type": "code",
   "execution_count": 4,
   "metadata": {
    "execution": {
     "iopub.execute_input": "2024-09-09T03:04:48.612763Z",
     "iopub.status.busy": "2024-09-09T03:04:48.612148Z",
     "iopub.status.idle": "2024-09-09T03:04:48.619304Z",
     "shell.execute_reply": "2024-09-09T03:04:48.617735Z",
     "shell.execute_reply.started": "2024-09-09T03:04:48.612696Z"
    }
   },
   "outputs": [],
   "source": [
    "z2=4-3j"
   ]
  },
  {
   "cell_type": "code",
   "execution_count": 5,
   "metadata": {
    "execution": {
     "iopub.execute_input": "2024-09-09T03:04:54.821136Z",
     "iopub.status.busy": "2024-09-09T03:04:54.820693Z",
     "iopub.status.idle": "2024-09-09T03:04:54.829363Z",
     "shell.execute_reply": "2024-09-09T03:04:54.827649Z",
     "shell.execute_reply.started": "2024-09-09T03:04:54.821093Z"
    }
   },
   "outputs": [
    {
     "name": "stdout",
     "output_type": "stream",
     "text": [
      "(9+0j)\n"
     ]
    }
   ],
   "source": [
    "z3=z+z2\n",
    "print(z3)\n",
    "\n"
   ]
  },
  {
   "cell_type": "code",
   "execution_count": 6,
   "metadata": {
    "execution": {
     "iopub.execute_input": "2024-09-09T03:05:01.830942Z",
     "iopub.status.busy": "2024-09-09T03:05:01.830445Z",
     "iopub.status.idle": "2024-09-09T03:05:01.839213Z",
     "shell.execute_reply": "2024-09-09T03:05:01.837878Z",
     "shell.execute_reply.started": "2024-09-09T03:05:01.830886Z"
    }
   },
   "outputs": [
    {
     "data": {
      "text/plain": [
       "0.0"
      ]
     },
     "execution_count": 6,
     "metadata": {},
     "output_type": "execute_result"
    }
   ],
   "source": [
    "z3.imag"
   ]
  },
  {
   "cell_type": "code",
   "execution_count": 8,
   "metadata": {
    "execution": {
     "iopub.execute_input": "2024-09-09T03:05:33.575098Z",
     "iopub.status.busy": "2024-09-09T03:05:33.574629Z",
     "iopub.status.idle": "2024-09-09T03:05:33.583496Z",
     "shell.execute_reply": "2024-09-09T03:05:33.581861Z",
     "shell.execute_reply.started": "2024-09-09T03:05:33.575050Z"
    }
   },
   "outputs": [
    {
     "data": {
      "text/plain": [
       "(7-24j)"
      ]
     },
     "execution_count": 8,
     "metadata": {},
     "output_type": "execute_result"
    }
   ],
   "source": [
    "z2**2 "
   ]
  },
  {
   "cell_type": "code",
   "execution_count": null,
   "metadata": {},
   "outputs": [],
   "source": []
  }
 ],
 "metadata": {
  "kaggle": {
   "accelerator": "none",
   "dataSources": [],
   "dockerImageVersionId": 30761,
   "isGpuEnabled": false,
   "isInternetEnabled": false,
   "language": "python",
   "sourceType": "notebook"
  },
  "kernelspec": {
   "display_name": "Python 3 (ipykernel)",
   "language": "python",
   "name": "python3"
  },
  "language_info": {
   "codemirror_mode": {
    "name": "ipython",
    "version": 3
   },
   "file_extension": ".py",
   "mimetype": "text/x-python",
   "name": "python",
   "nbconvert_exporter": "python",
   "pygments_lexer": "ipython3",
   "version": "3.9.12"
  }
 },
 "nbformat": 4,
 "nbformat_minor": 4
}
