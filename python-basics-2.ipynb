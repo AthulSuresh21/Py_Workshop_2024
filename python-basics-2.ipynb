{
 "cells": [
  {
   "cell_type": "markdown",
   "metadata": {},
   "source": [
    "## User defined functions in python"
   ]
  },
  {
   "cell_type": "markdown",
   "metadata": {},
   "source": [
    "- In many languages, there is a begin function / end function statement.\n",
    "- In python, this is replaced by indentation and a space."
   ]
  },
  {
   "cell_type": "code",
   "execution_count": 5,
   "metadata": {
    "execution": {
     "iopub.execute_input": "2024-09-09T03:09:43.509725Z",
     "iopub.status.busy": "2024-09-09T03:09:43.509267Z",
     "iopub.status.idle": "2024-09-09T03:09:43.518866Z",
     "shell.execute_reply": "2024-09-09T03:09:43.517457Z",
     "shell.execute_reply.started": "2024-09-09T03:09:43.509679Z"
    }
   },
   "outputs": [
    {
     "data": {
      "text/plain": [
       "98.60000000000001"
      ]
     },
     "execution_count": 5,
     "metadata": {},
     "output_type": "execute_result"
    }
   ],
   "source": [
    "(9/5)*37 + 32"
   ]
  },
  {
   "cell_type": "code",
   "execution_count": 6,
   "metadata": {
    "execution": {
     "iopub.execute_input": "2024-09-09T03:10:42.410391Z",
     "iopub.status.busy": "2024-09-09T03:10:42.409956Z",
     "iopub.status.idle": "2024-09-09T03:10:42.416433Z",
     "shell.execute_reply": "2024-09-09T03:10:42.415108Z",
     "shell.execute_reply.started": "2024-09-09T03:10:42.410349Z"
    }
   },
   "outputs": [],
   "source": [
    "def c_to_f(C):\n",
    "    F = (9.0/5.0)*C+32  #notice indentation.\n",
    "    return F # Return is used to assign outputs."
   ]
  },
  {
   "cell_type": "code",
   "execution_count": 7,
   "metadata": {
    "execution": {
     "iopub.execute_input": "2024-09-09T03:10:53.913179Z",
     "iopub.status.busy": "2024-09-09T03:10:53.912633Z",
     "iopub.status.idle": "2024-09-09T03:10:53.921629Z",
     "shell.execute_reply": "2024-09-09T03:10:53.920218Z",
     "shell.execute_reply.started": "2024-09-09T03:10:53.913132Z"
    }
   },
   "outputs": [
    {
     "data": {
      "text/plain": [
       "212.0"
      ]
     },
     "execution_count": 7,
     "metadata": {},
     "output_type": "execute_result"
    }
   ],
   "source": [
    "c_to_f(100) # If you do not give an input, python does not know what to do."
   ]
  },
  {
   "cell_type": "code",
   "execution_count": 8,
   "metadata": {
    "execution": {
     "iopub.execute_input": "2024-09-09T03:11:15.085749Z",
     "iopub.status.busy": "2024-09-09T03:11:15.085273Z",
     "iopub.status.idle": "2024-09-09T03:11:15.091933Z",
     "shell.execute_reply": "2024-09-09T03:11:15.090608Z",
     "shell.execute_reply.started": "2024-09-09T03:11:15.085703Z"
    }
   },
   "outputs": [],
   "source": [
    "def c_to_f_default_input(C=0):\n",
    "    F = (9.0/5)*C+32 \n",
    "    return F # Return is used to assign outputs.\n"
   ]
  },
  {
   "cell_type": "code",
   "execution_count": 9,
   "metadata": {
    "execution": {
     "iopub.execute_input": "2024-09-09T03:12:01.617073Z",
     "iopub.status.busy": "2024-09-09T03:12:01.616593Z",
     "iopub.status.idle": "2024-09-09T03:12:01.625069Z",
     "shell.execute_reply": "2024-09-09T03:12:01.623634Z",
     "shell.execute_reply.started": "2024-09-09T03:12:01.617031Z"
    }
   },
   "outputs": [
    {
     "data": {
      "text/plain": [
       "32.0"
      ]
     },
     "execution_count": 9,
     "metadata": {},
     "output_type": "execute_result"
    }
   ],
   "source": [
    "c_to_f_default_input()"
   ]
  },
  {
   "cell_type": "markdown",
   "metadata": {},
   "source": [
    "### python functions can return multiple values in the form of a tuple. This feature is not available in other languages like C++. "
   ]
  },
  {
   "cell_type": "code",
   "execution_count": 10,
   "metadata": {
    "execution": {
     "iopub.execute_input": "2024-09-09T03:23:40.821390Z",
     "iopub.status.busy": "2024-09-09T03:23:40.820790Z",
     "iopub.status.idle": "2024-09-09T03:23:40.828732Z",
     "shell.execute_reply": "2024-09-09T03:23:40.827233Z",
     "shell.execute_reply.started": "2024-09-09T03:23:40.821330Z"
    }
   },
   "outputs": [],
   "source": [
    "def f_to_c_and_k(F=0):\n",
    "    return (F-32)*(5.0/9.0), (F-32)*(5.0/9.0) + 273.15"
   ]
  },
  {
   "cell_type": "code",
   "execution_count": 11,
   "metadata": {
    "execution": {
     "iopub.execute_input": "2024-09-09T03:24:00.692339Z",
     "iopub.status.busy": "2024-09-09T03:24:00.691869Z",
     "iopub.status.idle": "2024-09-09T03:24:00.702896Z",
     "shell.execute_reply": "2024-09-09T03:24:00.701581Z",
     "shell.execute_reply.started": "2024-09-09T03:24:00.692294Z"
    }
   },
   "outputs": [
    {
     "data": {
      "text/plain": [
       "(37.77777777777778, 310.92777777777775)"
      ]
     },
     "execution_count": 11,
     "metadata": {},
     "output_type": "execute_result"
    }
   ],
   "source": [
    "f_to_c_and_k(100)"
   ]
  },
  {
   "cell_type": "code",
   "execution_count": 13,
   "metadata": {
    "execution": {
     "iopub.execute_input": "2024-09-09T03:24:24.686204Z",
     "iopub.status.busy": "2024-09-09T03:24:24.685762Z",
     "iopub.status.idle": "2024-09-09T03:24:24.693839Z",
     "shell.execute_reply": "2024-09-09T03:24:24.692462Z",
     "shell.execute_reply.started": "2024-09-09T03:24:24.686155Z"
    }
   },
   "outputs": [
    {
     "data": {
      "text/plain": [
       "(1, 2)"
      ]
     },
     "execution_count": 13,
     "metadata": {},
     "output_type": "execute_result"
    }
   ],
   "source": [
    "1,2"
   ]
  },
  {
   "cell_type": "markdown",
   "metadata": {},
   "source": [
    "## Some advanced list operations"
   ]
  },
  {
   "cell_type": "code",
   "execution_count": 5,
   "metadata": {},
   "outputs": [],
   "source": [
    "fib_list = [1,1]\n",
    "a,b = fib_list #unpacking in python\n",
    "for i in range(10):\n",
    "    a,b = b, a+b\n",
    "    fib_list.append(b)"
   ]
  },
  {
   "cell_type": "code",
   "execution_count": 6,
   "metadata": {},
   "outputs": [
    {
     "data": {
      "text/plain": [
       "[1, 1, 2, 3, 5, 8, 13, 21, 34, 55, 89, 144]"
      ]
     },
     "execution_count": 6,
     "metadata": {},
     "output_type": "execute_result"
    }
   ],
   "source": [
    "fib_list"
   ]
  },
  {
   "cell_type": "code",
   "execution_count": 7,
   "metadata": {},
   "outputs": [
    {
     "data": {
      "text/plain": [
       "12"
      ]
     },
     "execution_count": 7,
     "metadata": {},
     "output_type": "execute_result"
    }
   ],
   "source": [
    "len(fib_list)"
   ]
  },
  {
   "cell_type": "markdown",
   "metadata": {},
   "source": [
    "## Another useful function on lists, sum"
   ]
  },
  {
   "cell_type": "code",
   "execution_count": 8,
   "metadata": {},
   "outputs": [
    {
     "data": {
      "text/plain": [
       "376"
      ]
     },
     "execution_count": 8,
     "metadata": {},
     "output_type": "execute_result"
    }
   ],
   "source": [
    "sum(fib_list)"
   ]
  },
  {
   "cell_type": "markdown",
   "metadata": {},
   "source": [
    "### Find the sum of the series \n",
    "$\\frac{1}{2} + \\frac{1}{4} + \\frac{1}{8} + ... $\n",
    "Using lists"
   ]
  },
  {
   "cell_type": "code",
   "execution_count": 22,
   "metadata": {},
   "outputs": [
    {
     "data": {
      "text/plain": [
       "1.0"
      ]
     },
     "execution_count": 22,
     "metadata": {},
     "output_type": "execute_result"
    }
   ],
   "source": [
    "num_list = [] # defining an empty list\n",
    "a = 1/2\n",
    "r = 1/2\n",
    "n = 501\n",
    "\n",
    "for i in range(n):\n",
    "    num_list.append(a*r**i)\n",
    "    \n",
    "sum(num_list)"
   ]
  },
  {
   "cell_type": "markdown",
   "metadata": {},
   "source": [
    "## List comprehensions - make python so cool"
   ]
  },
  {
   "cell_type": "code",
   "execution_count": 23,
   "metadata": {},
   "outputs": [
    {
     "name": "stdout",
     "output_type": "stream",
     "text": [
      "[1, 4, 9, 16, 25, 36, 49, 64, 81, 100]\n"
     ]
    }
   ],
   "source": [
    "list_sq = [n**2 for n in range(1,11)]\n",
    "print(list_sq)"
   ]
  },
  {
   "cell_type": "markdown",
   "metadata": {},
   "source": [
    "## Exercise:\n",
    "### The DNA sequence encodes the genetic information of an organism. It is a string consisting of 4 letters - **A**,**T**,**G** and **C**. The sequence provided by your co-worker is in the form of a single string. Convert the letter codes to upper case.Determine the frequence of each nucleotide.Finally,convert it into a list with each element corresponding to the respective nucleotide.\n",
    "\n",
    "DNA_sequence = ttaacccacagtggtaggatagcggtggttatagaataggatatatactgttctgaccgc\n",
    "ataccgataagatgacgaacaaaggtaccgatcgcttagaattcaacggcgtcccacatg\n",
    "gatttatcctcaagtacttgctggccggctagtggtttatctgcgagcggcacccaacgg\n",
    "atttggctaaggaagccttgcagcgttagtctccggggagaccgtcccagtctatcgaaa\n",
    "tctcgcacggtctaatagtcgccgcaatggcctgcatatactgaccgtaccgttcgggac\n",
    "tagcagtgatgggctagttcgcgcaggtgagccgagaaaggcacggtacgaggaggatgc\n",
    "ggggagcttccaacaaacggggccaacgtgactgtcgagcacatgacctaagttcctcta\n",
    "gattaacccgcgcccacggctttttaaataccccgcttttcactcccaagcatcactgtc\n",
    "gagaatggcattacctattgtccgttcgctggtatcacagcgatatcaatgtctggccac\n",
    "ggataaagtaatcatgatgtaatcgtctcgaacccttgactcttggagacccgttactct\n",
    "caaacaagtaacaggttaggagctggcgttgtttgatttcaggataaacgtaatcggccc\n",
    "cctgggagctttattcgagcacagaggatgggccatgtcaaggatatatcggctgcgcac\n",
    "cctactctacagttgaagacacctgtgactaacttgcccatctgtaagcccattcctgcc\n",
    "aaatgattgagacaggcccgggaactttagccgagcaattatgaatttcaaagcccggaa\n",
    "ggggatcctcttaatcagcgacgttatccagtagacgacatggcgctgtatcactcgtct\n",
    "ttgcgttattctgtcttacgaagacgatcgtcttccacacgacgtgagggtttatttggt\n",
    "tttataatcggtagctatctcggctagtctgaggaaggac."
   ]
  },
  {
   "cell_type": "code",
   "execution_count": 24,
   "metadata": {},
   "outputs": [],
   "source": [
    "dna_sequence = '''ttaacccacagtggtaggatagcggtggttatagaataggatatatactgttctgaccgc\n",
    "ataccgataagatgacgaacaaaggtaccgatcgcttagaattcaacggcgtcccacatg\n",
    "gatttatcctcaagtacttgctggccggctagtggtttatctgcgagcggcacccaacgg\n",
    "atttggctaaggaagccttgcagcgttagtctccggggagaccgtcccagtctatcgaaa\n",
    "tctcgcacggtctaatagtcgccgcaatggcctgcatatactgaccgtaccgttcgggac\n",
    "tagcagtgatgggctagttcgcgcaggtgagccgagaaaggcacggtacgaggaggatgc\n",
    "ggggagcttccaacaaacggggccaacgtgactgtcgagcacatgacctaagttcctcta\n",
    "gattaacccgcgcccacggctttttaaataccccgcttttcactcccaagcatcactgtc\n",
    "gagaatggcattacctattgtccgttcgctggtatcacagcgatatcaatgtctggccac\n",
    "ggataaagtaatcatgatgtaatcgtctcgaacccttgactcttggagacccgttactct\n",
    "caaacaagtaacaggttaggagctggcgttgtttgatttcaggataaacgtaatcggccc\n",
    "cctgggagctttattcgagcacagaggatgggccatgtcaaggatatatcggctgcgcac\n",
    "cctactctacagttgaagacacctgtgactaacttgcccatctgtaagcccattcctgcc\n",
    "aaatgattgagacaggcccgggaactttagccgagcaattatgaatttcaaagcccggaa\n",
    "ggggatcctcttaatcagcgacgttatccagtagacgacatggcgctgtatcactcgtct\n",
    "ttgcgttattctgtcttacgaagacgatcgtcttccacacgacgtgagggtttatttggt\n",
    "tttataatcggtagctatctcggctagtctgaggaaggac'''"
   ]
  },
  {
   "cell_type": "code",
   "execution_count": 25,
   "metadata": {},
   "outputs": [
    {
     "data": {
      "text/plain": [
       "1016"
      ]
     },
     "execution_count": 25,
     "metadata": {},
     "output_type": "execute_result"
    }
   ],
   "source": [
    "len(dna_sequence)"
   ]
  },
  {
   "cell_type": "code",
   "execution_count": 26,
   "metadata": {},
   "outputs": [
    {
     "name": "stdout",
     "output_type": "stream",
     "text": [
      "TTAACCCACAGTGGTAGGATAGCGGTGGTTATAGAATAGGATATATACTGTTCTGACCGC\n",
      "ATACCGATAAGATGACGAACAAAGGTACCGATCGCTTAGAATTCAACGGCGTCCCACATG\n",
      "GATTTATCCTCAAGTACTTGCTGGCCGGCTAGTGGTTTATCTGCGAGCGGCACCCAACGG\n",
      "ATTTGGCTAAGGAAGCCTTGCAGCGTTAGTCTCCGGGGAGACCGTCCCAGTCTATCGAAA\n",
      "TCTCGCACGGTCTAATAGTCGCCGCAATGGCCTGCATATACTGACCGTACCGTTCGGGAC\n",
      "TAGCAGTGATGGGCTAGTTCGCGCAGGTGAGCCGAGAAAGGCACGGTACGAGGAGGATGC\n",
      "GGGGAGCTTCCAACAAACGGGGCCAACGTGACTGTCGAGCACATGACCTAAGTTCCTCTA\n",
      "GATTAACCCGCGCCCACGGCTTTTTAAATACCCCGCTTTTCACTCCCAAGCATCACTGTC\n",
      "GAGAATGGCATTACCTATTGTCCGTTCGCTGGTATCACAGCGATATCAATGTCTGGCCAC\n",
      "GGATAAAGTAATCATGATGTAATCGTCTCGAACCCTTGACTCTTGGAGACCCGTTACTCT\n",
      "CAAACAAGTAACAGGTTAGGAGCTGGCGTTGTTTGATTTCAGGATAAACGTAATCGGCCC\n",
      "CCTGGGAGCTTTATTCGAGCACAGAGGATGGGCCATGTCAAGGATATATCGGCTGCGCAC\n",
      "CCTACTCTACAGTTGAAGACACCTGTGACTAACTTGCCCATCTGTAAGCCCATTCCTGCC\n",
      "AAATGATTGAGACAGGCCCGGGAACTTTAGCCGAGCAATTATGAATTTCAAAGCCCGGAA\n",
      "GGGGATCCTCTTAATCAGCGACGTTATCCAGTAGACGACATGGCGCTGTATCACTCGTCT\n",
      "TTGCGTTATTCTGTCTTACGAAGACGATCGTCTTCCACACGACGTGAGGGTTTATTTGGT\n",
      "TTTATAATCGGTAGCTATCTCGGCTAGTCTGAGGAAGGAC\n"
     ]
    }
   ],
   "source": [
    "DNA_sequence = dna_sequence.upper()\n",
    "print(DNA_sequence)"
   ]
  },
  {
   "cell_type": "code",
   "execution_count": 27,
   "metadata": {},
   "outputs": [
    {
     "data": {
      "text/plain": [
       "250"
      ]
     },
     "execution_count": 27,
     "metadata": {},
     "output_type": "execute_result"
    }
   ],
   "source": [
    "DNA_sequence.count('A')"
   ]
  },
  {
   "cell_type": "code",
   "execution_count": 28,
   "metadata": {},
   "outputs": [
    {
     "data": {
      "text/plain": [
       "249"
      ]
     },
     "execution_count": 28,
     "metadata": {},
     "output_type": "execute_result"
    }
   ],
   "source": [
    "DNA_sequence.count('T')"
   ]
  },
  {
   "cell_type": "code",
   "execution_count": 29,
   "metadata": {},
   "outputs": [
    {
     "data": {
      "text/plain": [
       "253"
      ]
     },
     "execution_count": 29,
     "metadata": {},
     "output_type": "execute_result"
    }
   ],
   "source": [
    "DNA_sequence.count('G')"
   ]
  },
  {
   "cell_type": "code",
   "execution_count": 30,
   "metadata": {},
   "outputs": [
    {
     "data": {
      "text/plain": [
       "248"
      ]
     },
     "execution_count": 30,
     "metadata": {},
     "output_type": "execute_result"
    }
   ],
   "source": [
    "DNA_sequence.count('C')"
   ]
  },
  {
   "cell_type": "code",
   "execution_count": 31,
   "metadata": {},
   "outputs": [],
   "source": [
    "Nucl_lis = [s for s in DNA_sequence]"
   ]
  },
  {
   "cell_type": "code",
   "execution_count": 32,
   "metadata": {},
   "outputs": [
    {
     "name": "stdout",
     "output_type": "stream",
     "text": [
      "['T', 'T', 'A', 'A', 'C', 'C', 'C', 'A', 'C', 'A', 'G', 'T', 'G', 'G', 'T', 'A', 'G', 'G', 'A', 'T', 'A', 'G', 'C', 'G', 'G', 'T', 'G', 'G', 'T', 'T', 'A', 'T', 'A', 'G', 'A', 'A', 'T', 'A', 'G', 'G', 'A', 'T', 'A', 'T', 'A', 'T', 'A', 'C', 'T', 'G', 'T', 'T', 'C', 'T', 'G', 'A', 'C', 'C', 'G', 'C', '\\n', 'A', 'T', 'A', 'C', 'C', 'G', 'A', 'T', 'A', 'A', 'G', 'A', 'T', 'G', 'A', 'C', 'G', 'A', 'A', 'C', 'A', 'A', 'A', 'G', 'G', 'T', 'A', 'C', 'C', 'G', 'A', 'T', 'C', 'G', 'C', 'T', 'T', 'A', 'G', 'A', 'A', 'T', 'T', 'C', 'A', 'A', 'C', 'G', 'G', 'C', 'G', 'T', 'C', 'C', 'C', 'A', 'C', 'A', 'T', 'G', '\\n', 'G', 'A', 'T', 'T', 'T', 'A', 'T', 'C', 'C', 'T', 'C', 'A', 'A', 'G', 'T', 'A', 'C', 'T', 'T', 'G', 'C', 'T', 'G', 'G', 'C', 'C', 'G', 'G', 'C', 'T', 'A', 'G', 'T', 'G', 'G', 'T', 'T', 'T', 'A', 'T', 'C', 'T', 'G', 'C', 'G', 'A', 'G', 'C', 'G', 'G', 'C', 'A', 'C', 'C', 'C', 'A', 'A', 'C', 'G', 'G', '\\n', 'A', 'T', 'T', 'T', 'G', 'G', 'C', 'T', 'A', 'A', 'G', 'G', 'A', 'A', 'G', 'C', 'C', 'T', 'T', 'G', 'C', 'A', 'G', 'C', 'G', 'T', 'T', 'A', 'G', 'T', 'C', 'T', 'C', 'C', 'G', 'G', 'G', 'G', 'A', 'G', 'A', 'C', 'C', 'G', 'T', 'C', 'C', 'C', 'A', 'G', 'T', 'C', 'T', 'A', 'T', 'C', 'G', 'A', 'A', 'A', '\\n', 'T', 'C', 'T', 'C', 'G', 'C', 'A', 'C', 'G', 'G', 'T', 'C', 'T', 'A', 'A', 'T', 'A', 'G', 'T', 'C', 'G', 'C', 'C', 'G', 'C', 'A', 'A', 'T', 'G', 'G', 'C', 'C', 'T', 'G', 'C', 'A', 'T', 'A', 'T', 'A', 'C', 'T', 'G', 'A', 'C', 'C', 'G', 'T', 'A', 'C', 'C', 'G', 'T', 'T', 'C', 'G', 'G', 'G', 'A', 'C', '\\n', 'T', 'A', 'G', 'C', 'A', 'G', 'T', 'G', 'A', 'T', 'G', 'G', 'G', 'C', 'T', 'A', 'G', 'T', 'T', 'C', 'G', 'C', 'G', 'C', 'A', 'G', 'G', 'T', 'G', 'A', 'G', 'C', 'C', 'G', 'A', 'G', 'A', 'A', 'A', 'G', 'G', 'C', 'A', 'C', 'G', 'G', 'T', 'A', 'C', 'G', 'A', 'G', 'G', 'A', 'G', 'G', 'A', 'T', 'G', 'C', '\\n', 'G', 'G', 'G', 'G', 'A', 'G', 'C', 'T', 'T', 'C', 'C', 'A', 'A', 'C', 'A', 'A', 'A', 'C', 'G', 'G', 'G', 'G', 'C', 'C', 'A', 'A', 'C', 'G', 'T', 'G', 'A', 'C', 'T', 'G', 'T', 'C', 'G', 'A', 'G', 'C', 'A', 'C', 'A', 'T', 'G', 'A', 'C', 'C', 'T', 'A', 'A', 'G', 'T', 'T', 'C', 'C', 'T', 'C', 'T', 'A', '\\n', 'G', 'A', 'T', 'T', 'A', 'A', 'C', 'C', 'C', 'G', 'C', 'G', 'C', 'C', 'C', 'A', 'C', 'G', 'G', 'C', 'T', 'T', 'T', 'T', 'T', 'A', 'A', 'A', 'T', 'A', 'C', 'C', 'C', 'C', 'G', 'C', 'T', 'T', 'T', 'T', 'C', 'A', 'C', 'T', 'C', 'C', 'C', 'A', 'A', 'G', 'C', 'A', 'T', 'C', 'A', 'C', 'T', 'G', 'T', 'C', '\\n', 'G', 'A', 'G', 'A', 'A', 'T', 'G', 'G', 'C', 'A', 'T', 'T', 'A', 'C', 'C', 'T', 'A', 'T', 'T', 'G', 'T', 'C', 'C', 'G', 'T', 'T', 'C', 'G', 'C', 'T', 'G', 'G', 'T', 'A', 'T', 'C', 'A', 'C', 'A', 'G', 'C', 'G', 'A', 'T', 'A', 'T', 'C', 'A', 'A', 'T', 'G', 'T', 'C', 'T', 'G', 'G', 'C', 'C', 'A', 'C', '\\n', 'G', 'G', 'A', 'T', 'A', 'A', 'A', 'G', 'T', 'A', 'A', 'T', 'C', 'A', 'T', 'G', 'A', 'T', 'G', 'T', 'A', 'A', 'T', 'C', 'G', 'T', 'C', 'T', 'C', 'G', 'A', 'A', 'C', 'C', 'C', 'T', 'T', 'G', 'A', 'C', 'T', 'C', 'T', 'T', 'G', 'G', 'A', 'G', 'A', 'C', 'C', 'C', 'G', 'T', 'T', 'A', 'C', 'T', 'C', 'T', '\\n', 'C', 'A', 'A', 'A', 'C', 'A', 'A', 'G', 'T', 'A', 'A', 'C', 'A', 'G', 'G', 'T', 'T', 'A', 'G', 'G', 'A', 'G', 'C', 'T', 'G', 'G', 'C', 'G', 'T', 'T', 'G', 'T', 'T', 'T', 'G', 'A', 'T', 'T', 'T', 'C', 'A', 'G', 'G', 'A', 'T', 'A', 'A', 'A', 'C', 'G', 'T', 'A', 'A', 'T', 'C', 'G', 'G', 'C', 'C', 'C', '\\n', 'C', 'C', 'T', 'G', 'G', 'G', 'A', 'G', 'C', 'T', 'T', 'T', 'A', 'T', 'T', 'C', 'G', 'A', 'G', 'C', 'A', 'C', 'A', 'G', 'A', 'G', 'G', 'A', 'T', 'G', 'G', 'G', 'C', 'C', 'A', 'T', 'G', 'T', 'C', 'A', 'A', 'G', 'G', 'A', 'T', 'A', 'T', 'A', 'T', 'C', 'G', 'G', 'C', 'T', 'G', 'C', 'G', 'C', 'A', 'C', '\\n', 'C', 'C', 'T', 'A', 'C', 'T', 'C', 'T', 'A', 'C', 'A', 'G', 'T', 'T', 'G', 'A', 'A', 'G', 'A', 'C', 'A', 'C', 'C', 'T', 'G', 'T', 'G', 'A', 'C', 'T', 'A', 'A', 'C', 'T', 'T', 'G', 'C', 'C', 'C', 'A', 'T', 'C', 'T', 'G', 'T', 'A', 'A', 'G', 'C', 'C', 'C', 'A', 'T', 'T', 'C', 'C', 'T', 'G', 'C', 'C', '\\n', 'A', 'A', 'A', 'T', 'G', 'A', 'T', 'T', 'G', 'A', 'G', 'A', 'C', 'A', 'G', 'G', 'C', 'C', 'C', 'G', 'G', 'G', 'A', 'A', 'C', 'T', 'T', 'T', 'A', 'G', 'C', 'C', 'G', 'A', 'G', 'C', 'A', 'A', 'T', 'T', 'A', 'T', 'G', 'A', 'A', 'T', 'T', 'T', 'C', 'A', 'A', 'A', 'G', 'C', 'C', 'C', 'G', 'G', 'A', 'A', '\\n', 'G', 'G', 'G', 'G', 'A', 'T', 'C', 'C', 'T', 'C', 'T', 'T', 'A', 'A', 'T', 'C', 'A', 'G', 'C', 'G', 'A', 'C', 'G', 'T', 'T', 'A', 'T', 'C', 'C', 'A', 'G', 'T', 'A', 'G', 'A', 'C', 'G', 'A', 'C', 'A', 'T', 'G', 'G', 'C', 'G', 'C', 'T', 'G', 'T', 'A', 'T', 'C', 'A', 'C', 'T', 'C', 'G', 'T', 'C', 'T', '\\n', 'T', 'T', 'G', 'C', 'G', 'T', 'T', 'A', 'T', 'T', 'C', 'T', 'G', 'T', 'C', 'T', 'T', 'A', 'C', 'G', 'A', 'A', 'G', 'A', 'C', 'G', 'A', 'T', 'C', 'G', 'T', 'C', 'T', 'T', 'C', 'C', 'A', 'C', 'A', 'C', 'G', 'A', 'C', 'G', 'T', 'G', 'A', 'G', 'G', 'G', 'T', 'T', 'T', 'A', 'T', 'T', 'T', 'G', 'G', 'T', '\\n', 'T', 'T', 'T', 'A', 'T', 'A', 'A', 'T', 'C', 'G', 'G', 'T', 'A', 'G', 'C', 'T', 'A', 'T', 'C', 'T', 'C', 'G', 'G', 'C', 'T', 'A', 'G', 'T', 'C', 'T', 'G', 'A', 'G', 'G', 'A', 'A', 'G', 'G', 'A', 'C']\n"
     ]
    }
   ],
   "source": [
    "print(Nucl_lis)"
   ]
  },
  {
   "cell_type": "markdown",
   "metadata": {},
   "source": [
    "### Find the sum of the series \n",
    "$\\frac{1}{2} + \\frac{1}{4} + \\frac{1}{8} + ... $\n",
    "Using lists and list comprehension."
   ]
  },
  {
   "cell_type": "code",
   "execution_count": 40,
   "metadata": {},
   "outputs": [
    {
     "data": {
      "text/plain": [
       "1.0"
      ]
     },
     "execution_count": 40,
     "metadata": {},
     "output_type": "execute_result"
    }
   ],
   "source": [
    "sum([(1/2)**(i) for i in range(1,501) ])"
   ]
  },
  {
   "cell_type": "markdown",
   "metadata": {},
   "source": [
    "# Exercise 2:\n",
    "## Computational verification of the Leibniz formula for $\\pi$\n",
    "### $$\\frac{\\pi}{4} = 1-\\frac{1}{3} + \\frac{1}{5} - \\frac{1}{7} + \\frac{1}{9} - ... $$\n",
    "### Verify this formula using list comprehension in python."
   ]
  },
  {
   "cell_type": "code",
   "execution_count": null,
   "metadata": {},
   "outputs": [],
   "source": []
  }
 ],
 "metadata": {
  "kaggle": {
   "accelerator": "none",
   "dataSources": [],
   "dockerImageVersionId": 30761,
   "isGpuEnabled": false,
   "isInternetEnabled": false,
   "language": "python",
   "sourceType": "notebook"
  },
  "kernelspec": {
   "display_name": "Python 3 (ipykernel)",
   "language": "python",
   "name": "python3"
  },
  "language_info": {
   "codemirror_mode": {
    "name": "ipython",
    "version": 3
   },
   "file_extension": ".py",
   "mimetype": "text/x-python",
   "name": "python",
   "nbconvert_exporter": "python",
   "pygments_lexer": "ipython3",
   "version": "3.9.12"
  }
 },
 "nbformat": 4,
 "nbformat_minor": 4
}
