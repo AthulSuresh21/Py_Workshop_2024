{
  "cells": [
    {
      "cell_type": "markdown",
      "metadata": {
        "id": "view-in-github",
        "colab_type": "text"
      },
      "source": [
        "<a href=\"https://colab.research.google.com/github/AthulSuresh21/Scientific_computing/blob/main/Basic_Python.ipynb\" target=\"_parent\"><img src=\"https://colab.research.google.com/assets/colab-badge.svg\" alt=\"Open In Colab\"/></a>"
      ]
    },
    {
      "cell_type": "markdown",
      "metadata": {
        "id": "vxDZmahcEl1c"
      },
      "source": [
        "#   <font color='red'>1. Basic Data Types in Python</font>"
      ]
    },
    {
      "cell_type": "markdown",
      "metadata": {
        "id": "YH9Jajs7El1e"
      },
      "source": [
        "## a. Numbers: Ints & Floats"
      ]
    },
    {
      "cell_type": "code",
      "execution_count": null,
      "metadata": {
        "id": "rWyYIh5qEl1e"
      },
      "outputs": [],
      "source": [
        "x = 123456789012345678901234567890 # INT"
      ]
    },
    {
      "cell_type": "code",
      "execution_count": null,
      "metadata": {
        "id": "hripkMh_El1f"
      },
      "outputs": [],
      "source": [
        "float?"
      ]
    },
    {
      "cell_type": "code",
      "execution_count": null,
      "metadata": {
        "id": "xEvjPfBwEl1g",
        "outputId": "437955a0-70a6-431f-ddd6-6fce51855d45"
      },
      "outputs": [
        {
          "data": {
            "text/plain": [
              "int"
            ]
          },
          "execution_count": 3,
          "metadata": {},
          "output_type": "execute_result"
        }
      ],
      "source": [
        "type(x)"
      ]
    },
    {
      "cell_type": "code",
      "execution_count": null,
      "metadata": {
        "id": "ocUyED4aEl1h"
      },
      "outputs": [],
      "source": [
        "int?"
      ]
    },
    {
      "cell_type": "code",
      "execution_count": null,
      "metadata": {
        "id": "9XGUgnGlEl1h",
        "outputId": "2e17aa8e-7757-42d9-9665-d7af99a84587"
      },
      "outputs": [
        {
          "name": "stdout",
          "output_type": "stream",
          "text": [
            "123456789012345678901234567890\n"
          ]
        }
      ],
      "source": [
        "print(x)"
      ]
    },
    {
      "cell_type": "code",
      "execution_count": null,
      "metadata": {
        "id": "Y4pNuum5El1i"
      },
      "outputs": [],
      "source": [
        "x=1.23456789012345678901234567890 # FLOAT"
      ]
    },
    {
      "cell_type": "code",
      "execution_count": null,
      "metadata": {
        "id": "4adS8DbqEl1i",
        "outputId": "19f0186a-f5c0-4131-f978-947779ebc577"
      },
      "outputs": [
        {
          "data": {
            "text/plain": [
              "float"
            ]
          },
          "execution_count": 7,
          "metadata": {},
          "output_type": "execute_result"
        }
      ],
      "source": [
        "type(x)"
      ]
    },
    {
      "cell_type": "code",
      "execution_count": null,
      "metadata": {
        "id": "GeNxLEjzEl1k",
        "outputId": "6e1c5648-5005-48e1-c1ed-d015e5943ac4"
      },
      "outputs": [
        {
          "name": "stdout",
          "output_type": "stream",
          "text": [
            "1.2345678901234567\n"
          ]
        }
      ],
      "source": [
        "print(x)\n",
        "# Notice that x is only accurate to 15 places.\n",
        "# Standard for floats"
      ]
    },
    {
      "cell_type": "code",
      "execution_count": null,
      "metadata": {
        "id": "0U3IVsFKEl1k",
        "outputId": "af2dfca9-4c3d-4af5-bd51-2db9849933f1"
      },
      "outputs": [
        {
          "name": "stdout",
          "output_type": "stream",
          "text": [
            "1.2345678901234567\n"
          ]
        },
        {
          "data": {
            "text/plain": [
              "float"
            ]
          },
          "execution_count": 9,
          "metadata": {},
          "output_type": "execute_result"
        }
      ],
      "source": [
        "y=0.00000000000000001 # FLOAT\n",
        "z=x+y\n",
        "print(z)\n",
        "type(z)"
      ]
    },
    {
      "cell_type": "code",
      "execution_count": null,
      "metadata": {
        "id": "7Er72hqBEl1l",
        "outputId": "fa536a13-dee9-4f0b-b0ec-80ff74b53b5f"
      },
      "outputs": [
        {
          "data": {
            "text/plain": [
              "0.5"
            ]
          },
          "execution_count": 10,
          "metadata": {},
          "output_type": "execute_result"
        }
      ],
      "source": [
        "1/2 # From python 3, this is a floating point division..."
      ]
    },
    {
      "cell_type": "code",
      "execution_count": null,
      "metadata": {
        "id": "ULmxkbTPEl1m",
        "outputId": "1b126955-3c4c-4bf8-b190-adbc4e617da3"
      },
      "outputs": [
        {
          "data": {
            "text/plain": [
              "1.79e+308"
            ]
          },
          "execution_count": 11,
          "metadata": {},
          "output_type": "execute_result"
        }
      ],
      "source": [
        "1.79e308 # Floats are represented as 64 bit \"double precision\" values"
      ]
    },
    {
      "cell_type": "code",
      "execution_count": null,
      "metadata": {
        "id": "UKfiyNGKEl1m",
        "outputId": "fca09be5-9bd3-4803-d8a4-42d2788167b9"
      },
      "outputs": [
        {
          "data": {
            "text/plain": [
              "inf"
            ]
          },
          "execution_count": 12,
          "metadata": {},
          "output_type": "execute_result"
        }
      ],
      "source": [
        "1.8e308 # It means that this happens"
      ]
    },
    {
      "cell_type": "code",
      "execution_count": null,
      "metadata": {
        "id": "6yaQ67jbEl1m",
        "outputId": "b5d1e389-9c3a-4609-dc39-90e93a78d98b"
      },
      "outputs": [
        {
          "data": {
            "text/plain": [
              "5e-324"
            ]
          },
          "execution_count": 13,
          "metadata": {},
          "output_type": "execute_result"
        }
      ],
      "source": [
        "4e-324 # and it means that this happens"
      ]
    },
    {
      "cell_type": "code",
      "execution_count": null,
      "metadata": {
        "id": "pIt3x7IbEl1m",
        "outputId": "60018ed8-51fd-41ef-a95d-1214332faa56"
      },
      "outputs": [
        {
          "data": {
            "text/plain": [
              "0.0"
            ]
          },
          "execution_count": 14,
          "metadata": {},
          "output_type": "execute_result"
        }
      ],
      "source": [
        "1e-324 # and it means that this happens"
      ]
    },
    {
      "cell_type": "markdown",
      "metadata": {
        "id": "gk6oc1KZEl1n"
      },
      "source": [
        "## b. Complex Numbers"
      ]
    },
    {
      "cell_type": "code",
      "execution_count": null,
      "metadata": {
        "id": "3syriUgWEl1n"
      },
      "outputs": [],
      "source": [
        "z=5+3j"
      ]
    },
    {
      "cell_type": "code",
      "execution_count": null,
      "metadata": {
        "id": "UBslghe0El1r",
        "outputId": "2592dcde-bda0-43cd-c782-363c3cbe7f33"
      },
      "outputs": [
        {
          "data": {
            "text/plain": [
              "complex"
            ]
          },
          "execution_count": 16,
          "metadata": {},
          "output_type": "execute_result"
        }
      ],
      "source": [
        "type(z)"
      ]
    },
    {
      "cell_type": "code",
      "execution_count": null,
      "metadata": {
        "id": "aXbKhAkeEl1r",
        "outputId": "670a22be-4823-4c55-9e50-f7f36a980196"
      },
      "outputs": [
        {
          "data": {
            "text/plain": [
              "(12+3j)"
            ]
          },
          "execution_count": 18,
          "metadata": {},
          "output_type": "execute_result"
        }
      ],
      "source": [
        "z+7"
      ]
    },
    {
      "cell_type": "code",
      "execution_count": null,
      "metadata": {
        "id": "ssdLFXgwEl1r",
        "outputId": "7a4bd409-deb6-44de-f347-1d9904991036"
      },
      "outputs": [
        {
          "data": {
            "text/plain": [
              "(5+5j)"
            ]
          },
          "execution_count": 19,
          "metadata": {},
          "output_type": "execute_result"
        }
      ],
      "source": [
        "z+2j"
      ]
    },
    {
      "cell_type": "code",
      "execution_count": null,
      "metadata": {
        "id": "TcjmWsu4El1r"
      },
      "outputs": [],
      "source": [
        "z2=4-3j"
      ]
    },
    {
      "cell_type": "code",
      "execution_count": null,
      "metadata": {
        "id": "dMluU4daEl1s",
        "outputId": "c9b6e75c-e2b3-4e67-a64a-816b42981e65"
      },
      "outputs": [
        {
          "name": "stdout",
          "output_type": "stream",
          "text": [
            "(9+0j)\n"
          ]
        }
      ],
      "source": [
        "z3=z+z2\n",
        "print(z3)"
      ]
    },
    {
      "cell_type": "code",
      "execution_count": null,
      "metadata": {
        "id": "7wzohEBcEl1s",
        "outputId": "ff4317f1-8658-42e7-8774-e4d649b2bfed"
      },
      "outputs": [
        {
          "data": {
            "text/plain": [
              "0.0"
            ]
          },
          "execution_count": 22,
          "metadata": {},
          "output_type": "execute_result"
        }
      ],
      "source": [
        "z3.imag"
      ]
    },
    {
      "cell_type": "code",
      "execution_count": null,
      "metadata": {
        "id": "3wl1ikzLEl1s",
        "outputId": "2b95e15b-f9e6-4874-8bff-76ced99f292d"
      },
      "outputs": [
        {
          "data": {
            "text/plain": [
              "complex"
            ]
          },
          "execution_count": 23,
          "metadata": {},
          "output_type": "execute_result"
        }
      ],
      "source": [
        "type(z3)"
      ]
    },
    {
      "cell_type": "code",
      "execution_count": null,
      "metadata": {
        "id": "iZF-g_a8El1s"
      },
      "outputs": [],
      "source": [
        "z2 = 3 + 4*1j"
      ]
    },
    {
      "cell_type": "code",
      "execution_count": null,
      "metadata": {
        "id": "X4JZYPfeEl1t",
        "outputId": "33336afe-2013-4a87-84be-661dffb7e4cc"
      },
      "outputs": [
        {
          "data": {
            "text/plain": [
              "(-7+24j)"
            ]
          },
          "execution_count": 25,
          "metadata": {},
          "output_type": "execute_result"
        }
      ],
      "source": [
        "z2**2 # (3,4) x (3,4) = ( 9-16 , 2*3*4 ) = ( -7 , 24 ) this is my comment explaining things."
      ]
    },
    {
      "cell_type": "markdown",
      "metadata": {
        "id": "vohP5uIXEl1t"
      },
      "source": [
        "## c. Strings"
      ]
    },
    {
      "cell_type": "code",
      "execution_count": null,
      "metadata": {
        "id": "wDrdQMW3El1t"
      },
      "outputs": [],
      "source": [
        "x=\"a string\""
      ]
    },
    {
      "cell_type": "code",
      "execution_count": null,
      "metadata": {
        "id": "Dg9W8KQkEl1t",
        "outputId": "19492673-9ccd-4bb4-89f7-acaeb8661be3"
      },
      "outputs": [
        {
          "data": {
            "text/plain": [
              "str"
            ]
          },
          "execution_count": 27,
          "metadata": {},
          "output_type": "execute_result"
        }
      ],
      "source": [
        "type(x)"
      ]
    },
    {
      "cell_type": "code",
      "execution_count": null,
      "metadata": {
        "id": "VpXqe-PIEl1u"
      },
      "outputs": [],
      "source": [
        "x='another string'"
      ]
    },
    {
      "cell_type": "code",
      "execution_count": null,
      "metadata": {
        "id": "DNGiDH27El1u"
      },
      "outputs": [],
      "source": [
        "x=''' multi line\n",
        "    string\n",
        "    that\n",
        "    takes\n",
        "    multiple\n",
        "    lines\n",
        "'''"
      ]
    },
    {
      "cell_type": "code",
      "execution_count": null,
      "metadata": {
        "id": "ZaCeT92LEl1u",
        "outputId": "072be0bb-a371-4e91-a58b-3c7f2e3e2db1"
      },
      "outputs": [
        {
          "name": "stdout",
          "output_type": "stream",
          "text": [
            " multi line\n",
            "    string\n",
            "    that \n",
            "    takes \n",
            "    multiple\n",
            "    lines\n",
            "\n"
          ]
        }
      ],
      "source": [
        "print(x)"
      ]
    },
    {
      "cell_type": "markdown",
      "metadata": {
        "id": "HIBDZgDbEl1v"
      },
      "source": [
        "## d. Tuples & Lists (+ sets + directories is all collection data types in PYTHON)"
      ]
    },
    {
      "cell_type": "code",
      "execution_count": null,
      "metadata": {
        "id": "zGCARKDJEl1v"
      },
      "outputs": [],
      "source": [
        "toop = ('cats','dogs') # tuples are immutable. good for parameters."
      ]
    },
    {
      "cell_type": "code",
      "execution_count": null,
      "metadata": {
        "id": "LgxutsN_El1v",
        "outputId": "6a8d208a-188c-4a41-a6a5-e843d7998a60"
      },
      "outputs": [
        {
          "data": {
            "text/plain": [
              "'dogs'"
            ]
          },
          "execution_count": 32,
          "metadata": {},
          "output_type": "execute_result"
        }
      ],
      "source": [
        "toop[1] # Python starts indexing at 0 !!!"
      ]
    },
    {
      "cell_type": "code",
      "execution_count": null,
      "metadata": {
        "id": "qK-Qc1voEl1v",
        "outputId": "c342a642-c3ec-44fd-8902-8f00af6b53c8"
      },
      "outputs": [
        {
          "ename": "TypeError",
          "evalue": "'tuple' object does not support item assignment",
          "output_type": "error",
          "traceback": [
            "\u001b[0;31m---------------------------------------------------------------------------\u001b[0m",
            "\u001b[0;31mTypeError\u001b[0m                                 Traceback (most recent call last)",
            "\u001b[0;32m/tmp/ipykernel_182312/1477068982.py\u001b[0m in \u001b[0;36m<module>\u001b[0;34m\u001b[0m\n\u001b[0;32m----> 1\u001b[0;31m \u001b[0mtoop\u001b[0m\u001b[0;34m[\u001b[0m\u001b[0;36m0\u001b[0m\u001b[0;34m]\u001b[0m\u001b[0;34m=\u001b[0m\u001b[0;34m'pickle'\u001b[0m \u001b[0;31m# TypeError: 'tuple' object does not support item assignment\u001b[0m\u001b[0;34m\u001b[0m\u001b[0;34m\u001b[0m\u001b[0m\n\u001b[0m",
            "\u001b[0;31mTypeError\u001b[0m: 'tuple' object does not support item assignment"
          ]
        }
      ],
      "source": [
        "toop[0]='pickle' # TypeError: 'tuple' object does not support item assignment"
      ]
    },
    {
      "cell_type": "code",
      "execution_count": null,
      "metadata": {
        "id": "K2bbyfPtEl1w",
        "outputId": "f40a9681-81c8-4bd8-b68e-d3e0427fa9f9"
      },
      "outputs": [
        {
          "data": {
            "text/plain": [
              "['cats', 'dogs', 'mouse']"
            ]
          },
          "execution_count": 34,
          "metadata": {},
          "output_type": "execute_result"
        }
      ],
      "source": [
        "t = ['cats','dogs'] # lists are mutable\n",
        "t.append('mouse') # appending lists.\n",
        "t"
      ]
    },
    {
      "cell_type": "code",
      "execution_count": null,
      "metadata": {
        "id": "pBTWg-VdEl1w"
      },
      "outputs": [],
      "source": [
        "list1 = [3,4.0,'cats'] # Each element can be of a different type."
      ]
    },
    {
      "cell_type": "code",
      "execution_count": null,
      "metadata": {
        "id": "g1K_dwNgEl1w",
        "outputId": "6065e70b-78dd-4a71-b98a-b82ae21e70d4"
      },
      "outputs": [
        {
          "data": {
            "text/plain": [
              "3"
            ]
          },
          "execution_count": 36,
          "metadata": {},
          "output_type": "execute_result"
        }
      ],
      "source": [
        "list1[0] # NOTICE THAT NUMBERING STARTS WITH 0 in PYTHON!!!"
      ]
    },
    {
      "cell_type": "code",
      "execution_count": null,
      "metadata": {
        "scrolled": true,
        "id": "rtC17TxjEl1w",
        "outputId": "7a529b5f-8c07-494b-a10a-4371bd678a7b"
      },
      "outputs": [
        {
          "data": {
            "text/plain": [
              "4.0"
            ]
          },
          "execution_count": 37,
          "metadata": {},
          "output_type": "execute_result"
        }
      ],
      "source": [
        "list1[1]"
      ]
    },
    {
      "cell_type": "code",
      "execution_count": null,
      "metadata": {
        "id": "hx4tc2wXEl1x",
        "outputId": "cd63b0bc-78de-435b-cbc1-f84c402cf0e7"
      },
      "outputs": [
        {
          "data": {
            "text/plain": [
              "'cats'"
            ]
          },
          "execution_count": 38,
          "metadata": {},
          "output_type": "execute_result"
        }
      ],
      "source": [
        "list1[2]"
      ]
    },
    {
      "cell_type": "code",
      "execution_count": null,
      "metadata": {
        "id": "1eGqBWs9El1x",
        "outputId": "17dace40-51a7-43ea-e794-c7c3e678f2c4"
      },
      "outputs": [
        {
          "data": {
            "text/plain": [
              "4.0"
            ]
          },
          "execution_count": 39,
          "metadata": {},
          "output_type": "execute_result"
        }
      ],
      "source": [
        "list1[-2] # -1 is the \"last entry\", useful when you dont know how big the list is (or if it changes size)!!!"
      ]
    },
    {
      "cell_type": "code",
      "execution_count": null,
      "metadata": {
        "id": "NTrMS2qaEl1y"
      },
      "outputs": [],
      "source": [
        "list2 = list1  # CAREFUL COPYINGA AND MANIPULATING LISTS.."
      ]
    },
    {
      "cell_type": "code",
      "execution_count": null,
      "metadata": {
        "id": "o-JtwXjuEl1y",
        "outputId": "b87545db-7527-4408-9067-b6486d525859"
      },
      "outputs": [
        {
          "data": {
            "text/plain": [
              "[3, 4.0, 'cats']"
            ]
          },
          "execution_count": 41,
          "metadata": {},
          "output_type": "execute_result"
        }
      ],
      "source": [
        "list2"
      ]
    },
    {
      "cell_type": "code",
      "execution_count": null,
      "metadata": {
        "id": "5ftPyhznEl1y"
      },
      "outputs": [],
      "source": [
        "list2[-1]=0.3"
      ]
    },
    {
      "cell_type": "code",
      "execution_count": null,
      "metadata": {
        "id": "S0_gtc_dEl1y",
        "outputId": "360cee8f-6887-4d4c-900b-16c1ebc9bf54"
      },
      "outputs": [
        {
          "data": {
            "text/plain": [
              "[3, 4.0, 0.3]"
            ]
          },
          "execution_count": 43,
          "metadata": {},
          "output_type": "execute_result"
        }
      ],
      "source": [
        "list2"
      ]
    },
    {
      "cell_type": "code",
      "execution_count": null,
      "metadata": {
        "id": "zABdgQTLEl1z",
        "outputId": "0c80f564-b73e-479d-b776-cbaec4e11783"
      },
      "outputs": [
        {
          "data": {
            "text/plain": [
              "[3, 4.0, 0.3]"
            ]
          },
          "execution_count": 44,
          "metadata": {},
          "output_type": "execute_result"
        }
      ],
      "source": [
        "list1"
      ]
    },
    {
      "cell_type": "markdown",
      "metadata": {
        "id": "Uige1wFNEl1z"
      },
      "source": [
        "## slicing lists."
      ]
    },
    {
      "cell_type": "code",
      "execution_count": null,
      "metadata": {
        "id": "xfLpr1fUEl1z"
      },
      "outputs": [],
      "source": [
        "one_dim=[0,1,2,3,4,5,6,7,8,9,10,11]"
      ]
    },
    {
      "cell_type": "code",
      "execution_count": null,
      "metadata": {
        "id": "qL6BOYnHEl1z",
        "outputId": "cd15792c-79e4-4e97-e9bf-7762df714950"
      },
      "outputs": [
        {
          "data": {
            "text/plain": [
              "[0, 1, 2]"
            ]
          },
          "execution_count": 46,
          "metadata": {},
          "output_type": "execute_result"
        }
      ],
      "source": [
        "one_dim[0:3] # one_dim[a:b] runs from a to b-1"
      ]
    },
    {
      "cell_type": "code",
      "execution_count": null,
      "metadata": {
        "id": "ohz_szivEl1z",
        "outputId": "5a2693ae-b12d-4594-a0db-900ac8043b30"
      },
      "outputs": [
        {
          "data": {
            "text/plain": [
              "[7, 8, 9, 10]"
            ]
          },
          "execution_count": 47,
          "metadata": {},
          "output_type": "execute_result"
        }
      ],
      "source": [
        "one_dim[-5:-1] # -5:-1 counts till the -2th term in the array...notice that 11 is missing."
      ]
    },
    {
      "cell_type": "code",
      "execution_count": null,
      "metadata": {
        "id": "Boekt1_cEl1z",
        "outputId": "739f7b9d-3061-4d2b-ac52-45741edc8211"
      },
      "outputs": [
        {
          "data": {
            "text/plain": [
              "[7, 8, 9, 10, 11]"
            ]
          },
          "execution_count": 48,
          "metadata": {},
          "output_type": "execute_result"
        }
      ],
      "source": [
        "one_dim[-5:] # Leaving out the last number makes the array go from -5 to the end."
      ]
    },
    {
      "cell_type": "code",
      "execution_count": null,
      "metadata": {
        "id": "a2iAXg0bEl10",
        "outputId": "b98077e9-4072-460f-e4f1-a45632a3c765"
      },
      "outputs": [
        {
          "data": {
            "text/plain": [
              "[0, 2, 4, 6, 8, 10]"
            ]
          },
          "execution_count": 49,
          "metadata": {},
          "output_type": "execute_result"
        }
      ],
      "source": [
        "one_dim[0:-1:2]"
      ]
    },
    {
      "cell_type": "code",
      "execution_count": null,
      "metadata": {
        "id": "oDQub0jeEl10",
        "outputId": "fc50b18e-6cca-40bd-b243-4c8eb8488f9e"
      },
      "outputs": [
        {
          "data": {
            "text/plain": [
              "[1, 3, 5, 7, 9]"
            ]
          },
          "execution_count": 50,
          "metadata": {},
          "output_type": "execute_result"
        }
      ],
      "source": [
        "one_dim[1:-1:2]"
      ]
    },
    {
      "cell_type": "code",
      "execution_count": null,
      "metadata": {
        "id": "AVThPE5DEl10",
        "outputId": "91e5216b-355f-4eea-fe99-5bfacb532819"
      },
      "outputs": [
        {
          "data": {
            "text/plain": [
              "[11, 9, 7, 5, 3]"
            ]
          },
          "execution_count": 51,
          "metadata": {},
          "output_type": "execute_result"
        }
      ],
      "source": [
        "one_dim[-1:1:-2]"
      ]
    },
    {
      "cell_type": "markdown",
      "metadata": {
        "id": "lxYwvsMBEl10"
      },
      "source": [
        "### Two dimensional arrays"
      ]
    },
    {
      "cell_type": "code",
      "execution_count": null,
      "metadata": {
        "id": "xgQj9pEZEl11"
      },
      "outputs": [],
      "source": [
        "two_dim =[[0,1,2,3,4,5],[6,7,8,9,10,11]]"
      ]
    },
    {
      "cell_type": "code",
      "execution_count": null,
      "metadata": {
        "id": "wQCV347WEl11",
        "outputId": "0e7c9d25-bb71-44cf-a437-e59ad347ced6"
      },
      "outputs": [
        {
          "data": {
            "text/plain": [
              "[0, 1, 2, 3, 4, 5]"
            ]
          },
          "execution_count": 53,
          "metadata": {},
          "output_type": "execute_result"
        }
      ],
      "source": [
        "two_dim[0]"
      ]
    },
    {
      "cell_type": "code",
      "execution_count": null,
      "metadata": {
        "id": "OfTgEoKCEl11",
        "outputId": "5bcae72c-e359-48d0-af04-c0c17647e94c"
      },
      "outputs": [
        {
          "data": {
            "text/plain": [
              "[6, 7, 8, 9, 10, 11]"
            ]
          },
          "execution_count": 54,
          "metadata": {},
          "output_type": "execute_result"
        }
      ],
      "source": [
        "two_dim[1]"
      ]
    },
    {
      "cell_type": "code",
      "execution_count": null,
      "metadata": {
        "id": "Goc8DVHLEl12",
        "outputId": "9c07fc6c-dcf5-4bae-f6eb-647deae2897b"
      },
      "outputs": [
        {
          "data": {
            "text/plain": [
              "3"
            ]
          },
          "execution_count": 55,
          "metadata": {},
          "output_type": "execute_result"
        }
      ],
      "source": [
        "two_dim[0][3]"
      ]
    },
    {
      "cell_type": "code",
      "execution_count": null,
      "metadata": {
        "id": "ySu01Fz4El12",
        "outputId": "3a59ff17-e7af-47b2-ee74-bf0dec203fe3"
      },
      "outputs": [
        {
          "data": {
            "text/plain": [
              "9"
            ]
          },
          "execution_count": 56,
          "metadata": {},
          "output_type": "execute_result"
        }
      ],
      "source": [
        "two_dim[1][3]"
      ]
    },
    {
      "cell_type": "code",
      "execution_count": null,
      "metadata": {
        "id": "fqnpWmKoEl13",
        "outputId": "a92cfcfa-dbf3-4972-c7e2-49a024f798a4"
      },
      "outputs": [
        {
          "data": {
            "text/plain": [
              "[0, 1, 2]"
            ]
          },
          "execution_count": 57,
          "metadata": {},
          "output_type": "execute_result"
        }
      ],
      "source": [
        "two_dim[0][0:3]"
      ]
    },
    {
      "cell_type": "markdown",
      "metadata": {
        "id": "x-vHo3mIEl13"
      },
      "source": [
        "# <font color='blue'>2. Basic Arithmetic</font>"
      ]
    },
    {
      "cell_type": "code",
      "execution_count": null,
      "metadata": {
        "id": "h0A-s2RAEl13"
      },
      "outputs": [],
      "source": [
        "x = 5.0\n",
        "y = 2.0"
      ]
    },
    {
      "cell_type": "code",
      "execution_count": null,
      "metadata": {
        "id": "eiRwpkkeEl13",
        "outputId": "20052d26-a32e-47c4-f013-2d7f93a708ab"
      },
      "outputs": [
        {
          "data": {
            "text/plain": [
              "7.0"
            ]
          },
          "execution_count": 60,
          "metadata": {},
          "output_type": "execute_result"
        }
      ],
      "source": [
        "x + y # addition"
      ]
    },
    {
      "cell_type": "code",
      "execution_count": null,
      "metadata": {
        "id": "b4jCQ8ohEl13",
        "outputId": "018b2f79-556b-4121-baf6-110b7a8bfdd7"
      },
      "outputs": [
        {
          "data": {
            "text/plain": [
              "3.0"
            ]
          },
          "execution_count": 61,
          "metadata": {},
          "output_type": "execute_result"
        }
      ],
      "source": [
        "x - y # Subtraction"
      ]
    },
    {
      "cell_type": "code",
      "execution_count": null,
      "metadata": {
        "id": "iZZlmEQnEl14",
        "outputId": "cbc58473-6c5a-4166-846d-d4e7ed2e3f83"
      },
      "outputs": [
        {
          "data": {
            "text/plain": [
              "2.5"
            ]
          },
          "execution_count": 62,
          "metadata": {},
          "output_type": "execute_result"
        }
      ],
      "source": [
        "x/y # Division"
      ]
    },
    {
      "cell_type": "code",
      "execution_count": null,
      "metadata": {
        "id": "5ipO4yOzEl14",
        "outputId": "3da4504b-d9f6-4a33-90c6-a70691299304"
      },
      "outputs": [
        {
          "data": {
            "text/plain": [
              "25.0"
            ]
          },
          "execution_count": 63,
          "metadata": {},
          "output_type": "execute_result"
        }
      ],
      "source": [
        "x**y # x to the Power of y"
      ]
    },
    {
      "cell_type": "code",
      "execution_count": null,
      "metadata": {
        "id": "dN9JpDiVEl14",
        "outputId": "06a601a4-67ec-4c37-9e67-b4bd85770798"
      },
      "outputs": [
        {
          "data": {
            "text/plain": [
              "2.0"
            ]
          },
          "execution_count": 64,
          "metadata": {},
          "output_type": "execute_result"
        }
      ],
      "source": [
        "x//y # Integer Division"
      ]
    },
    {
      "cell_type": "code",
      "execution_count": null,
      "metadata": {
        "id": "D7glM784El14",
        "outputId": "a93c81ba-805f-4701-a1cc-d40d5237b168"
      },
      "outputs": [
        {
          "data": {
            "text/plain": [
              "1.0"
            ]
          },
          "execution_count": 65,
          "metadata": {},
          "output_type": "execute_result"
        }
      ],
      "source": [
        "x%y # reminder from Modulo division."
      ]
    },
    {
      "cell_type": "code",
      "execution_count": null,
      "metadata": {
        "id": "DR2poyLnEl15",
        "outputId": "f725d513-a586-423a-96d7-abfedf27d992"
      },
      "outputs": [
        {
          "name": "stdout",
          "output_type": "stream",
          "text": [
            "x =  3\n",
            "x =  4\n"
          ]
        }
      ],
      "source": [
        "x=2\n",
        "x += 1 # x = x+1\n",
        "print('x = ',x)\n",
        "x += 1\n",
        "print('x = ',x)"
      ]
    },
    {
      "cell_type": "code",
      "execution_count": null,
      "metadata": {
        "id": "cX-MRO5VEl15",
        "outputId": "37d0bf67-4530-4827-de2a-a4fd06f63ca5"
      },
      "outputs": [
        {
          "name": "stdout",
          "output_type": "stream",
          "text": [
            "x =  29\n",
            "x =  27\n"
          ]
        }
      ],
      "source": [
        "x=31\n",
        "x -= 2\n",
        "print('x = ',x)\n",
        "\n",
        "x -= 2\n",
        "print('x = ',x)"
      ]
    },
    {
      "cell_type": "code",
      "execution_count": null,
      "metadata": {
        "id": "7tS7sTlBEl15",
        "outputId": "6f9bac12-d38e-4ec7-931c-3160c416ae33"
      },
      "outputs": [
        {
          "name": "stdout",
          "output_type": "stream",
          "text": [
            "x =  -6\n",
            "x =  12\n",
            "x =  -24\n"
          ]
        }
      ],
      "source": [
        "x=3\n",
        "x *= -2\n",
        "print('x = ',x)\n",
        "x *= -2\n",
        "print('x = ',x)\n",
        "x *= -2\n",
        "print('x = ',x)"
      ]
    },
    {
      "cell_type": "markdown",
      "metadata": {
        "id": "yQKEnA3hEl15"
      },
      "source": [
        "### The following are true, but the best way to avoid all this is to use the correct brackets."
      ]
    },
    {
      "cell_type": "markdown",
      "metadata": {
        "id": "z1LVYKQlEl15"
      },
      "source": [
        "x+2*y is equivalent to x + 2y\n",
        "\n",
        "\n",
        "x-y/2 is equivalent to x − (y/2)\n",
        "\n",
        "\n",
        "3*x**2 is equivalent to 3*(x**2)\n",
        "\n",
        "\n",
        "x/2*y is equivalent to (x*y)/2"
      ]
    },
    {
      "cell_type": "markdown",
      "metadata": {
        "id": "6xdQF4u1El15"
      },
      "source": [
        "(x+y)/(3*(x**2)-(4*y)**3)"
      ]
    },
    {
      "cell_type": "markdown",
      "metadata": {
        "id": "jiheaxHJEl16"
      },
      "source": [
        "# <font color='blue'>3. Constructing Functions</font>"
      ]
    },
    {
      "cell_type": "markdown",
      "metadata": {
        "id": "Vf2SNNzPEl16"
      },
      "source": [
        "[1] Python allows you to declare and use variables without assigning their type first. (see x=5.0 above.)\n",
        "\n",
        "[2] In other languages, there is a begin function / end function statement.\n",
        "\n",
        "[3] In python, this is replaced by indentation and a space."
      ]
    },
    {
      "cell_type": "markdown",
      "metadata": {
        "id": "wmb-h-n4El16"
      },
      "source": [
        "### a. Centigrade to Farenheit"
      ]
    },
    {
      "cell_type": "code",
      "execution_count": null,
      "metadata": {
        "id": "PAgjgdzrEl16"
      },
      "outputs": [],
      "source": [
        "def c_to_f(C):\n",
        "    F = (9.0/5)*C+32 # Notice that ive used 9.0, insted of (9/5)=1 (not for python 3). Also notice indentation.\n",
        "    return F # Return is used to assign outputs."
      ]
    },
    {
      "cell_type": "code",
      "execution_count": null,
      "metadata": {
        "id": "yf5wt-bNEl16",
        "outputId": "e915cfc1-2bbf-4929-d38f-a655f92f586c"
      },
      "outputs": [
        {
          "data": {
            "text/plain": [
              "212.0"
            ]
          },
          "execution_count": 72,
          "metadata": {},
          "output_type": "execute_result"
        }
      ],
      "source": [
        "c_to_f(100) # If you do not give an input, python does not know what to do."
      ]
    },
    {
      "cell_type": "code",
      "execution_count": null,
      "metadata": {
        "id": "MqPodJ0_El17"
      },
      "outputs": [],
      "source": [
        "def c_to_f_default_input(C=0):\n",
        "    F = (9.0/5)*C+32 # Notice that ive used 9.0, insted of (9/5)=1. Also notice indentation.\n",
        "    return F # Return is used to assign outputs."
      ]
    },
    {
      "cell_type": "code",
      "execution_count": null,
      "metadata": {
        "id": "GdIQ7iRqEl18",
        "outputId": "8dac42e5-e419-4a98-8929-208c58382e15"
      },
      "outputs": [
        {
          "data": {
            "text/plain": [
              "32.0"
            ]
          },
          "execution_count": 74,
          "metadata": {},
          "output_type": "execute_result"
        }
      ],
      "source": [
        "c_to_f_default_input()"
      ]
    },
    {
      "cell_type": "code",
      "execution_count": null,
      "metadata": {
        "id": "YlM14rCbEl18",
        "outputId": "28125147-6272-4b8f-984b-9d012a6ad3f3"
      },
      "outputs": [
        {
          "data": {
            "text/plain": [
              "-40.0"
            ]
          },
          "execution_count": 75,
          "metadata": {},
          "output_type": "execute_result"
        }
      ],
      "source": [
        "c_to_f_default_input(-40.)"
      ]
    },
    {
      "cell_type": "markdown",
      "metadata": {
        "id": "Y8v_zAr-El18"
      },
      "source": [
        "### c. Visualising Data"
      ]
    },
    {
      "cell_type": "code",
      "execution_count": null,
      "metadata": {
        "id": "SL1qC9-xEl18"
      },
      "outputs": [],
      "source": [
        "import numpy as np # This is unnecessary, but I am doing this since we will use these structures repeatedly in the future..\n",
        "import matplotlib.pyplot as plt\n",
        "%matplotlib inline"
      ]
    },
    {
      "cell_type": "code",
      "execution_count": null,
      "metadata": {
        "id": "9veURgVOEl18"
      },
      "outputs": [],
      "source": [
        "t = np.arange(1,1000,1)\n",
        "y = 3*t + 1/2. * (-9.8)*t**2"
      ]
    },
    {
      "cell_type": "code",
      "execution_count": null,
      "metadata": {
        "id": "L9OEk8KhEl19",
        "outputId": "e0a606a1-73e5-460a-81ff-e4764db0351f"
      },
      "outputs": [
        {
          "data": {
            "image/png": "[encoded data removed]",
            "text/plain": [
              "<Figure size 640x480 with 1 Axes>"
            ]
          },
          "metadata": {},
          "output_type": "display_data"
        }
      ],
      "source": [
        "# If you dont specify x-axis or colors, etc, then matplotlib will assume some default values.\n",
        "plt.plot(t,y,label='$y(t)$ vs $t$')\n",
        "plt.xlabel('time (s)')\n",
        "plt.ylabel('y(t)/m')\n",
        "plt.title('$y(t)$ vs $t$ graph for ')\n",
        "plt.show()"
      ]
    },
    {
      "cell_type": "markdown",
      "metadata": {
        "id": "GJgg5wpnEl19"
      },
      "source": [
        "### c. Phase Rotations, Updating Complex Numbers"
      ]
    },
    {
      "cell_type": "code",
      "execution_count": null,
      "metadata": {
        "id": "6KWSuarhEl19"
      },
      "outputs": [],
      "source": [
        "def Update_Complex_Numbers(z0=0,Num=10):\n",
        "    δz = 0.15 + 0.024*1j\n",
        "    Z=np.zeros(Num)+1j*np.zeros(Num)\n",
        "    Z[0]=z0\n",
        "    for i in range(1,Num):\n",
        "        Z[i] = Z[i-1] + δz\n",
        "    return Z\n",
        ""
      ]
    },
    {
      "cell_type": "code",
      "execution_count": null,
      "metadata": {
        "id": "jcb6eyAAEl19",
        "outputId": "ae76515c-1431-4b71-dd23-87face11afed"
      },
      "outputs": [
        {
          "name": "stdout",
          "output_type": "stream",
          "text": [
            "1 , -14\n",
            "2 , -11\n",
            "3 , -6\n",
            "4 , 1\n"
          ]
        }
      ],
      "source": [
        "for i in range(1,5):\n",
        "    z=i**2-15\n",
        "    print(i,\",\", z)"
      ]
    },
    {
      "cell_type": "markdown",
      "metadata": {
        "id": "5h_K6vBqEl1-"
      },
      "source": [
        "We will get some stuff wrong...but we will get used to syntax"
      ]
    },
    {
      "cell_type": "code",
      "execution_count": null,
      "metadata": {
        "id": "zRCA2x_yEl1-"
      },
      "outputs": [],
      "source": [
        "¶?np.zeros"
      ]
    },
    {
      "cell_type": "code",
      "execution_count": null,
      "metadata": {
        "id": "LD0tRXe5El1-"
      },
      "outputs": [],
      "source": [
        "Z=Update_Complex_Numbers(-10+4j,400)"
      ]
    },
    {
      "cell_type": "code",
      "execution_count": null,
      "metadata": {
        "id": "gppXNIXZEl1-"
      },
      "outputs": [],
      "source": [
        "r_abs=np.abs(Z)"
      ]
    },
    {
      "cell_type": "code",
      "execution_count": null,
      "metadata": {
        "id": "B5kjqvznEl1-"
      },
      "outputs": [],
      "source": [
        "r_ang=np.angle(Z,deg=False)"
      ]
    },
    {
      "cell_type": "code",
      "execution_count": null,
      "metadata": {
        "id": "P60CQUQLEl1-"
      },
      "outputs": [],
      "source": [
        "plt.plot(r_abs,'b.-')"
      ]
    },
    {
      "cell_type": "code",
      "execution_count": null,
      "metadata": {
        "scrolled": true,
        "id": "Il7oXR8KEl1_"
      },
      "outputs": [],
      "source": [
        "plt.plot(r_ang,'r.-')"
      ]
    },
    {
      "cell_type": "code",
      "execution_count": null,
      "metadata": {
        "id": "vhUcQkbUEl1_"
      },
      "outputs": [],
      "source": [
        "plt.plot(np.real(Z),np.imag(Z),'r--')"
      ]
    },
    {
      "cell_type": "markdown",
      "metadata": {
        "id": "YcMlQUj3El2A"
      },
      "source": [
        "# Problem"
      ]
    },
    {
      "cell_type": "markdown",
      "metadata": {
        "id": "cNCE8eJcEl2A"
      },
      "source": [
        "The logistic map models various biological phenomenon and is written as\n",
        "\n",
        "\\begin{equation}\n",
        "x_{n+1} = r x_{n}(1 - x_{n})\n",
        "\\end{equation}\n",
        " ¶\n",
        "where $ x_{n} $ is a number between zero and one that represents the ratio of existing population to the maximum possible population. The values of interest for the parameter r (sometimes also denoted as μ) are those in the interval [0,4].\n",
        "This nonlinear difference equation is intended to capture two effects:\n",
        "\n",
        "- reproduction where the population will increase at a rate proportional to the current population when the population size is small.\n",
        "- starvation (density-dependent mortality) where the growth rate will decrease at a rate proportional to the value obtained by taking the theoretical \"carrying capacity\" of the environment less the current population.\n",
        "\n",
        "However, as a demographic model the logistic map has the pathological problem that some initial conditions and parameter values (for example, if r > 4 or r<0) lead to negative population sizes. This problem does not appear in the older Ricker model, which also exhibits chaotic dynamics.\n",
        "\n",
        "Reference: https://en.wikipedia.org/wiki/Logistic_map\n",
        "\n",
        "\n",
        "The task here is to write a function logistic_map, which takes input as $ x_{0} $ , r and visualize by plotting a sequence of n=1000 points. Ensure that the population sizes doesn't take negative values. [hint: function definitions and the \"if\" command might be of help.]"
      ]
    },
    {
      "cell_type": "markdown",
      "metadata": {
        "id": "GV-ydAT1El2B"
      },
      "source": [
        "x=r cos($\\phi$)\n",
        "\n",
        "y=r sin($\\phi$)\n",
        "\n",
        "r = $r_0~e^{-\\kappa t}$\n",
        "\n",
        "$\\phi=t$"
      ]
    },
    {
      "cell_type": "code",
      "execution_count": null,
      "metadata": {
        "id": "9Sq2dW-hEl2B"
      },
      "outputs": [],
      "source": [
        "import numpy as np\n",
        "\n",
        "def Update_Complex_Numbers(r=1,φ=0,Num=100):\n",
        "    κ=0.1\n",
        "    dt=0.01\n",
        "    Z=[0*1j]*Num\n",
        "    for i in range(Num):\n",
        "        r += -κ*r*dt\n",
        "        φ += dt\n",
        "        Z[i] = r*np.exp(1j*φ)\n",
        "    return Z\n",
        ""
      ]
    },
    {
      "cell_type": "code",
      "execution_count": null,
      "metadata": {
        "id": "f6Sl5dYPEl2C"
      },
      "outputs": [],
      "source": [
        "Z=Update_Complex_Numbers(1,0,5000)"
      ]
    },
    {
      "cell_type": "code",
      "execution_count": null,
      "metadata": {
        "id": "zyWvJYzuEl2C",
        "outputId": "329c9261-f7eb-4133-aa2f-a4892c242221"
      },
      "outputs": [
        {
          "data": {
            "text/plain": [
              "[<matplotlib.lines.Line2D at 0x117692a90>]"
            ]
          },
          "execution_count": 35,
          "metadata": {},
          "output_type": "execute_result"
        },
        {
          "data": {
            "image/png": "[encoded data removed]",
            "text/plain": [
              "<Figure size 432x288 with 1 Axes>"
            ]
          },
          "metadata": {
            "needs_background": "light"
          },
          "output_type": "display_data"
        }
      ],
      "source": [
        "plt.plot(np.real(Z),np.imag(Z))"
      ]
    },
    {
      "cell_type": "code",
      "execution_count": null,
      "metadata": {
        "id": "PrciqChTEl2C"
      },
      "outputs": [],
      "source": [
        "toops=(1,2,3)"
      ]
    },
    {
      "cell_type": "code",
      "execution_count": null,
      "metadata": {
        "id": "qtKVTb4eEl2C",
        "outputId": "38433bf4-27fb-431c-d7cb-e07f05294aef"
      },
      "outputs": [
        {
          "data": {
            "text/plain": [
              "(1, 2, 3)"
            ]
          },
          "execution_count": 2,
          "metadata": {},
          "output_type": "execute_result"
        }
      ],
      "source": [
        "toops"
      ]
    },
    {
      "cell_type": "code",
      "execution_count": null,
      "metadata": {
        "id": "V92U22BrEl2C",
        "outputId": "eb62d622-377e-4be9-abef-1ad4fb4d1cf4"
      },
      "outputs": [
        {
          "ename": "TypeError",
          "evalue": "'tuple' object does not support item assignment",
          "output_type": "error",
          "traceback": [
            "\u001b[0;31m---------------------------------------------------------------------------\u001b[0m",
            "\u001b[0;31mTypeError\u001b[0m                                 Traceback (most recent call last)",
            "\u001b[0;32m<ipython-input-4-26876c42fd6f>\u001b[0m in \u001b[0;36m<module>\u001b[0;34m\u001b[0m\n\u001b[0;32m----> 1\u001b[0;31m \u001b[0mtoops\u001b[0m\u001b[0;34m[\u001b[0m\u001b[0;36m0\u001b[0m\u001b[0;34m]\u001b[0m\u001b[0;34m=\u001b[0m\u001b[0;36m2\u001b[0m\u001b[0;34m\u001b[0m\u001b[0;34m\u001b[0m\u001b[0m\n\u001b[0m",
            "\u001b[0;31mTypeError\u001b[0m: 'tuple' object does not support item assignment"
          ]
        }
      ],
      "source": [
        "toops[0]=2"
      ]
    },
    {
      "cell_type": "code",
      "execution_count": null,
      "metadata": {
        "id": "X66xPkoDEl2C"
      },
      "outputs": [],
      "source": [
        "toops=(3,4,5,6)"
      ]
    },
    {
      "cell_type": "code",
      "execution_count": null,
      "metadata": {
        "id": "RVI_tz3hEl2C",
        "outputId": "87fb4c10-6cbe-4733-b47c-213712dcf8df"
      },
      "outputs": [
        {
          "data": {
            "text/plain": [
              "(3, 4, 5, 6)"
            ]
          },
          "execution_count": 6,
          "metadata": {},
          "output_type": "execute_result"
        }
      ],
      "source": [
        "toops"
      ]
    },
    {
      "cell_type": "code",
      "execution_count": null,
      "metadata": {
        "id": "GFNAFGSpEl2D",
        "outputId": "578b7660-c2fd-4d67-c0db-6318c24e29b9"
      },
      "outputs": [
        {
          "ename": "TypeError",
          "evalue": "'tuple' object does not support item assignment",
          "output_type": "error",
          "traceback": [
            "\u001b[0;31m---------------------------------------------------------------------------\u001b[0m",
            "\u001b[0;31mTypeError\u001b[0m                                 Traceback (most recent call last)",
            "\u001b[0;32m<ipython-input-7-5d4c451caa80>\u001b[0m in \u001b[0;36m<module>\u001b[0;34m\u001b[0m\n\u001b[0;32m----> 1\u001b[0;31m \u001b[0mtoops\u001b[0m\u001b[0;34m[\u001b[0m\u001b[0;36m3\u001b[0m\u001b[0;34m]\u001b[0m\u001b[0;34m=\u001b[0m\u001b[0;36m2\u001b[0m\u001b[0;34m\u001b[0m\u001b[0;34m\u001b[0m\u001b[0m\n\u001b[0m",
            "\u001b[0;31mTypeError\u001b[0m: 'tuple' object does not support item assignment"
          ]
        }
      ],
      "source": [
        "toops[3]=2"
      ]
    },
    {
      "cell_type": "code",
      "execution_count": null,
      "metadata": {
        "id": "-31J2azSEl2D"
      },
      "outputs": [],
      "source": [
        "list1=[1,2,3,4]\n",
        "list2=[1,1,1,1]"
      ]
    },
    {
      "cell_type": "code",
      "execution_count": null,
      "metadata": {
        "id": "43qlR-T8El2D"
      },
      "outputs": [],
      "source": [
        "import numpy as np"
      ]
    },
    {
      "cell_type": "code",
      "execution_count": null,
      "metadata": {
        "id": "7RLWilXuEl2D"
      },
      "outputs": [],
      "source": [
        "n1=np.array(list1)\n",
        "n2=np.array(list2)"
      ]
    },
    {
      "cell_type": "code",
      "execution_count": null,
      "metadata": {
        "id": "HMTA1uLpEl2D",
        "outputId": "547215e1-a396-4766-92d5-7b05a39b5827"
      },
      "outputs": [
        {
          "data": {
            "text/plain": [
              "array([2, 3, 4, 5])"
            ]
          },
          "execution_count": 23,
          "metadata": {},
          "output_type": "execute_result"
        }
      ],
      "source": [
        "n1+n2"
      ]
    },
    {
      "cell_type": "code",
      "execution_count": null,
      "metadata": {
        "id": "s8H40CCREl2E"
      },
      "outputs": [],
      "source": [
        "tuple?"
      ]
    },
    {
      "cell_type": "code",
      "execution_count": null,
      "metadata": {
        "id": "kpMI6ncNEl2E",
        "outputId": "66d3d72e-6c41-4b94-bb54-b6246bd437a9"
      },
      "outputs": [
        {
          "data": {
            "text/plain": [
              "(3, 4, 5, 6)"
            ]
          },
          "execution_count": 13,
          "metadata": {},
          "output_type": "execute_result"
        }
      ],
      "source": [
        "toops"
      ]
    },
    {
      "cell_type": "code",
      "execution_count": null,
      "metadata": {
        "id": "qg945IKHEl2E"
      },
      "outputs": [],
      "source": [
        "toops2=(1,1,1,1)"
      ]
    },
    {
      "cell_type": "code",
      "execution_count": null,
      "metadata": {
        "id": "tcWmBYFdEl2E",
        "outputId": "77845e44-ed74-4ecd-c8a0-fb977c388fe7"
      },
      "outputs": [
        {
          "ename": "SyntaxError",
          "evalue": "invalid syntax (<ipython-input-30-768169dab6dd>, line 1)",
          "output_type": "error",
          "traceback": [
            "\u001b[0;36m  File \u001b[0;32m\"<ipython-input-30-768169dab6dd>\"\u001b[0;36m, line \u001b[0;32m1\u001b[0m\n\u001b[0;31m    t3 = toops .+ toops2\u001b[0m\n\u001b[0m                ^\u001b[0m\n\u001b[0;31mSyntaxError\u001b[0m\u001b[0;31m:\u001b[0m invalid syntax\n"
          ]
        }
      ],
      "source": [
        "t3 = toops + toops2"
      ]
    },
    {
      "cell_type": "code",
      "execution_count": null,
      "metadata": {
        "id": "QBbM_rDaEl2F",
        "outputId": "c3084837-d7f8-47e9-f054-1135da3509a6"
      },
      "outputs": [
        {
          "data": {
            "text/plain": [
              "(3, 4, 5, 6, 1, 1, 1, 1)"
            ]
          },
          "execution_count": 25,
          "metadata": {},
          "output_type": "execute_result"
        }
      ],
      "source": [
        "t3"
      ]
    },
    {
      "cell_type": "code",
      "execution_count": null,
      "metadata": {
        "id": "_3VX5bDiEl2F"
      },
      "outputs": [],
      "source": []
    }
  ],
  "metadata": {
    "kernelspec": {
      "display_name": "Python 3 (ipykernel)",
      "language": "python",
      "name": "python3"
    },
    "language_info": {
      "codemirror_mode": {
        "name": "ipython",
        "version": 3
      },
      "file_extension": ".py",
      "mimetype": "text/x-python",
      "name": "python",
      "nbconvert_exporter": "python",
      "pygments_lexer": "ipython3",
      "version": "3.9.12"
    },
    "colab": {
      "provenance": [],
      "include_colab_link": true
    }
  },
  "nbformat": 4,
  "nbformat_minor": 0
}