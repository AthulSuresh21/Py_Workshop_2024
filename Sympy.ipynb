{
 "cells": [
  {
   "cell_type": "markdown",
   "id": "99ec3b45-5faf-471d-944a-7ad74aa6f4c0",
   "metadata": {},
   "source": [
    "# Symbolic math with python"
   ]
  },
  {
   "cell_type": "code",
   "execution_count": 75,
   "id": "46f52c06-954f-428a-afc5-bafce4c513fb",
   "metadata": {},
   "outputs": [],
   "source": [
    "import matplotlib.pyplot as plt\n",
    "import numpy as np\n",
    "import sympy as smp"
   ]
  },
  {
   "cell_type": "markdown",
   "id": "faddcb48-a5b3-41b7-9dc3-890c489361d2",
   "metadata": {},
   "source": [
    "# Symbolic variables"
   ]
  },
  {
   "cell_type": "code",
   "execution_count": 76,
   "id": "24dec63b-79c9-43dd-b575-8c626d7dba0c",
   "metadata": {},
   "outputs": [],
   "source": [
    "smp.init_printing() # for LATEX formatted output"
   ]
  },
  {
   "cell_type": "code",
   "execution_count": 77,
   "id": "724ed7e9-69ce-4c33-a1ac-e4b0dc3bcfb5",
   "metadata": {},
   "outputs": [],
   "source": [
    "x = smp.Symbol('x')"
   ]
  },
  {
   "cell_type": "code",
   "execution_count": 78,
   "id": "033f9709-db62-4238-bbb7-baee43041213",
   "metadata": {},
   "outputs": [
    {
     "name": "stdout",
     "output_type": "stream",
     "text": [
      "x\n"
     ]
    }
   ],
   "source": [
    "print(x)"
   ]
  },
  {
   "cell_type": "code",
   "execution_count": 79,
   "id": "11d57161-deb9-498c-b9ab-80ae7a8e9f61",
   "metadata": {},
   "outputs": [
    {
     "data": {
      "text/plain": [
       "sympy.core.symbol.Symbol"
      ]
     },
     "execution_count": 79,
     "metadata": {},
     "output_type": "execute_result"
    }
   ],
   "source": [
    "type(x)"
   ]
  },
  {
   "cell_type": "code",
   "execution_count": 80,
   "id": "fe4b3ab1-12cb-4645-a021-eeb5bff47aea",
   "metadata": {},
   "outputs": [
    {
     "data": {
      "image/png": "[encoded data removed]",
      "text/latex": [
       "$\\displaystyle \\left(x + \\pi\\right)^{2}$"
      ],
      "text/plain": [
       "       2\n",
       "(x + π) "
      ]
     },
     "execution_count": 80,
     "metadata": {},
     "output_type": "execute_result"
    }
   ],
   "source": [
    "(smp.pi + x)**2"
   ]
  },
  {
   "cell_type": "code",
   "execution_count": 83,
   "id": "09140d05-f8a7-4659-8d4b-3e3044d581d6",
   "metadata": {},
   "outputs": [
    {
     "data": {
      "image/png": "[encoded data removed]",
      "text/latex": [
       "$\\displaystyle x^{2} + 2 \\pi x + \\pi^{2}$"
      ],
      "text/plain": [
       " 2            2\n",
       "x  + 2⋅π⋅x + π "
      ]
     },
     "execution_count": 83,
     "metadata": {},
     "output_type": "execute_result"
    }
   ],
   "source": [
    "expr1 = (smp.pi + x)**2\n",
    "expr1.expand()"
   ]
  },
  {
   "cell_type": "code",
   "execution_count": 84,
   "id": "a78d8b8c-b381-42a1-a55f-42743ec020db",
   "metadata": {},
   "outputs": [
    {
     "name": "stdout",
     "output_type": "stream",
     "text": [
      "x**2 + 2*pi*x + pi**2\n"
     ]
    }
   ],
   "source": [
    "expr2 = expr1.expand()\n",
    "print(expr2)"
   ]
  },
  {
   "cell_type": "code",
   "execution_count": 85,
   "id": "70e6ce18-3095-43c8-8503-efb9a0dacf94",
   "metadata": {},
   "outputs": [
    {
     "data": {
      "image/png": "[encoded data removed]",
      "text/latex": [
       "$\\displaystyle \\left(x + \\pi\\right)^{2}$"
      ],
      "text/plain": [
       "       2\n",
       "(x + π) "
      ]
     },
     "execution_count": 85,
     "metadata": {},
     "output_type": "execute_result"
    }
   ],
   "source": [
    "expr2.factor()"
   ]
  },
  {
   "cell_type": "markdown",
   "id": "21877410-33bd-4345-ba1d-4bd41256fa85",
   "metadata": {},
   "source": [
    "# Multiple symbols can be created using symbols function and unpacking in python."
   ]
  },
  {
   "cell_type": "code",
   "execution_count": 86,
   "id": "cae4ea73-1bca-494f-9c29-7a39418432e9",
   "metadata": {},
   "outputs": [],
   "source": [
    "a,b,c = smp.symbols('a, b, c')"
   ]
  },
  {
   "cell_type": "markdown",
   "id": "60153863-82bc-4151-85ea-93bf756a5d0f",
   "metadata": {},
   "source": [
    "## mathematical type of the variable can also be defined."
   ]
  },
  {
   "cell_type": "code",
   "execution_count": 87,
   "id": "0f4c3ec9-25b5-4e52-bf47-bdc8d1c9d454",
   "metadata": {},
   "outputs": [],
   "source": [
    "x = smp.Symbol('x',real=True)"
   ]
  },
  {
   "cell_type": "code",
   "execution_count": 88,
   "id": "29f98095-a04d-4094-9fb7-bb857b23023a",
   "metadata": {},
   "outputs": [
    {
     "data": {
      "text/plain": [
       "True"
      ]
     },
     "execution_count": 88,
     "metadata": {},
     "output_type": "execute_result"
    }
   ],
   "source": [
    "x.is_real"
   ]
  },
  {
   "cell_type": "code",
   "execution_count": 89,
   "id": "4694616d-978f-436f-81f5-283fea18edeb",
   "metadata": {},
   "outputs": [
    {
     "data": {
      "text/plain": [
       "True"
      ]
     },
     "execution_count": 89,
     "metadata": {},
     "output_type": "execute_result"
    }
   ],
   "source": [
    "smp.pi.is_irrational"
   ]
  },
  {
   "cell_type": "code",
   "execution_count": 90,
   "id": "ec7efa51-a5ae-4228-acff-1db8b48022a7",
   "metadata": {},
   "outputs": [
    {
     "data": {
      "text/plain": [
       "False"
      ]
     },
     "execution_count": 90,
     "metadata": {},
     "output_type": "execute_result"
    }
   ],
   "source": [
    "x.is_imaginary"
   ]
  },
  {
   "cell_type": "code",
   "execution_count": 91,
   "id": "86825bb1-f5f9-43b0-a1b7-83ce4ddcdec9",
   "metadata": {},
   "outputs": [
    {
     "data": {
      "image/png": "[encoded data removed]",
      "text/latex": [
       "$\\displaystyle x > 0$"
      ],
      "text/plain": [
       "x > 0"
      ]
     },
     "execution_count": 91,
     "metadata": {},
     "output_type": "execute_result"
    }
   ],
   "source": [
    "x>0"
   ]
  },
  {
   "cell_type": "code",
   "execution_count": 92,
   "id": "420e058f-c362-4ea9-a967-65067e71c18d",
   "metadata": {},
   "outputs": [],
   "source": [
    "x = smp.Symbol('x',real=True,positive=True)"
   ]
  },
  {
   "cell_type": "code",
   "execution_count": 93,
   "id": "392c2651-c2e4-4e60-ae27-034041da232e",
   "metadata": {},
   "outputs": [
    {
     "data": {
      "image/png": "[encoded data removed]",
      "text/latex": [
       "$\\displaystyle \\text{True}$"
      ],
      "text/plain": [
       "True"
      ]
     },
     "execution_count": 93,
     "metadata": {},
     "output_type": "execute_result"
    }
   ],
   "source": [
    "x > 0"
   ]
  },
  {
   "cell_type": "markdown",
   "id": "23f54dfa-89c4-4b81-9840-e29ce8070348",
   "metadata": {},
   "source": [
    "# Complex numbers"
   ]
  },
  {
   "cell_type": "code",
   "execution_count": 94,
   "id": "b7fb5e05-0da2-423d-ab0a-1f780d69bc17",
   "metadata": {},
   "outputs": [],
   "source": [
    "a,b,c = smp.symbols('a, b, c',real=True)"
   ]
  },
  {
   "cell_type": "code",
   "execution_count": 95,
   "id": "7675c5f1-6740-44af-81ef-b27c249acdd5",
   "metadata": {},
   "outputs": [],
   "source": [
    "z = a + b*smp.I"
   ]
  },
  {
   "cell_type": "code",
   "execution_count": 96,
   "id": "4ac6c448-96cf-4b39-9c12-b105171ed657",
   "metadata": {},
   "outputs": [
    {
     "data": {
      "image/png": "[encoded data removed]",
      "text/latex": [
       "$\\displaystyle a + i b$"
      ],
      "text/plain": [
       "a + ⅈ⋅b"
      ]
     },
     "execution_count": 96,
     "metadata": {},
     "output_type": "execute_result"
    }
   ],
   "source": [
    "z"
   ]
  },
  {
   "cell_type": "code",
   "execution_count": 97,
   "id": "c1c6eb98-21b7-466c-8adc-0e3f76653df8",
   "metadata": {},
   "outputs": [
    {
     "data": {
      "image/png": "[encoded data removed]",
      "text/latex": [
       "$\\displaystyle \\left(a + i b\\right)^{2}$"
      ],
      "text/plain": [
       "         2\n",
       "(a + ⅈ⋅b) "
      ]
     },
     "execution_count": 97,
     "metadata": {},
     "output_type": "execute_result"
    }
   ],
   "source": [
    "z**2"
   ]
  },
  {
   "cell_type": "code",
   "execution_count": 98,
   "id": "f9a89d99-608c-45bd-b9fd-6d8449c554b3",
   "metadata": {},
   "outputs": [
    {
     "data": {
      "image/png": "[encoded data removed]",
      "text/latex": [
       "$\\displaystyle -1$"
      ],
      "text/plain": [
       "-1"
      ]
     },
     "execution_count": 98,
     "metadata": {},
     "output_type": "execute_result"
    }
   ],
   "source": [
    "smp.I**2"
   ]
  },
  {
   "cell_type": "code",
   "execution_count": 99,
   "id": "637a7776-746f-43b9-a3c3-7abe1d19d38e",
   "metadata": {},
   "outputs": [],
   "source": [
    "z1 = z**2"
   ]
  },
  {
   "cell_type": "code",
   "execution_count": 100,
   "id": "c2bf0c6a-8ed9-4435-bc8f-7a8e532b8a65",
   "metadata": {},
   "outputs": [
    {
     "data": {
      "image/png": "[encoded data removed]",
      "text/latex": [
       "$\\displaystyle a^{2} + 2 i a b - b^{2}$"
      ],
      "text/plain": [
       " 2              2\n",
       "a  + 2⋅ⅈ⋅a⋅b - b "
      ]
     },
     "execution_count": 100,
     "metadata": {},
     "output_type": "execute_result"
    }
   ],
   "source": [
    "z1.expand()"
   ]
  },
  {
   "cell_type": "code",
   "execution_count": 101,
   "id": "1bde647d-f275-4e4d-ab46-9f2c698bb123",
   "metadata": {},
   "outputs": [
    {
     "data": {
      "image/png": "[encoded data removed]",
      "text/latex": [
       "$\\displaystyle \\left(a - b\\right) \\left(a + b\\right)$"
      ],
      "text/plain": [
       "(a - b)⋅(a + b)"
      ]
     },
     "execution_count": 101,
     "metadata": {},
     "output_type": "execute_result"
    }
   ],
   "source": [
    "(a**2 - b**2).factor()"
   ]
  },
  {
   "cell_type": "code",
   "execution_count": 104,
   "id": "5435be20-9a1e-4742-af10-915809ae3eb0",
   "metadata": {},
   "outputs": [],
   "source": [
    "expr1 = (a-b)*(a**2 + a*b + b**2)"
   ]
  },
  {
   "cell_type": "code",
   "execution_count": 105,
   "id": "54a6c6fa-fe98-445f-bfbc-a0391a8c166a",
   "metadata": {},
   "outputs": [
    {
     "data": {
      "image/png": "[encoded data removed]",
      "text/latex": [
       "$\\displaystyle a^{3} - b^{3}$"
      ],
      "text/plain": [
       " 3    3\n",
       "a  - b "
      ]
     },
     "execution_count": 105,
     "metadata": {},
     "output_type": "execute_result"
    }
   ],
   "source": [
    "expr1.expand()"
   ]
  },
  {
   "cell_type": "code",
   "execution_count": 106,
   "id": "7729284b-5e96-44c6-b06c-a2370bb0886a",
   "metadata": {},
   "outputs": [],
   "source": [
    "expr2 = (a + b)**60"
   ]
  },
  {
   "cell_type": "code",
   "execution_count": 107,
   "id": "f357f2f5-e543-429d-b2e5-21d64393b719",
   "metadata": {},
   "outputs": [
    {
     "data": {
      "image/png": "[encoded data removed]",
      "text/latex": [
       "$\\displaystyle \\left(a + b\\right)^{60}$"
      ],
      "text/plain": [
       "       60\n",
       "(a + b)  "
      ]
     },
     "execution_count": 107,
     "metadata": {},
     "output_type": "execute_result"
    }
   ],
   "source": [
    "expr2"
   ]
  },
  {
   "cell_type": "code",
   "execution_count": 108,
   "id": "02b71cd2-c0c1-4f55-bc0e-d25550287a59",
   "metadata": {},
   "outputs": [
    {
     "data": {
      "image/png": "[encoded data removed]",
      "text/latex": [
       "$\\displaystyle a^{60} + 60 a^{59} b + 1770 a^{58} b^{2} + 34220 a^{57} b^{3} + 487635 a^{56} b^{4} + 5461512 a^{55} b^{5} + 50063860 a^{54} b^{6} + 386206920 a^{53} b^{7} + 2558620845 a^{52} b^{8} + 14783142660 a^{51} b^{9} + 75394027566 a^{50} b^{10} + 342700125300 a^{49} b^{11} + 1399358844975 a^{48} b^{12} + 5166863427600 a^{47} b^{13} + 17345898649800 a^{46} b^{14} + 53194089192720 a^{45} b^{15} + 149608375854525 a^{44} b^{16} + 387221678682300 a^{43} b^{17} + 925029565741050 a^{42} b^{18} + 2044802197953900 a^{41} b^{19} + 4191844505805495 a^{40} b^{20} + 7984465725343800 a^{39} b^{21} + 14154280149473100 a^{38} b^{22} + 23385332420868600 a^{37} b^{23} + 36052387482172425 a^{36} b^{24} + 51915437974328292 a^{35} b^{25} + 69886166503903470 a^{34} b^{26} + 88004802264174740 a^{33} b^{27} + 103719945525634515 a^{32} b^{28} + 114449595062769120 a^{31} b^{29} + 118264581564861424 a^{30} b^{30} + 114449595062769120 a^{29} b^{31} + 103719945525634515 a^{28} b^{32} + 88004802264174740 a^{27} b^{33} + 69886166503903470 a^{26} b^{34} + 51915437974328292 a^{25} b^{35} + 36052387482172425 a^{24} b^{36} + 23385332420868600 a^{23} b^{37} + 14154280149473100 a^{22} b^{38} + 7984465725343800 a^{21} b^{39} + 4191844505805495 a^{20} b^{40} + 2044802197953900 a^{19} b^{41} + 925029565741050 a^{18} b^{42} + 387221678682300 a^{17} b^{43} + 149608375854525 a^{16} b^{44} + 53194089192720 a^{15} b^{45} + 17345898649800 a^{14} b^{46} + 5166863427600 a^{13} b^{47} + 1399358844975 a^{12} b^{48} + 342700125300 a^{11} b^{49} + 75394027566 a^{10} b^{50} + 14783142660 a^{9} b^{51} + 2558620845 a^{8} b^{52} + 386206920 a^{7} b^{53} + 50063860 a^{6} b^{54} + 5461512 a^{5} b^{55} + 487635 a^{4} b^{56} + 34220 a^{3} b^{57} + 1770 a^{2} b^{58} + 60 a b^{59} + b^{60}$"
      ],
      "text/plain": [
       " 60       59           58  2          57  3           56  4            55  5   ↪\n",
       "a   + 60⋅a  ⋅b + 1770⋅a  ⋅b  + 34220⋅a  ⋅b  + 487635⋅a  ⋅b  + 5461512⋅a  ⋅b  + ↪\n",
       "\n",
       "↪            54  6              53  7               52  8                51  9 ↪\n",
       "↪  50063860⋅a  ⋅b  + 386206920⋅a  ⋅b  + 2558620845⋅a  ⋅b  + 14783142660⋅a  ⋅b  ↪\n",
       "\n",
       "↪                 50  10                 49  11                  48  12        ↪\n",
       "↪  + 75394027566⋅a  ⋅b   + 342700125300⋅a  ⋅b   + 1399358844975⋅a  ⋅b   + 5166 ↪\n",
       "\n",
       "↪            47  13                   46  14                   45  15          ↪\n",
       "↪ 863427600⋅a  ⋅b   + 17345898649800⋅a  ⋅b   + 53194089192720⋅a  ⋅b   + 149608 ↪\n",
       "\n",
       "↪            44  16                    43  17                    42  18        ↪\n",
       "↪ 375854525⋅a  ⋅b   + 387221678682300⋅a  ⋅b   + 925029565741050⋅a  ⋅b   + 2044 ↪\n",
       "\n",
       "↪               41  19                     40  20                     39  21   ↪\n",
       "↪ 802197953900⋅a  ⋅b   + 4191844505805495⋅a  ⋅b   + 7984465725343800⋅a  ⋅b   + ↪\n",
       "\n",
       "↪                     38  22                      37  23                       ↪\n",
       "↪  14154280149473100⋅a  ⋅b   + 23385332420868600⋅a  ⋅b   + 36052387482172425⋅a ↪\n",
       "\n",
       "↪ 36  24                      35  25                      34  26               ↪\n",
       "↪   ⋅b   + 51915437974328292⋅a  ⋅b   + 69886166503903470⋅a  ⋅b   + 88004802264 ↪\n",
       "\n",
       "↪         33  27                       32  28                       31  29     ↪\n",
       "↪ 174740⋅a  ⋅b   + 103719945525634515⋅a  ⋅b   + 114449595062769120⋅a  ⋅b   + 1 ↪\n",
       "\n",
       "↪                    30  30                       29  31                       ↪\n",
       "↪ 18264581564861424⋅a  ⋅b   + 114449595062769120⋅a  ⋅b   + 103719945525634515⋅ ↪\n",
       "\n",
       "↪  28  32                      27  33                      26  34              ↪\n",
       "↪ a  ⋅b   + 88004802264174740⋅a  ⋅b   + 69886166503903470⋅a  ⋅b   + 5191543797 ↪\n",
       "\n",
       "↪          25  35                      24  36                      23  37      ↪\n",
       "↪ 4328292⋅a  ⋅b   + 36052387482172425⋅a  ⋅b   + 23385332420868600⋅a  ⋅b   + 14 ↪\n",
       "\n",
       "↪                  22  38                     21  39                     20  4 ↪\n",
       "↪ 154280149473100⋅a  ⋅b   + 7984465725343800⋅a  ⋅b   + 4191844505805495⋅a  ⋅b  ↪\n",
       "\n",
       "↪ 0                     19  41                    18  42                    17 ↪\n",
       "↪   + 2044802197953900⋅a  ⋅b   + 925029565741050⋅a  ⋅b   + 387221678682300⋅a   ↪\n",
       "\n",
       "↪   43                    16  44                   15  45                   14 ↪\n",
       "↪ ⋅b   + 149608375854525⋅a  ⋅b   + 53194089192720⋅a  ⋅b   + 17345898649800⋅a   ↪\n",
       "\n",
       "↪   46                  13  47                  12  48                 11  49  ↪\n",
       "↪ ⋅b   + 5166863427600⋅a  ⋅b   + 1399358844975⋅a  ⋅b   + 342700125300⋅a  ⋅b    ↪\n",
       "\n",
       "↪                10  50                9  51               8  52               ↪\n",
       "↪ + 75394027566⋅a  ⋅b   + 14783142660⋅a ⋅b   + 2558620845⋅a ⋅b   + 386206920⋅a ↪\n",
       "\n",
       "↪ 7  53             6  54            5  55           4  56          3  57      ↪\n",
       "↪  ⋅b   + 50063860⋅a ⋅b   + 5461512⋅a ⋅b   + 487635⋅a ⋅b   + 34220⋅a ⋅b   + 17 ↪\n",
       "\n",
       "↪     2  58         59    60\n",
       "↪ 70⋅a ⋅b   + 60⋅a⋅b   + b  "
      ]
     },
     "execution_count": 108,
     "metadata": {},
     "output_type": "execute_result"
    }
   ],
   "source": [
    "expr2.expand()"
   ]
  },
  {
   "cell_type": "code",
   "execution_count": 109,
   "id": "9ca8f4c8-623c-48de-a836-c164f1ba23b6",
   "metadata": {},
   "outputs": [
    {
     "ename": "NotImplementedError",
     "evalue": "multiple generators [x, tan(x)]\nNo algorithms are implemented to solve equation -x + tan(x)",
     "output_type": "error",
     "traceback": [
      "\u001b[0;31m---------------------------------------------------------------------------\u001b[0m",
      "\u001b[0;31mNotImplementedError\u001b[0m                       Traceback (most recent call last)",
      "Cell \u001b[0;32mIn[109], line 1\u001b[0m\n\u001b[0;32m----> 1\u001b[0m smp\u001b[38;5;241m.\u001b[39msolve(smp\u001b[38;5;241m.\u001b[39mtan(x)\u001b[38;5;241m-\u001b[39mx,x)\n",
      "File \u001b[0;32m~/miniconda3/lib/python3.12/site-packages/sympy/solvers/solvers.py:1170\u001b[0m, in \u001b[0;36msolve\u001b[0;34m(f, *symbols, **flags)\u001b[0m\n\u001b[1;32m   1168\u001b[0m         solution \u001b[38;5;241m=\u001b[39m _solve_undetermined(f[\u001b[38;5;241m0\u001b[39m], symbols, flags)\n\u001b[1;32m   1169\u001b[0m     \u001b[38;5;28;01mif\u001b[39;00m \u001b[38;5;129;01mnot\u001b[39;00m solution:\n\u001b[0;32m-> 1170\u001b[0m         solution \u001b[38;5;241m=\u001b[39m _solve(f[\u001b[38;5;241m0\u001b[39m], \u001b[38;5;241m*\u001b[39msymbols, \u001b[38;5;241m*\u001b[39m\u001b[38;5;241m*\u001b[39mflags)\n\u001b[1;32m   1171\u001b[0m \u001b[38;5;28;01melse\u001b[39;00m:\n\u001b[1;32m   1172\u001b[0m     linear, solution \u001b[38;5;241m=\u001b[39m _solve_system(f, symbols, \u001b[38;5;241m*\u001b[39m\u001b[38;5;241m*\u001b[39mflags)\n",
      "File \u001b[0;32m~/miniconda3/lib/python3.12/site-packages/sympy/solvers/solvers.py:1729\u001b[0m, in \u001b[0;36m_solve\u001b[0;34m(f, *symbols, **flags)\u001b[0m\n\u001b[1;32m   1726\u001b[0m \u001b[38;5;66;03m# ----------- end of fallback ----------------------------\u001b[39;00m\n\u001b[1;32m   1728\u001b[0m \u001b[38;5;28;01mif\u001b[39;00m result \u001b[38;5;129;01mis\u001b[39;00m \u001b[38;5;28;01mFalse\u001b[39;00m:\n\u001b[0;32m-> 1729\u001b[0m     \u001b[38;5;28;01mraise\u001b[39;00m \u001b[38;5;167;01mNotImplementedError\u001b[39;00m(\u001b[38;5;124m'\u001b[39m\u001b[38;5;130;01m\\n\u001b[39;00m\u001b[38;5;124m'\u001b[39m\u001b[38;5;241m.\u001b[39mjoin([msg, not_impl_msg \u001b[38;5;241m%\u001b[39m f]))\n\u001b[1;32m   1731\u001b[0m result \u001b[38;5;241m=\u001b[39m _remove_duplicate_solutions(result)\n\u001b[1;32m   1733\u001b[0m \u001b[38;5;28;01mif\u001b[39;00m flags\u001b[38;5;241m.\u001b[39mget(\u001b[38;5;124m'\u001b[39m\u001b[38;5;124msimplify\u001b[39m\u001b[38;5;124m'\u001b[39m, \u001b[38;5;28;01mTrue\u001b[39;00m):\n",
      "\u001b[0;31mNotImplementedError\u001b[0m: multiple generators [x, tan(x)]\nNo algorithms are implemented to solve equation -x + tan(x)"
     ]
    }
   ],
   "source": [
    "smp.solve(smp.tan(x)-x,x)"
   ]
  },
  {
   "cell_type": "code",
   "execution_count": 110,
   "id": "fd648ac8-95e1-4104-b813-58b9ef62a534",
   "metadata": {},
   "outputs": [
    {
     "data": {
      "image/png": "[encoded data removed]",
      "text/latex": [
       "$\\displaystyle \\left[ 2 \\pi\\right]$"
      ],
      "text/plain": [
       "[2⋅π]"
      ]
     },
     "execution_count": 110,
     "metadata": {},
     "output_type": "execute_result"
    }
   ],
   "source": [
    "smp.solve(smp.cos(x)-1,x)"
   ]
  },
  {
   "cell_type": "code",
   "execution_count": 111,
   "id": "a171b91a-de81-4d7a-93f6-daabb9da47c6",
   "metadata": {},
   "outputs": [
    {
     "data": {
      "image/png": "[encoded data removed]",
      "text/latex": [
       "$\\displaystyle \\left[ 1\\right]$"
      ],
      "text/plain": [
       "[1]"
      ]
     },
     "execution_count": 111,
     "metadata": {},
     "output_type": "execute_result"
    }
   ],
   "source": [
    "smp.solve(x**3-1,x)"
   ]
  },
  {
   "cell_type": "code",
   "execution_count": 112,
   "id": "134c3f16-7680-4e85-99f7-52e6bf485060",
   "metadata": {},
   "outputs": [],
   "source": [
    "z = smp.symbols('z',complex=True)"
   ]
  },
  {
   "cell_type": "code",
   "execution_count": 113,
   "id": "4de96c67-2293-42d9-bc1d-f031e4bf451f",
   "metadata": {},
   "outputs": [
    {
     "data": {
      "image/png": "[encoded data removed]",
      "text/latex": [
       "$\\displaystyle \\left[ 1, \\  - \\frac{1}{2} - \\frac{\\sqrt{3} i}{2}, \\  - \\frac{1}{2} + \\frac{\\sqrt{3} i}{2}\\right]$"
      ],
      "text/plain": [
       "⎡     1   √3⋅ⅈ    1   √3⋅ⅈ⎤\n",
       "⎢1, - ─ - ────, - ─ + ────⎥\n",
       "⎣     2    2      2    2  ⎦"
      ]
     },
     "execution_count": 113,
     "metadata": {},
     "output_type": "execute_result"
    }
   ],
   "source": [
    "smp.solve(z**3-1,z)"
   ]
  },
  {
   "cell_type": "code",
   "execution_count": 114,
   "id": "b71acf21-2f92-4b9d-94ad-0bace2a40ef4",
   "metadata": {},
   "outputs": [
    {
     "data": {
      "image/png": "[encoded data removed]",
      "text/latex": [
       "$\\displaystyle \\left[ -1, \\  1, \\  - i, \\  i\\right]$"
      ],
      "text/plain": [
       "[-1, 1, -ⅈ, ⅈ]"
      ]
     },
     "execution_count": 114,
     "metadata": {},
     "output_type": "execute_result"
    }
   ],
   "source": [
    "smp.solve(z**4-1,z)"
   ]
  },
  {
   "cell_type": "code",
   "execution_count": null,
   "id": "30120c64-0088-4a0e-b232-0817bacf015a",
   "metadata": {},
   "outputs": [],
   "source": [
    "smp.solve(z**5-1,z)"
   ]
  },
  {
   "cell_type": "code",
   "execution_count": 115,
   "id": "dced7447-f95f-4b43-be49-9e4bfe8f4a0c",
   "metadata": {},
   "outputs": [
    {
     "data": {
      "image/png": "[encoded data removed]",
      "text/latex": [
       "$\\displaystyle \\left[ \\right]$"
      ],
      "text/plain": [
       "[]"
      ]
     },
     "execution_count": 115,
     "metadata": {},
     "output_type": "execute_result"
    }
   ],
   "source": [
    "x = smp.symbols('x', real=True, positive=True)\n",
    "smp.solve(x+4, x)"
   ]
  },
  {
   "cell_type": "code",
   "execution_count": 116,
   "id": "6bd1a8e0-4f4b-4c99-84b0-84144a3bfcd2",
   "metadata": {},
   "outputs": [
    {
     "data": {
      "image/png": "[encoded data removed]",
      "text/latex": [
       "$\\displaystyle x^{2} + y^{2} + z^{2} - 4$"
      ],
      "text/plain": [
       " 2    2    2    \n",
       "x  + y  + z  - 4"
      ]
     },
     "execution_count": 116,
     "metadata": {},
     "output_type": "execute_result"
    }
   ],
   "source": [
    "x, y, z = smp.symbols('x y z', real = True)\n",
    "Fxyz = x**2 + y**2 + z**2 -4\n",
    "Fxyz"
   ]
  },
  {
   "cell_type": "code",
   "execution_count": 117,
   "id": "df80af6b-4c59-41fe-833d-101ff419a7a2",
   "metadata": {},
   "outputs": [
    {
     "name": "stdout",
     "output_type": "stream",
     "text": [
      "[-sqrt(-y**2 - z**2 + 4), sqrt(-y**2 - z**2 + 4)]\n"
     ]
    }
   ],
   "source": [
    "x_sol = smp.solve(Fxyz,x)\n",
    "print(x_sol)"
   ]
  },
  {
   "cell_type": "code",
   "execution_count": 118,
   "id": "8d580f0a-a121-479b-92c4-e79aff00259d",
   "metadata": {},
   "outputs": [
    {
     "name": "stdout",
     "output_type": "stream",
     "text": [
      "[-sqrt(-x**2 - z**2 + 4), sqrt(-x**2 - z**2 + 4)]\n"
     ]
    }
   ],
   "source": [
    "y_sol = smp.solve(Fxyz,y)\n",
    "print(y_sol)"
   ]
  },
  {
   "cell_type": "code",
   "execution_count": 120,
   "id": "fe194134-cc88-4b3f-8df1-f78d79e2506d",
   "metadata": {},
   "outputs": [],
   "source": [
    "Fxyz_fn = smp.lambdify([x,y,z],Fxyz)"
   ]
  },
  {
   "cell_type": "code",
   "execution_count": 121,
   "id": "949de4c3-68dd-4103-9555-9365a73c4d33",
   "metadata": {},
   "outputs": [
    {
     "data": {
      "image/png": "[encoded data removed]",
      "text/latex": [
       "$\\displaystyle 0$"
      ],
      "text/plain": [
       "0"
      ]
     },
     "execution_count": 121,
     "metadata": {},
     "output_type": "execute_result"
    }
   ],
   "source": [
    "Fxyz_fn(0,0,2)"
   ]
  },
  {
   "cell_type": "code",
   "execution_count": 122,
   "id": "3e98a103-fa4e-4ecf-92af-208d77c03847",
   "metadata": {},
   "outputs": [],
   "source": [
    "sin_fn = smp.lambdify([x],smp.sin(x))"
   ]
  },
  {
   "cell_type": "code",
   "execution_count": 123,
   "id": "d9ea0ef3-7c8e-416a-8a77-ed8a09c55cb5",
   "metadata": {},
   "outputs": [
    {
     "data": {
      "image/png": "[encoded data removed]",
      "text/plain": [
       "<Figure size 640x480 with 1 Axes>"
      ]
     },
     "metadata": {},
     "output_type": "display_data"
    }
   ],
   "source": [
    "xval = np.linspace(-np.pi,np.pi,50)\n",
    "plt.plot(xval,sin_fn(xval))\n",
    "plt.show()"
   ]
  },
  {
   "cell_type": "markdown",
   "id": "2f750ce2-15cc-4c47-b46a-757bca973ad5",
   "metadata": {},
   "source": [
    "# Rational numbers"
   ]
  },
  {
   "cell_type": "code",
   "execution_count": 124,
   "id": "7da3ca9b-a31e-4d11-bace-0f994f698cee",
   "metadata": {},
   "outputs": [
    {
     "data": {
      "image/png": "[encoded data removed]",
      "text/latex": [
       "$\\displaystyle 0.5$"
      ],
      "text/plain": [
       "0.5"
      ]
     },
     "execution_count": 124,
     "metadata": {},
     "output_type": "execute_result"
    }
   ],
   "source": [
    "1/2"
   ]
  },
  {
   "cell_type": "code",
   "execution_count": 125,
   "id": "53e2ce71-3c3a-4584-bae6-3661d9e3d507",
   "metadata": {},
   "outputs": [
    {
     "name": "stdout",
     "output_type": "stream",
     "text": [
      "1/2\n"
     ]
    }
   ],
   "source": [
    "r1 = smp.Rational(1,2)\n",
    "print(r1)"
   ]
  },
  {
   "cell_type": "code",
   "execution_count": 127,
   "id": "1796d143-33a6-422a-a498-64fb3298309d",
   "metadata": {},
   "outputs": [
    {
     "data": {
      "image/png": "[encoded data removed]",
      "text/latex": [
       "$\\displaystyle \\frac{2}{3}$"
      ],
      "text/plain": [
       "2/3"
      ]
     },
     "execution_count": 127,
     "metadata": {},
     "output_type": "execute_result"
    }
   ],
   "source": [
    "smp.Rational(2,3)"
   ]
  },
  {
   "cell_type": "code",
   "execution_count": 128,
   "id": "dbcab080-d41a-454a-9f04-0f9572485680",
   "metadata": {},
   "outputs": [
    {
     "data": {
      "image/png": "[encoded data removed]",
      "text/latex": [
       "$\\displaystyle - \\sin{\\left(x \\right)} \\sin{\\left(y \\right)} + \\cos{\\left(x \\right)} \\cos{\\left(y \\right)}$"
      ],
      "text/plain": [
       "-sin(x)⋅sin(y) + cos(x)⋅cos(y)"
      ]
     },
     "execution_count": 128,
     "metadata": {},
     "output_type": "execute_result"
    }
   ],
   "source": [
    "smp.expand(smp.cos(x+y),trig=True)"
   ]
  },
  {
   "cell_type": "code",
   "execution_count": 131,
   "id": "79e8565f-5ef3-43c4-9fc8-10d75f0b3f05",
   "metadata": {},
   "outputs": [
    {
     "data": {
      "image/png": "[encoded data removed]",
      "text/latex": [
       "$\\displaystyle \\frac{\\tan{\\left(x \\right)} - \\tan{\\left(y \\right)}}{\\tan{\\left(x \\right)} \\tan{\\left(y \\right)} + 1}$"
      ],
      "text/plain": [
       " tan(x) - tan(y) \n",
       "─────────────────\n",
       "tan(x)⋅tan(y) + 1"
      ]
     },
     "execution_count": 131,
     "metadata": {},
     "output_type": "execute_result"
    }
   ],
   "source": [
    "(smp.expand( smp.tan(x - y), trig=True )).factor()"
   ]
  },
  {
   "cell_type": "code",
   "execution_count": 134,
   "id": "77e1e29d-8dfb-4128-ae9c-04c6934ef63a",
   "metadata": {},
   "outputs": [],
   "source": [
    "fraction = 1 / (x+1)*(2*x+1)"
   ]
  },
  {
   "cell_type": "code",
   "execution_count": 135,
   "id": "cc989b72-a0fa-47bc-894a-703c447d6bd8",
   "metadata": {},
   "outputs": [
    {
     "data": {
      "image/png": "[encoded data removed]",
      "text/latex": [
       "$\\displaystyle 2 - \\frac{1}{x + 1}$"
      ],
      "text/plain": [
       "      1  \n",
       "2 - ─────\n",
       "    x + 1"
      ]
     },
     "execution_count": 135,
     "metadata": {},
     "output_type": "execute_result"
    }
   ],
   "source": [
    "smp.apart(fraction)"
   ]
  },
  {
   "cell_type": "code",
   "execution_count": 136,
   "id": "b4f6163d-9b89-404a-9486-ec079f0ecb0e",
   "metadata": {},
   "outputs": [],
   "source": [
    "fraction1 = ( 2*x + 1 )/( x**2 + 3*x - 10 )"
   ]
  },
  {
   "cell_type": "code",
   "execution_count": 137,
   "id": "35312198-426b-46c3-88ac-5c5b0bc97b5d",
   "metadata": {},
   "outputs": [
    {
     "data": {
      "image/png": "[encoded data removed]",
      "text/latex": [
       "$\\displaystyle \\frac{2 x + 1}{x^{2} + 3 x - 10}$"
      ],
      "text/plain": [
       "   2⋅x + 1   \n",
       "─────────────\n",
       " 2           \n",
       "x  + 3⋅x - 10"
      ]
     },
     "execution_count": 137,
     "metadata": {},
     "output_type": "execute_result"
    }
   ],
   "source": [
    "fraction1"
   ]
  },
  {
   "cell_type": "code",
   "execution_count": 138,
   "id": "5b72f507-227e-4efe-a9f4-bde240a5cd93",
   "metadata": {},
   "outputs": [
    {
     "data": {
      "image/png": "[encoded data removed]",
      "text/latex": [
       "$\\displaystyle \\frac{9}{7 \\left(x + 5\\right)} + \\frac{5}{7 \\left(x - 2\\right)}$"
      ],
      "text/plain": [
       "    9           5    \n",
       "───────── + ─────────\n",
       "7⋅(x + 5)   7⋅(x - 2)"
      ]
     },
     "execution_count": 138,
     "metadata": {},
     "output_type": "execute_result"
    }
   ],
   "source": [
    "smp.apart(fraction1)"
   ]
  },
  {
   "cell_type": "markdown",
   "id": "dc219525-3750-47e7-b788-438425b2a840",
   "metadata": {},
   "source": [
    "# Calculus with Sympy"
   ]
  },
  {
   "cell_type": "code",
   "execution_count": 139,
   "id": "06af9041-5b46-4d44-8518-377f00bfcfc5",
   "metadata": {},
   "outputs": [],
   "source": [
    "f_x1 = smp.sin(x)\n",
    "f_x2 = (x-2)**2"
   ]
  },
  {
   "cell_type": "code",
   "execution_count": 140,
   "id": "a5b1fc50-db73-46d2-a465-b9589ea94241",
   "metadata": {},
   "outputs": [
    {
     "data": {
      "image/png": "[encoded data removed]",
      "text/latex": [
       "$\\displaystyle \\cos{\\left(x \\right)}$"
      ],
      "text/plain": [
       "cos(x)"
      ]
     },
     "execution_count": 140,
     "metadata": {},
     "output_type": "execute_result"
    }
   ],
   "source": [
    "smp.diff(f_x1,x)"
   ]
  },
  {
   "cell_type": "code",
   "execution_count": 141,
   "id": "e45dca53-b684-47eb-991d-127797d40024",
   "metadata": {},
   "outputs": [
    {
     "data": {
      "image/png": "[encoded data removed]",
      "text/latex": [
       "$\\displaystyle 4 \\left(x - 2\\right)^{3}$"
      ],
      "text/plain": [
       "         3\n",
       "4⋅(x - 2) "
      ]
     },
     "execution_count": 141,
     "metadata": {},
     "output_type": "execute_result"
    }
   ],
   "source": [
    "smp.diff(f_x2**2,x)"
   ]
  },
  {
   "cell_type": "code",
   "execution_count": 142,
   "id": "dffc50c9-8a9c-43d7-8479-6104f0971091",
   "metadata": {},
   "outputs": [],
   "source": [
    "x, y, z = smp.symbols('x y z')\n"
   ]
  },
  {
   "cell_type": "code",
   "execution_count": 143,
   "id": "25d4f59f-e16d-4858-8b0c-6e6e45299b9d",
   "metadata": {},
   "outputs": [
    {
     "data": {
      "image/png": "[encoded data removed]",
      "text/latex": [
       "$\\displaystyle 2 x$"
      ],
      "text/plain": [
       "2⋅x"
      ]
     },
     "execution_count": 143,
     "metadata": {},
     "output_type": "execute_result"
    }
   ],
   "source": [
    "smp.diff( x**2+y**3+z, x,1)"
   ]
  },
  {
   "cell_type": "code",
   "execution_count": 144,
   "id": "bbb2574a-a1a2-403b-8759-b553bf8b86dc",
   "metadata": {},
   "outputs": [
    {
     "data": {
      "image/png": "[encoded data removed]",
      "text/latex": [
       "$\\displaystyle 3 y^{2}$"
      ],
      "text/plain": [
       "   2\n",
       "3⋅y "
      ]
     },
     "execution_count": 144,
     "metadata": {},
     "output_type": "execute_result"
    }
   ],
   "source": [
    "smp.diff(x**2+y**3+z,y,1)"
   ]
  },
  {
   "cell_type": "code",
   "execution_count": 145,
   "id": "8275bb90-4c81-4dcf-8872-1a19606ab173",
   "metadata": {},
   "outputs": [
    {
     "data": {
      "image/png": "[encoded data removed]",
      "text/latex": [
       "$\\displaystyle 1$"
      ],
      "text/plain": [
       "1"
      ]
     },
     "execution_count": 145,
     "metadata": {},
     "output_type": "execute_result"
    }
   ],
   "source": [
    "smp.diff(x**2+y**3+z,z,1)"
   ]
  },
  {
   "cell_type": "code",
   "execution_count": 146,
   "id": "375eb4be-8801-4d5b-a222-b63d2b2fc08d",
   "metadata": {},
   "outputs": [
    {
     "data": {
      "image/png": "[encoded data removed]",
      "text/latex": [
       "$\\displaystyle 6$"
      ],
      "text/plain": [
       "6"
      ]
     },
     "execution_count": 146,
     "metadata": {},
     "output_type": "execute_result"
    }
   ],
   "source": [
    "smp.diff(x**2+y**3+z,y,3)"
   ]
  },
  {
   "cell_type": "code",
   "execution_count": 149,
   "id": "848d6b27-8651-4e1b-baff-32ce91186d35",
   "metadata": {},
   "outputs": [
    {
     "data": {
      "image/png": "[encoded data removed]",
      "text/latex": [
       "$\\displaystyle 2 x$"
      ],
      "text/plain": [
       "2⋅x"
      ]
     },
     "execution_count": 149,
     "metadata": {},
     "output_type": "execute_result"
    }
   ],
   "source": [
    "smp.diff(y*x**2+y**3+z,x,1,y,1)"
   ]
  },
  {
   "cell_type": "markdown",
   "id": "b38bd1ec-841c-4ee1-b76a-badea7e07156",
   "metadata": {},
   "source": [
    "## $\\frac{d}{dx}\\left( \\frac{1 + \\cos{x}}{1 - \\cos{x}} \\right)$"
   ]
  },
  {
   "cell_type": "code",
   "execution_count": 150,
   "id": "4ab3d323-0170-4b87-9f83-b70b23573f7a",
   "metadata": {},
   "outputs": [
    {
     "data": {
      "image/png": "[encoded data removed]",
      "text/latex": [
       "$\\displaystyle - \\frac{\\sin{\\left(x \\right)}}{1 - \\cos{\\left(x \\right)}} - \\frac{\\left(\\cos{\\left(x \\right)} + 1\\right) \\sin{\\left(x \\right)}}{\\left(1 - \\cos{\\left(x \\right)}\\right)^{2}}$"
      ],
      "text/plain": [
       "    sin(x)     (cos(x) + 1)⋅sin(x)\n",
       "- ────────── - ───────────────────\n",
       "  1 - cos(x)                  2   \n",
       "                  (1 - cos(x))    "
      ]
     },
     "execution_count": 150,
     "metadata": {},
     "output_type": "execute_result"
    }
   ],
   "source": [
    "smp.diff( (1+smp.cos(x))/(1-smp.cos(x)),x )"
   ]
  },
  {
   "cell_type": "code",
   "execution_count": 151,
   "id": "b9dfe9db-462f-4c97-91d1-1931cde03a2a",
   "metadata": {},
   "outputs": [
    {
     "data": {
      "image/png": "[encoded data removed]",
      "text/latex": [
       "$\\displaystyle - \\frac{2 \\sin{\\left(x \\right)}}{\\left(\\cos{\\left(x \\right)} - 1\\right)^{2}}$"
      ],
      "text/plain": [
       " -2⋅sin(x)   \n",
       "─────────────\n",
       "            2\n",
       "(cos(x) - 1) "
      ]
     },
     "execution_count": 151,
     "metadata": {},
     "output_type": "execute_result"
    }
   ],
   "source": [
    "(smp.diff( (1+smp.cos(x))/(1-smp.cos(x)),x )).factor()"
   ]
  },
  {
   "cell_type": "code",
   "execution_count": 152,
   "id": "ea3842b2-1833-445f-97b5-f6b3ee3ed328",
   "metadata": {},
   "outputs": [
    {
     "data": {
      "image/png": "[encoded data removed]",
      "text/latex": [
       "$\\displaystyle \\frac{\\cos{\\left(x \\right)} - \\frac{\\left(\\cos{\\left(x \\right)} + 1\\right) \\left(\\cos{\\left(x \\right)} + \\frac{2 \\sin^{2}{\\left(x \\right)}}{\\cos{\\left(x \\right)} - 1}\\right)}{\\cos{\\left(x \\right)} - 1} + \\frac{2 \\sin^{2}{\\left(x \\right)}}{\\cos{\\left(x \\right)} - 1}}{\\cos{\\left(x \\right)} - 1}$"
      ],
      "text/plain": [
       "                      ⎛              2    ⎞             \n",
       "                      ⎜         2⋅sin (x) ⎟             \n",
       "         (cos(x) + 1)⋅⎜cos(x) + ──────────⎟        2    \n",
       "                      ⎝         cos(x) - 1⎠   2⋅sin (x) \n",
       "cos(x) - ────────────────────────────────── + ──────────\n",
       "                     cos(x) - 1               cos(x) - 1\n",
       "────────────────────────────────────────────────────────\n",
       "                       cos(x) - 1                       "
      ]
     },
     "execution_count": 152,
     "metadata": {},
     "output_type": "execute_result"
    }
   ],
   "source": [
    "smp.diff( (1+smp.cos(x))/(1-smp.cos(x)),x,2 )"
   ]
  },
  {
   "cell_type": "code",
   "execution_count": 154,
   "id": "fb0bfe27-ec9e-46ef-96da-d5f4b5af7bdd",
   "metadata": {},
   "outputs": [
    {
     "data": {
      "image/png": "[encoded data removed]",
      "text/latex": [
       "$\\displaystyle \\frac{\\cos{\\left(x \\right)} - \\frac{\\left(\\cos{\\left(x \\right)} + 1\\right) \\left(\\cos{\\left(x \\right)} + \\frac{512 \\sin^{2}{\\left(x \\right)}}{\\cos{\\left(x \\right)} - 1} - \\frac{510 \\cos^{2}{\\left(x \\right)}}{\\cos{\\left(x \\right)} - 1} - \\frac{42750 \\sin^{2}{\\left(x \\right)} \\cos{\\left(x \\right)}}{\\left(\\cos{\\left(x \\right)} - 1\\right)^{2}} + \\frac{13230 \\cos^{3}{\\left(x \\right)}}{\\left(\\cos{\\left(x \\right)} - 1\\right)^{2}} - \\frac{130560 \\sin^{4}{\\left(x \\right)}}{\\left(\\cos{\\left(x \\right)} - 1\\right)^{3}} + \\frac{612360 \\sin^{2}{\\left(x \\right)} \\cos^{2}{\\left(x \\right)}}{\\left(\\cos{\\left(x \\right)} - 1\\right)^{3}} - \\frac{75600 \\cos^{4}{\\left(x \\right)}}{\\left(\\cos{\\left(x \\right)} - 1\\right)^{3}} + \\frac{2343600 \\sin^{4}{\\left(x \\right)} \\cos{\\left(x \\right)}}{\\left(\\cos{\\left(x \\right)} - 1\\right)^{4}} - \\frac{2646000 \\sin^{2}{\\left(x \\right)} \\cos^{3}{\\left(x \\right)}}{\\left(\\cos{\\left(x \\right)} - 1\\right)^{4}} + \\frac{113400 \\cos^{5}{\\left(x \\right)}}{\\left(\\cos{\\left(x \\right)} - 1\\right)^{4}} + \\frac{1693440 \\sin^{6}{\\left(x \\right)}}{\\left(\\cos{\\left(x \\right)} - 1\\right)^{5}} - \\frac{11340000 \\sin^{4}{\\left(x \\right)} \\cos^{2}{\\left(x \\right)}}{\\left(\\cos{\\left(x \\right)} - 1\\right)^{5}} + \\frac{3402000 \\sin^{2}{\\left(x \\right)} \\cos^{4}{\\left(x \\right)}}{\\left(\\cos{\\left(x \\right)} - 1\\right)^{5}} - \\frac{13759200 \\sin^{6}{\\left(x \\right)} \\cos{\\left(x \\right)}}{\\left(\\cos{\\left(x \\right)} - 1\\right)^{6}} + \\frac{15876000 \\sin^{4}{\\left(x \\right)} \\cos^{3}{\\left(x \\right)}}{\\left(\\cos{\\left(x \\right)} - 1\\right)^{6}} - \\frac{4838400 \\sin^{8}{\\left(x \\right)}}{\\left(\\cos{\\left(x \\right)} - 1\\right)^{7}} + \\frac{25401600 \\sin^{6}{\\left(x \\right)} \\cos^{2}{\\left(x \\right)}}{\\left(\\cos{\\left(x \\right)} - 1\\right)^{7}} + \\frac{16329600 \\sin^{8}{\\left(x \\right)} \\cos{\\left(x \\right)}}{\\left(\\cos{\\left(x \\right)} - 1\\right)^{8}} + \\frac{3628800 \\sin^{10}{\\left(x \\right)}}{\\left(\\cos{\\left(x \\right)} - 1\\right)^{9}}\\right)}{\\cos{\\left(x \\right)} - 1} - \\frac{45 \\left(\\cos{\\left(x \\right)} + \\frac{2 \\sin^{2}{\\left(x \\right)}}{\\cos{\\left(x \\right)} - 1}\\right) \\cos{\\left(x \\right)}}{\\cos{\\left(x \\right)} - 1} - \\frac{120 \\left(-1 + \\frac{6 \\cos{\\left(x \\right)}}{\\cos{\\left(x \\right)} - 1} + \\frac{6 \\sin^{2}{\\left(x \\right)}}{\\left(\\cos{\\left(x \\right)} - 1\\right)^{2}}\\right) \\sin^{2}{\\left(x \\right)}}{\\cos{\\left(x \\right)} - 1} + \\frac{210 \\left(- \\cos{\\left(x \\right)} - \\frac{8 \\sin^{2}{\\left(x \\right)}}{\\cos{\\left(x \\right)} - 1} + \\frac{6 \\cos^{2}{\\left(x \\right)}}{\\cos{\\left(x \\right)} - 1} + \\frac{36 \\sin^{2}{\\left(x \\right)} \\cos{\\left(x \\right)}}{\\left(\\cos{\\left(x \\right)} - 1\\right)^{2}} + \\frac{24 \\sin^{4}{\\left(x \\right)}}{\\left(\\cos{\\left(x \\right)} - 1\\right)^{3}}\\right) \\cos{\\left(x \\right)}}{\\cos{\\left(x \\right)} - 1} + \\frac{252 \\left(1 - \\frac{30 \\cos{\\left(x \\right)}}{\\cos{\\left(x \\right)} - 1} - \\frac{60 \\sin^{2}{\\left(x \\right)}}{\\left(\\cos{\\left(x \\right)} - 1\\right)^{2}} + \\frac{90 \\cos^{2}{\\left(x \\right)}}{\\left(\\cos{\\left(x \\right)} - 1\\right)^{2}} + \\frac{240 \\sin^{2}{\\left(x \\right)} \\cos{\\left(x \\right)}}{\\left(\\cos{\\left(x \\right)} - 1\\right)^{3}} + \\frac{120 \\sin^{4}{\\left(x \\right)}}{\\left(\\cos{\\left(x \\right)} - 1\\right)^{4}}\\right) \\sin^{2}{\\left(x \\right)}}{\\cos{\\left(x \\right)} - 1} - \\frac{210 \\left(\\cos{\\left(x \\right)} + \\frac{32 \\sin^{2}{\\left(x \\right)}}{\\cos{\\left(x \\right)} - 1} - \\frac{30 \\cos^{2}{\\left(x \\right)}}{\\cos{\\left(x \\right)} - 1} - \\frac{450 \\sin^{2}{\\left(x \\right)} \\cos{\\left(x \\right)}}{\\left(\\cos{\\left(x \\right)} - 1\\right)^{2}} + \\frac{90 \\cos^{3}{\\left(x \\right)}}{\\left(\\cos{\\left(x \\right)} - 1\\right)^{2}} - \\frac{480 \\sin^{4}{\\left(x \\right)}}{\\left(\\cos{\\left(x \\right)} - 1\\right)^{3}} + \\frac{1080 \\sin^{2}{\\left(x \\right)} \\cos^{2}{\\left(x \\right)}}{\\left(\\cos{\\left(x \\right)} - 1\\right)^{3}} + \\frac{1800 \\sin^{4}{\\left(x \\right)} \\cos{\\left(x \\right)}}{\\left(\\cos{\\left(x \\right)} - 1\\right)^{4}} + \\frac{720 \\sin^{6}{\\left(x \\right)}}{\\left(\\cos{\\left(x \\right)} - 1\\right)^{5}}\\right) \\cos{\\left(x \\right)}}{\\cos{\\left(x \\right)} - 1} - \\frac{120 \\left(-1 + \\frac{126 \\cos{\\left(x \\right)}}{\\cos{\\left(x \\right)} - 1} + \\frac{546 \\sin^{2}{\\left(x \\right)}}{\\left(\\cos{\\left(x \\right)} - 1\\right)^{2}} - \\frac{1260 \\cos^{2}{\\left(x \\right)}}{\\left(\\cos{\\left(x \\right)} - 1\\right)^{2}} - \\frac{5880 \\sin^{2}{\\left(x \\right)} \\cos{\\left(x \\right)}}{\\left(\\cos{\\left(x \\right)} - 1\\right)^{3}} + \\frac{2520 \\cos^{3}{\\left(x \\right)}}{\\left(\\cos{\\left(x \\right)} - 1\\right)^{3}} - \\frac{4200 \\sin^{4}{\\left(x \\right)}}{\\left(\\cos{\\left(x \\right)} - 1\\right)^{4}} + \\frac{12600 \\sin^{2}{\\left(x \\right)} \\cos^{2}{\\left(x \\right)}}{\\left(\\cos{\\left(x \\right)} - 1\\right)^{4}} + \\frac{15120 \\sin^{4}{\\left(x \\right)} \\cos{\\left(x \\right)}}{\\left(\\cos{\\left(x \\right)} - 1\\right)^{5}} + \\frac{5040 \\sin^{6}{\\left(x \\right)}}{\\left(\\cos{\\left(x \\right)} - 1\\right)^{6}}\\right) \\sin^{2}{\\left(x \\right)}}{\\cos{\\left(x \\right)} - 1} + \\frac{45 \\left(- \\cos{\\left(x \\right)} - \\frac{128 \\sin^{2}{\\left(x \\right)}}{\\cos{\\left(x \\right)} - 1} + \\frac{126 \\cos^{2}{\\left(x \\right)}}{\\cos{\\left(x \\right)} - 1} + \\frac{4536 \\sin^{2}{\\left(x \\right)} \\cos{\\left(x \\right)}}{\\left(\\cos{\\left(x \\right)} - 1\\right)^{2}} - \\frac{1260 \\cos^{3}{\\left(x \\right)}}{\\left(\\cos{\\left(x \\right)} - 1\\right)^{2}} + \\frac{8064 \\sin^{4}{\\left(x \\right)}}{\\left(\\cos{\\left(x \\right)} - 1\\right)^{3}} - \\frac{30240 \\sin^{2}{\\left(x \\right)} \\cos^{2}{\\left(x \\right)}}{\\left(\\cos{\\left(x \\right)} - 1\\right)^{3}} + \\frac{2520 \\cos^{4}{\\left(x \\right)}}{\\left(\\cos{\\left(x \\right)} - 1\\right)^{3}} - \\frac{75600 \\sin^{4}{\\left(x \\right)} \\cos{\\left(x \\right)}}{\\left(\\cos{\\left(x \\right)} - 1\\right)^{4}} + \\frac{50400 \\sin^{2}{\\left(x \\right)} \\cos^{3}{\\left(x \\right)}}{\\left(\\cos{\\left(x \\right)} - 1\\right)^{4}} - \\frac{40320 \\sin^{6}{\\left(x \\right)}}{\\left(\\cos{\\left(x \\right)} - 1\\right)^{5}} + \\frac{151200 \\sin^{4}{\\left(x \\right)} \\cos^{2}{\\left(x \\right)}}{\\left(\\cos{\\left(x \\right)} - 1\\right)^{5}} + \\frac{141120 \\sin^{6}{\\left(x \\right)} \\cos{\\left(x \\right)}}{\\left(\\cos{\\left(x \\right)} - 1\\right)^{6}} + \\frac{40320 \\sin^{8}{\\left(x \\right)}}{\\left(\\cos{\\left(x \\right)} - 1\\right)^{7}}\\right) \\cos{\\left(x \\right)}}{\\cos{\\left(x \\right)} - 1} + \\frac{10 \\left(1 - \\frac{510 \\cos{\\left(x \\right)}}{\\cos{\\left(x \\right)} - 1} - \\frac{4920 \\sin^{2}{\\left(x \\right)}}{\\left(\\cos{\\left(x \\right)} - 1\\right)^{2}} + \\frac{13230 \\cos^{2}{\\left(x \\right)}}{\\left(\\cos{\\left(x \\right)} - 1\\right)^{2}} + \\frac{110880 \\sin^{2}{\\left(x \\right)} \\cos{\\left(x \\right)}}{\\left(\\cos{\\left(x \\right)} - 1\\right)^{3}} - \\frac{75600 \\cos^{3}{\\left(x \\right)}}{\\left(\\cos{\\left(x \\right)} - 1\\right)^{3}} + \\frac{115920 \\sin^{4}{\\left(x \\right)}}{\\left(\\cos{\\left(x \\right)} - 1\\right)^{4}} - \\frac{604800 \\sin^{2}{\\left(x \\right)} \\cos^{2}{\\left(x \\right)}}{\\left(\\cos{\\left(x \\right)} - 1\\right)^{4}} + \\frac{113400 \\cos^{4}{\\left(x \\right)}}{\\left(\\cos{\\left(x \\right)} - 1\\right)^{4}} - \\frac{997920 \\sin^{4}{\\left(x \\right)} \\cos{\\left(x \\right)}}{\\left(\\cos{\\left(x \\right)} - 1\\right)^{5}} + \\frac{907200 \\sin^{2}{\\left(x \\right)} \\cos^{3}{\\left(x \\right)}}{\\left(\\cos{\\left(x \\right)} - 1\\right)^{5}} - \\frac{423360 \\sin^{6}{\\left(x \\right)}}{\\left(\\cos{\\left(x \\right)} - 1\\right)^{6}} + \\frac{1905120 \\sin^{4}{\\left(x \\right)} \\cos^{2}{\\left(x \\right)}}{\\left(\\cos{\\left(x \\right)} - 1\\right)^{6}} + \\frac{1451520 \\sin^{6}{\\left(x \\right)} \\cos{\\left(x \\right)}}{\\left(\\cos{\\left(x \\right)} - 1\\right)^{7}} + \\frac{362880 \\sin^{8}{\\left(x \\right)}}{\\left(\\cos{\\left(x \\right)} - 1\\right)^{8}}\\right) \\sin^{2}{\\left(x \\right)}}{\\cos{\\left(x \\right)} - 1} + \\frac{10 \\sin^{2}{\\left(x \\right)}}{\\cos{\\left(x \\right)} - 1}}{\\cos{\\left(x \\right)} - 1}$"
      ],
      "text/plain": [
       "                      ⎛                2             2               2         ↪\n",
       "                      ⎜         512⋅sin (x)   510⋅cos (x)   42750⋅sin (x)⋅cos( ↪\n",
       "         (cos(x) + 1)⋅⎜cos(x) + ─────────── - ─────────── - ────────────────── ↪\n",
       "                      ⎜         cos(x) - 1    cos(x) - 1                   2   ↪\n",
       "                      ⎝                                        (cos(x) - 1)    ↪\n",
       "cos(x) - ───────────────────────────────────────────────────────────────────── ↪\n",
       "                                                                               ↪\n",
       "────────────────────────────────────────────────────────────────────────────── ↪\n",
       "                                                                               ↪\n",
       "\n",
       "↪               3                4                2       2               4    ↪\n",
       "↪ x)   13230⋅cos (x)   130560⋅sin (x)   612360⋅sin (x)⋅cos (x)   75600⋅cos (x) ↪\n",
       "↪ ── + ───────────── - ────────────── + ────────────────────── - ───────────── ↪\n",
       "↪                  2               3                    3                    3 ↪\n",
       "↪      (cos(x) - 1)    (cos(x) - 1)         (cos(x) - 1)         (cos(x) - 1)  ↪\n",
       "↪ ──────────────────────────────────────────────────────────────────────────── ↪\n",
       "↪                                                                              ↪\n",
       "↪ ──────────────────────────────────────────────────────────────────────────── ↪\n",
       "↪                                                                              ↪\n",
       "\n",
       "↪               4                        2       3                5            ↪\n",
       "↪    2343600⋅sin (x)⋅cos(x)   2646000⋅sin (x)⋅cos (x)   113400⋅cos (x)   16934 ↪\n",
       "↪  + ────────────────────── - ─────────────────────── + ────────────── + ───── ↪\n",
       "↪                    4                         4                    4          ↪\n",
       "↪        (cos(x) - 1)              (cos(x) - 1)         (cos(x) - 1)      (cos ↪\n",
       "↪ ──────────────────────────────────────────────────────────────────────────── ↪\n",
       "↪                                                                 cos(x) - 1   ↪\n",
       "↪ ──────────────────────────────────────────────────────────────────────────── ↪\n",
       "↪                                                                              ↪\n",
       "\n",
       "↪       6                  4       2                 2       4                 ↪\n",
       "↪ 40⋅sin (x)   11340000⋅sin (x)⋅cos (x)   3402000⋅sin (x)⋅cos (x)   13759200⋅s ↪\n",
       "↪ ────────── - ──────────────────────── + ─────────────────────── - ────────── ↪\n",
       "↪         5                     5                          5                   ↪\n",
       "↪ (x) - 1)          (cos(x) - 1)               (cos(x) - 1)              (cos( ↪\n",
       "↪ ──────────────────────────────────────────────────────────────────────────── ↪\n",
       "↪                                                                              ↪\n",
       "↪ ──────────────────────────────────────────────────────────────────────────── ↪\n",
       "↪                                                                              ↪\n",
       "\n",
       "↪   6                         4       3                 8                  6   ↪\n",
       "↪ in (x)⋅cos(x)   15876000⋅sin (x)⋅cos (x)   4838400⋅sin (x)   25401600⋅sin (x ↪\n",
       "↪ ───────────── + ──────────────────────── - ─────────────── + ─────────────── ↪\n",
       "↪        6                         6                      7                    ↪\n",
       "↪ x) - 1)              (cos(x) - 1)           (cos(x) - 1)          (cos(x) -  ↪\n",
       "↪ ──────────────────────────────────────────────────────────────────────────── ↪\n",
       "↪                                                                              ↪\n",
       "↪ ──────────────────────────────────────────────────────────────────────────── ↪\n",
       "↪                                                                              ↪\n",
       "\n",
       "↪      2                  8                        10   ⎞                      ↪\n",
       "↪ )⋅cos (x)   16329600⋅sin (x)⋅cos(x)   3628800⋅sin  (x)⎟      ⎛               ↪\n",
       "↪ ───────── + ─────────────────────── + ────────────────⎟      ⎜         2⋅sin ↪\n",
       "↪   7                          8                     9  ⎟   45⋅⎜cos(x) + ───── ↪\n",
       "↪ 1)               (cos(x) - 1)          (cos(x) - 1)   ⎠      ⎝         cos(x ↪\n",
       "↪ ─────────────────────────────────────────────────────── - ────────────────── ↪\n",
       "↪                                                                     cos(x) - ↪\n",
       "↪ ──────────────────────────────────────────────────────────────────────────── ↪\n",
       "↪                                                                              ↪\n",
       "\n",
       "↪                     ⎛                         2     ⎞               ⎛        ↪\n",
       "↪ 2    ⎞              ⎜      6⋅cos(x)      6⋅sin (x)  ⎟    2          ⎜        ↪\n",
       "↪  (x) ⎟          120⋅⎜-1 + ────────── + ─────────────⎟⋅sin (x)   210⋅⎜-cos(x) ↪\n",
       "↪ ─────⎟⋅cos(x)       ⎜     cos(x) - 1               2⎟               ⎜        ↪\n",
       "↪ ) - 1⎠              ⎝                  (cos(x) - 1) ⎠               ⎝        ↪\n",
       "↪ ───────────── - ───────────────────────────────────────────── + ──────────── ↪\n",
       "↪  1                               cos(x) - 1                                  ↪\n",
       "↪ ──────────────────────────────────────────────────────────────────────────── ↪\n",
       "↪                                                                              ↪\n",
       "\n",
       "↪         2            2             2                    4     ⎞              ↪\n",
       "↪    8⋅sin (x)    6⋅cos (x)    36⋅sin (x)⋅cos(x)    24⋅sin (x)  ⎟              ↪\n",
       "↪  - ────────── + ────────── + ───────────────── + ─────────────⎟⋅cos(x)   252 ↪\n",
       "↪    cos(x) - 1   cos(x) - 1                 2                 3⎟              ↪\n",
       "↪                                (cos(x) - 1)      (cos(x) - 1) ⎠              ↪\n",
       "↪ ────────────────────────────────────────────────────────────────────── + ─── ↪\n",
       "↪                         cos(x) - 1                                           ↪\n",
       "↪ ──────────────────────────────────────────────────────────────────────────── ↪\n",
       "↪                                                                              ↪\n",
       "\n",
       "↪  ⎛                        2               2               2                  ↪\n",
       "↪  ⎜    30⋅cos(x)     60⋅sin (x)      90⋅cos (x)     240⋅sin (x)⋅cos(x)    120 ↪\n",
       "↪ ⋅⎜1 - ────────── - ───────────── + ───────────── + ────────────────── + ──── ↪\n",
       "↪  ⎜    cos(x) - 1               2               2                 3           ↪\n",
       "↪  ⎝                 (cos(x) - 1)    (cos(x) - 1)      (cos(x) - 1)       (cos ↪\n",
       "↪ ──────────────────────────────────────────────────────────────────────────── ↪\n",
       "↪                                         cos(x) - 1                           ↪\n",
       "↪ ──────────────────────────────────────────────────────────────────────────── ↪\n",
       "↪                                                                              ↪\n",
       "\n",
       "↪     4    ⎞               ⎛               2            2             2        ↪\n",
       "↪ ⋅sin (x) ⎟    2          ⎜         32⋅sin (x)   30⋅cos (x)   450⋅sin (x)⋅cos ↪\n",
       "↪ ─────────⎟⋅sin (x)   210⋅⎜cos(x) + ────────── - ────────── - ─────────────── ↪\n",
       "↪         4⎟               ⎜         cos(x) - 1   cos(x) - 1                 2 ↪\n",
       "↪ (x) - 1) ⎠               ⎝                                     (cos(x) - 1)  ↪\n",
       "↪ ────────────────── - ─────────────────────────────────────────────────────── ↪\n",
       "↪                                                                              ↪\n",
       "↪ ──────────────────────────────────────────────────────────────────────────── ↪\n",
       "↪                                                                              ↪\n",
       "\n",
       "↪              3                4               2       2              4       ↪\n",
       "↪ (x)    90⋅cos (x)      480⋅sin (x)    1080⋅sin (x)⋅cos (x)   1800⋅sin (x)⋅co ↪\n",
       "↪ ─── + ───────────── - ───────────── + ──────────────────── + ─────────────── ↪\n",
       "↪                   2               3                  3                       ↪\n",
       "↪       (cos(x) - 1)    (cos(x) - 1)       (cos(x) - 1)           (cos(x) - 1) ↪\n",
       "↪ ──────────────────────────────────────────────────────────────────────────── ↪\n",
       "↪                    cos(x) - 1                                                ↪\n",
       "↪ ──────────────────────────────────────────────────────────────────────────── ↪\n",
       "↪                                               cos(x) - 1                     ↪\n",
       "\n",
       "↪                6    ⎞              ⎛                          2              ↪\n",
       "↪ s(x)    720⋅sin (x) ⎟              ⎜     126⋅cos(x)    546⋅sin (x)    1260⋅c ↪\n",
       "↪ ──── + ─────────────⎟⋅cos(x)   120⋅⎜-1 + ────────── + ───────────── - ────── ↪\n",
       "↪ 4                  5⎟              ⎜     cos(x) - 1               2          ↪\n",
       "↪        (cos(x) - 1) ⎠              ⎝                  (cos(x) - 1)    (cos(x ↪\n",
       "↪ ──────────────────────────── - ───────────────────────────────────────────── ↪\n",
       "↪                                                                              ↪\n",
       "↪ ──────────────────────────────────────────────────────────────────────────── ↪\n",
       "↪                                                                              ↪\n",
       "\n",
       "↪   2               2                     3               4                2   ↪\n",
       "↪ os (x)    5880⋅sin (x)⋅cos(x)   2520⋅cos (x)    4200⋅sin (x)    12600⋅sin (x ↪\n",
       "↪ ─────── - ─────────────────── + ───────────── - ───────────── + ──────────── ↪\n",
       "↪       2                  3                  3               4                ↪\n",
       "↪ ) - 1)       (cos(x) - 1)       (cos(x) - 1)    (cos(x) - 1)        (cos(x)  ↪\n",
       "↪ ──────────────────────────────────────────────────────────────────────────── ↪\n",
       "↪                                        cos(x) - 1                            ↪\n",
       "↪ ──────────────────────────────────────────────────────────────────────────── ↪\n",
       "↪                                                                              ↪\n",
       "\n",
       "↪      2               4                     6    ⎞              ⎛             ↪\n",
       "↪ )⋅cos (x)   15120⋅sin (x)⋅cos(x)   5040⋅sin (x) ⎟    2         ⎜          12 ↪\n",
       "↪ ───────── + ──────────────────── + ─────────────⎟⋅sin (x)   45⋅⎜-cos(x) - ── ↪\n",
       "↪     4                      5                   6⎟              ⎜          co ↪\n",
       "↪ - 1)           (cos(x) - 1)        (cos(x) - 1) ⎠              ⎝             ↪\n",
       "↪ ───────────────────────────────────────────────────────── + ──────────────── ↪\n",
       "↪                                                                              ↪\n",
       "↪ ──────────────────────────────────────────────────────────────────────────── ↪\n",
       "↪                                                                              ↪\n",
       "\n",
       "↪      2             2              2                     3               4    ↪\n",
       "↪ 8⋅sin (x)   126⋅cos (x)   4536⋅sin (x)⋅cos(x)   1260⋅cos (x)    8064⋅sin (x) ↪\n",
       "↪ ───────── + ─────────── + ─────────────────── - ───────────── + ──────────── ↪\n",
       "↪ s(x) - 1    cos(x) - 1                   2                  2                ↪\n",
       "↪                              (cos(x) - 1)       (cos(x) - 1)    (cos(x) - 1) ↪\n",
       "↪ ──────────────────────────────────────────────────────────────────────────── ↪\n",
       "↪                                                                              ↪\n",
       "↪ ──────────────────────────────────────────────────────────────────────────── ↪\n",
       "↪                                                                              ↪\n",
       "\n",
       "↪              2       2              4                4                       ↪\n",
       "↪     30240⋅sin (x)⋅cos (x)   2520⋅cos (x)    75600⋅sin (x)⋅cos(x)   50400⋅sin ↪\n",
       "↪ ─ - ───────────────────── + ───────────── - ──────────────────── + ───────── ↪\n",
       "↪ 3                   3                   3                  4                 ↪\n",
       "↪         (cos(x) - 1)        (cos(x) - 1)       (cos(x) - 1)            (cos( ↪\n",
       "↪ ──────────────────────────────────────────────────────────────────────────── ↪\n",
       "↪                                      cos(x) - 1                              ↪\n",
       "↪ ──────────────────────────────────────────────────────────────────────────── ↪\n",
       "↪                                                                              ↪\n",
       "\n",
       "↪ 2       3               6                4       2                6          ↪\n",
       "↪  (x)⋅cos (x)   40320⋅sin (x)   151200⋅sin (x)⋅cos (x)   141120⋅sin (x)⋅cos(x ↪\n",
       "↪ ──────────── - ───────────── + ────────────────────── + ──────────────────── ↪\n",
       "↪        4                   5                   5                        6    ↪\n",
       "↪ x) - 1)        (cos(x) - 1)        (cos(x) - 1)             (cos(x) - 1)     ↪\n",
       "↪ ──────────────────────────────────────────────────────────────────────────── ↪\n",
       "↪                                                                              ↪\n",
       "↪ ──────────────────────────────────────────────────────────────────────────── ↪\n",
       "↪                                                                              ↪\n",
       "\n",
       "↪              8   ⎞             ⎛                         2                2  ↪\n",
       "↪ )   40320⋅sin (x)⎟             ⎜    510⋅cos(x)   4920⋅sin (x)    13230⋅cos ( ↪\n",
       "↪ ─ + ─────────────⎟⋅cos(x)   10⋅⎜1 - ────────── - ───────────── + ─────────── ↪\n",
       "↪                 7⎟             ⎜    cos(x) - 1               2               ↪\n",
       "↪     (cos(x) - 1) ⎠             ⎝                 (cos(x) - 1)    (cos(x) - 1 ↪\n",
       "↪ ───────────────────────── + ──────────────────────────────────────────────── ↪\n",
       "↪                                                                              ↪\n",
       "↪ ──────────────────────────────────────────────────────────────────────────── ↪\n",
       "↪                                                                              ↪\n",
       "\n",
       "↪                2                      3                4                2    ↪\n",
       "↪ x)   110880⋅sin (x)⋅cos(x)   75600⋅cos (x)   115920⋅sin (x)   604800⋅sin (x) ↪\n",
       "↪ ── + ───────────────────── - ───────────── + ────────────── - ────────────── ↪\n",
       "↪  2                   3                   3               4                   ↪\n",
       "↪ )        (cos(x) - 1)        (cos(x) - 1)    (cos(x) - 1)         (cos(x) -  ↪\n",
       "↪ ──────────────────────────────────────────────────────────────────────────── ↪\n",
       "↪                                                                              ↪\n",
       "↪ ──────────────────────────────────────────────────────────────────────────── ↪\n",
       "↪                                                                              ↪\n",
       "\n",
       "↪     2                4                4                       2       3      ↪\n",
       "↪ ⋅cos (x)   113400⋅cos (x)   997920⋅sin (x)⋅cos(x)   907200⋅sin (x)⋅cos (x)   ↪\n",
       "↪ ──────── + ────────────── - ───────────────────── + ────────────────────── - ↪\n",
       "↪   4                    4                    5                       5        ↪\n",
       "↪ 1)         (cos(x) - 1)         (cos(x) - 1)            (cos(x) - 1)         ↪\n",
       "↪ ──────────────────────────────────────────────────────────────────────────── ↪\n",
       "↪                  cos(x) - 1                                                  ↪\n",
       "↪ ──────────────────────────────────────────────────────────────────────────── ↪\n",
       "↪                                                                              ↪\n",
       "\n",
       "↪            6                 4       2                 6                     ↪\n",
       "↪  423360⋅sin (x)   1905120⋅sin (x)⋅cos (x)   1451520⋅sin (x)⋅cos(x)   362880⋅ ↪\n",
       "↪  ────────────── + ─────────────────────── + ────────────────────── + ─────── ↪\n",
       "↪              6                     6                        7                ↪\n",
       "↪  (cos(x) - 1)          (cos(x) - 1)             (cos(x) - 1)         (cos(x) ↪\n",
       "↪ ──────────────────────────────────────────────────────────────────────────── ↪\n",
       "↪                                                                              ↪\n",
       "↪ ──────────────────────────────────────────────────────────────────────────── ↪\n",
       "↪                                                                              ↪\n",
       "\n",
       "↪    8   ⎞                     \n",
       "↪ sin (x)⎟    2                \n",
       "↪ ───────⎟⋅sin (x)             \n",
       "↪      8 ⎟                 2   \n",
       "↪  - 1)  ⎠           10⋅sin (x)\n",
       "↪ ──────────────── + ──────────\n",
       "↪                    cos(x) - 1\n",
       "↪ ─────────────────────────────\n",
       "↪                              "
      ]
     },
     "execution_count": 154,
     "metadata": {},
     "output_type": "execute_result"
    }
   ],
   "source": [
    "smp.diff( (1+smp.cos(x))/(1-smp.cos(x)),x,10 )"
   ]
  },
  {
   "attachments": {
    "aeefd707-c478-4cdf-a0dc-e2e76c22d938.png": {
     "image/png": "[encoded data removed]"
    }
   },
   "cell_type": "markdown",
   "id": "522c444f-a7d0-440a-a746-046d65011bc7",
   "metadata": {},
   "source": [
    "![image.png](attachment:aeefd707-c478-4cdf-a0dc-e2e76c22d938.png)"
   ]
  },
  {
   "cell_type": "code",
   "execution_count": 157,
   "id": "c95af073-a4c0-48e2-9972-baa94f02808d",
   "metadata": {},
   "outputs": [
    {
     "data": {
      "image/png": "[encoded data removed]",
      "text/latex": [
       "$\\displaystyle - y^{2} \\cos{\\left(y \\right)} + 2 y \\sin{\\left(y \\right)} + 2 \\cos{\\left(y \\right)} - 2$"
      ],
      "text/plain": [
       "   2                                   \n",
       "- y ⋅cos(y) + 2⋅y⋅sin(y) + 2⋅cos(y) - 2"
      ]
     },
     "execution_count": 157,
     "metadata": {},
     "output_type": "execute_result"
    }
   ],
   "source": [
    "smp.integrate( x**2 * smp.sin(x) , (x, 0, y) )\n"
   ]
  },
  {
   "cell_type": "markdown",
   "id": "45377902-02e2-475c-aeb8-20ed731c8961",
   "metadata": {},
   "source": [
    "## How to deal with general functions?"
   ]
  },
  {
   "cell_type": "code",
   "execution_count": 158,
   "id": "ffe47a6a-4504-43a3-8a07-1fa6699d4583",
   "metadata": {},
   "outputs": [],
   "source": [
    "g = smp.symbols('g', cls=smp.Function)"
   ]
  },
  {
   "cell_type": "code",
   "execution_count": 160,
   "id": "1902b33d-e11a-4818-a4df-16cc46ecb91b",
   "metadata": {},
   "outputs": [
    {
     "name": "stdout",
     "output_type": "stream",
     "text": [
      "g(x)\n"
     ]
    }
   ],
   "source": [
    "print(g)"
   ]
  },
  {
   "cell_type": "code",
   "execution_count": 162,
   "id": "6d602949-65ae-4d9f-b00b-0a973300f04f",
   "metadata": {},
   "outputs": [
    {
     "data": {
      "image/png": "[encoded data removed]",
      "text/latex": [
       "$\\displaystyle \\frac{d}{d x} g{\\left(x \\right)}$"
      ],
      "text/plain": [
       "d       \n",
       "──(g(x))\n",
       "dx      "
      ]
     },
     "execution_count": 162,
     "metadata": {},
     "output_type": "execute_result"
    }
   ],
   "source": [
    "smp.diff(g,x)"
   ]
  },
  {
   "cell_type": "code",
   "execution_count": 163,
   "id": "42484ad2-0d76-400a-ba69-85df1e5aed0c",
   "metadata": {},
   "outputs": [
    {
     "data": {
      "image/png": "[encoded data removed]",
      "text/latex": [
       "$\\displaystyle g{\\left(x \\right)} \\cos{\\left(x \\right)} + \\sin{\\left(x \\right)} \\frac{d}{d x} g{\\left(x \\right)}$"
      ],
      "text/plain": [
       "                     d       \n",
       "g(x)⋅cos(x) + sin(x)⋅──(g(x))\n",
       "                     dx      "
      ]
     },
     "execution_count": 163,
     "metadata": {},
     "output_type": "execute_result"
    }
   ],
   "source": [
    "smp.diff(g*smp.sin(x),x)"
   ]
  },
  {
   "cell_type": "code",
   "execution_count": 164,
   "id": "89350c5b-3445-48db-8b2e-1e5a5153686d",
   "metadata": {},
   "outputs": [
    {
     "data": {
      "image/png": "[encoded data removed]",
      "text/latex": [
       "$\\displaystyle g{\\left(x \\right)} \\cos{\\left(x \\right)} + \\sin{\\left(x \\right)} \\frac{d}{d x} g{\\left(x \\right)}$"
      ],
      "text/plain": [
       "                     d       \n",
       "g(x)⋅cos(x) + sin(x)⋅──(g(x))\n",
       "                     dx      "
      ]
     },
     "execution_count": 164,
     "metadata": {},
     "output_type": "execute_result"
    }
   ],
   "source": [
    "smp.diff(g*smp.sin(x),x).doit()"
   ]
  },
  {
   "cell_type": "code",
   "execution_count": 169,
   "id": "718f7daa-390e-4858-9a84-718e27fd1fc5",
   "metadata": {},
   "outputs": [],
   "source": [
    "u,v = smp.symbols('u,v',cls=smp.Function)\n",
    "u = u(x)\n",
    "v = v(x)"
   ]
  },
  {
   "cell_type": "code",
   "execution_count": 170,
   "id": "12111448-a15a-41cb-97cc-8bd11fb509bb",
   "metadata": {},
   "outputs": [
    {
     "data": {
      "image/png": "[encoded data removed]",
      "text/latex": [
       "$\\displaystyle u{\\left(x \\right)} \\frac{d}{d x} v{\\left(x \\right)} + v{\\left(x \\right)} \\frac{d}{d x} u{\\left(x \\right)}$"
      ],
      "text/plain": [
       "     d               d       \n",
       "u(x)⋅──(v(x)) + v(x)⋅──(u(x))\n",
       "     dx              dx      "
      ]
     },
     "execution_count": 170,
     "metadata": {},
     "output_type": "execute_result"
    }
   ],
   "source": [
    "smp.diff(u*v, x)"
   ]
  },
  {
   "cell_type": "code",
   "execution_count": 172,
   "id": "3d89018f-bd52-4d0a-a253-2e552e6a7f10",
   "metadata": {},
   "outputs": [
    {
     "data": {
      "image/png": "[encoded data removed]",
      "text/latex": [
       "$\\displaystyle \\frac{- u{\\left(x \\right)} \\frac{d}{d x} v{\\left(x \\right)} + v{\\left(x \\right)} \\frac{d}{d x} u{\\left(x \\right)}}{v^{2}{\\left(x \\right)}}$"
      ],
      "text/plain": [
       "       d               d       \n",
       "- u(x)⋅──(v(x)) + v(x)⋅──(u(x))\n",
       "       dx              dx      \n",
       "───────────────────────────────\n",
       "              2                \n",
       "             v (x)             "
      ]
     },
     "execution_count": 172,
     "metadata": {},
     "output_type": "execute_result"
    }
   ],
   "source": [
    "smp.diff(u/v, x).factor()"
   ]
  },
  {
   "cell_type": "code",
   "execution_count": 177,
   "id": "d72fbe5d-9707-46bc-a6e8-485ab619cc84",
   "metadata": {},
   "outputs": [
    {
     "data": {
      "image/png": "[encoded data removed]",
      "text/latex": [
       "$\\displaystyle 0$"
      ],
      "text/plain": [
       "0"
      ]
     },
     "execution_count": 177,
     "metadata": {},
     "output_type": "execute_result"
    }
   ],
   "source": [
    "smp.integrate(u*v,(x,0,0)).doit()"
   ]
  },
  {
   "cell_type": "markdown",
   "id": "3477ef10-dada-48fc-8b8b-8b6cf39c17fd",
   "metadata": {},
   "source": [
    "## Integration"
   ]
  },
  {
   "cell_type": "code",
   "execution_count": 178,
   "id": "76951198-6712-4871-b9a2-09be7885f585",
   "metadata": {},
   "outputs": [],
   "source": [
    "gauss_fn = smp.exp(-x**2)"
   ]
  },
  {
   "cell_type": "code",
   "execution_count": 179,
   "id": "27921af4-2dff-4f5d-aa76-53f765255449",
   "metadata": {},
   "outputs": [
    {
     "name": "stdout",
     "output_type": "stream",
     "text": [
      "exp(-x**2)\n"
     ]
    }
   ],
   "source": [
    "print(gauss_fn)"
   ]
  },
  {
   "cell_type": "code",
   "execution_count": 180,
   "id": "c635ec2d-a2f7-4993-978b-67f5a223c00f",
   "metadata": {},
   "outputs": [
    {
     "data": {
      "image/png": "[encoded data removed]",
      "text/latex": [
       "$\\displaystyle \\sqrt{\\pi}$"
      ],
      "text/plain": [
       "√π"
      ]
     },
     "execution_count": 180,
     "metadata": {},
     "output_type": "execute_result"
    }
   ],
   "source": [
    "smp.integrate(gauss_fn,(x,-smp.oo, smp.oo))"
   ]
  },
  {
   "cell_type": "code",
   "execution_count": 181,
   "id": "de1f115a-e291-4720-8bea-9633e30d0785",
   "metadata": {},
   "outputs": [
    {
     "data": {
      "image/png": "[encoded data removed]",
      "text/latex": [
       "$\\displaystyle 0.222702589210478 \\sqrt{\\pi}$"
      ],
      "text/plain": [
       "0.222702589210478⋅√π"
      ]
     },
     "execution_count": 181,
     "metadata": {},
     "output_type": "execute_result"
    }
   ],
   "source": [
    "smp.integrate(gauss_fn,(x,-0.2, 0.2))"
   ]
  },
  {
   "cell_type": "markdown",
   "id": "7a1ba9a0-34d3-420a-9c8b-53cd024624a8",
   "metadata": {},
   "source": [
    "## Double integrals"
   ]
  },
  {
   "cell_type": "code",
   "execution_count": null,
   "id": "0bb05c0b-23f8-4c51-8a45-49928ce13d43",
   "metadata": {},
   "outputs": [],
   "source": []
  },
  {
   "cell_type": "code",
   "execution_count": null,
   "id": "6b46ba44-c802-4a2c-ab64-8235423f282b",
   "metadata": {},
   "outputs": [],
   "source": []
  },
  {
   "cell_type": "code",
   "execution_count": null,
   "id": "d6c14084-bd89-459f-955d-fa145dc07349",
   "metadata": {},
   "outputs": [],
   "source": []
  },
  {
   "cell_type": "code",
   "execution_count": 183,
   "id": "6623fed4-aece-4e84-9ef6-f0f3c4cc1416",
   "metadata": {},
   "outputs": [
    {
     "data": {
      "image/png": "[encoded data removed]",
      "text/latex": [
       "$\\displaystyle \\pi$"
      ],
      "text/plain": [
       "π"
      ]
     },
     "execution_count": 183,
     "metadata": {},
     "output_type": "execute_result"
    }
   ],
   "source": [
    "smp.integrate(smp.sin(x)/x, (x,-smp.oo,smp.oo))"
   ]
  },
  {
   "cell_type": "markdown",
   "id": "1bb0ead3-53bf-4045-aa5c-d92fc6ff5fa7",
   "metadata": {},
   "source": [
    "## Series"
   ]
  },
  {
   "cell_type": "code",
   "execution_count": 184,
   "id": "eb176e7d-1768-446e-8afe-3035fb0d755f",
   "metadata": {},
   "outputs": [],
   "source": [
    "n = smp.symbols('n')"
   ]
  },
  {
   "cell_type": "code",
   "execution_count": 185,
   "id": "3d6f70c5-3c23-4333-9f79-2a3e4f696df5",
   "metadata": {},
   "outputs": [
    {
     "data": {
      "image/png": "[encoded data removed]",
      "text/latex": [
       "$\\displaystyle \\sum_{n=1}^{\\infty} 2^{- n}$"
      ],
      "text/plain": [
       "  ∞      \n",
       " ___     \n",
       " ╲       \n",
       "  ╲    -n\n",
       "  ╱   2  \n",
       " ╱       \n",
       " ‾‾‾     \n",
       "n = 1    "
      ]
     },
     "execution_count": 185,
     "metadata": {},
     "output_type": "execute_result"
    }
   ],
   "source": [
    "smp.Sum(1/2**n, (n,1,smp.oo))"
   ]
  },
  {
   "cell_type": "code",
   "execution_count": 186,
   "id": "31f8baa9-07e5-4f24-84eb-e4d279040d68",
   "metadata": {},
   "outputs": [
    {
     "data": {
      "image/png": "[encoded data removed]",
      "text/latex": [
       "$\\displaystyle 1.0$"
      ],
      "text/plain": [
       "1.00000000000000"
      ]
     },
     "execution_count": 186,
     "metadata": {},
     "output_type": "execute_result"
    }
   ],
   "source": [
    "smp.Sum(1/2**n, (n,1,smp.oo)).evalf()"
   ]
  },
  {
   "cell_type": "code",
   "execution_count": 187,
   "id": "9220e32d-56e5-4a5f-875b-14b635640af8",
   "metadata": {},
   "outputs": [
    {
     "data": {
      "image/png": "[encoded data removed]",
      "text/latex": [
       "$\\displaystyle 1 + x + \\frac{x^{2}}{2} + \\frac{x^{3}}{6} + \\frac{x^{4}}{24} + \\frac{x^{5}}{120} + O\\left(x^{6}\\right)$"
      ],
      "text/plain": [
       "         2    3    4    5         \n",
       "        x    x    x    x      ⎛ 6⎞\n",
       "1 + x + ── + ── + ── + ─── + O⎝x ⎠\n",
       "        2    6    24   120        "
      ]
     },
     "execution_count": 187,
     "metadata": {},
     "output_type": "execute_result"
    }
   ],
   "source": [
    "smp.series(smp.exp(x), x)"
   ]
  },
  {
   "cell_type": "code",
   "execution_count": 194,
   "id": "c3a4c4eb-3c41-46ae-b0ce-4926cd5352ab",
   "metadata": {},
   "outputs": [
    {
     "data": {
      "image/png": "[encoded data removed]",
      "text/latex": [
       "$\\displaystyle x + O\\left(x^{2}\\right)$"
      ],
      "text/plain": [
       "     ⎛ 2⎞\n",
       "x + O⎝x ⎠"
      ]
     },
     "execution_count": 194,
     "metadata": {},
     "output_type": "execute_result"
    }
   ],
   "source": [
    "smp.series(smp.sin(x), x, 0 ,2)"
   ]
  },
  {
   "cell_type": "code",
   "execution_count": null,
   "id": "04f310bb-1281-4597-a4fe-3868d737058f",
   "metadata": {},
   "outputs": [],
   "source": []
  },
  {
   "cell_type": "markdown",
   "id": "548207c0-abf3-4b4a-8f59-93a6cc862dfa",
   "metadata": {},
   "source": [
    "## Limits"
   ]
  },
  {
   "cell_type": "code",
   "execution_count": 195,
   "id": "59f26fb5-64e2-4fc4-a280-5d8a6f85577e",
   "metadata": {},
   "outputs": [
    {
     "data": {
      "image/png": "[encoded data removed]",
      "text/latex": [
       "$\\displaystyle \\infty$"
      ],
      "text/plain": [
       "∞"
      ]
     },
     "execution_count": 195,
     "metadata": {},
     "output_type": "execute_result"
    }
   ],
   "source": [
    "smp.limit( smp.exp(-x)/x, x,0 )"
   ]
  },
  {
   "cell_type": "code",
   "execution_count": 196,
   "id": "e4e0e2a2-ac69-43bc-a314-584b2923ae8f",
   "metadata": {},
   "outputs": [
    {
     "data": {
      "image/png": "[encoded data removed]",
      "text/latex": [
       "$\\displaystyle 0$"
      ],
      "text/plain": [
       "0"
      ]
     },
     "execution_count": 196,
     "metadata": {},
     "output_type": "execute_result"
    }
   ],
   "source": [
    "smp.limit( smp.exp(-x)/x, x, smp.oo )"
   ]
  },
  {
   "cell_type": "code",
   "execution_count": 206,
   "id": "3843d6f5-05e8-474b-b747-8a16bb56dfa4",
   "metadata": {},
   "outputs": [
    {
     "data": {
      "text/plain": [
       "[<matplotlib.lines.Line2D at 0x743468a483e0>]"
      ]
     },
     "execution_count": 206,
     "metadata": {},
     "output_type": "execute_result"
    },
    {
     "data": {
      "image/png": "[encoded data removed]",
      "text/plain": [
       "<Figure size 640x480 with 1 Axes>"
      ]
     },
     "metadata": {},
     "output_type": "display_data"
    }
   ],
   "source": [
    "fnx = smp.lambdify([x],smp.exp(-x)/x)\n",
    "x_vals = np.arange(-5,-0.005,0.1)\n",
    "plt.plot(x_vals,fnx(x_vals))"
   ]
  },
  {
   "cell_type": "code",
   "execution_count": 204,
   "id": "7e7d5933-6987-4aab-ad65-7687929dbe11",
   "metadata": {},
   "outputs": [
    {
     "data": {
      "image/png": "[encoded data removed]",
      "text/latex": [
       "$\\displaystyle -\\infty$"
      ],
      "text/plain": [
       "-∞"
      ]
     },
     "execution_count": 204,
     "metadata": {},
     "output_type": "execute_result"
    }
   ],
   "source": [
    "smp.limit( smp.exp(-x)/x, x,0, dir='-' )"
   ]
  },
  {
   "cell_type": "code",
   "execution_count": 207,
   "id": "37419542-042c-4c95-861a-d20697ea3e95",
   "metadata": {},
   "outputs": [
    {
     "data": {
      "image/png": "[encoded data removed]",
      "text/latex": [
       "$\\displaystyle \\infty$"
      ],
      "text/plain": [
       "∞"
      ]
     },
     "execution_count": 207,
     "metadata": {},
     "output_type": "execute_result"
    }
   ],
   "source": [
    "smp.limit( smp.exp(-x**2)/x, x, 0 )"
   ]
  },
  {
   "cell_type": "code",
   "execution_count": 208,
   "id": "b267de9c-6c99-4df3-8445-e66e29ecca0d",
   "metadata": {},
   "outputs": [
    {
     "data": {
      "image/png": "[encoded data removed]",
      "text/latex": [
       "$\\displaystyle 256$"
      ],
      "text/plain": [
       "256"
      ]
     },
     "execution_count": 208,
     "metadata": {},
     "output_type": "execute_result"
    }
   ],
   "source": [
    "smp.limit( (x**4-4**4)/(x-4), x, 4 )"
   ]
  },
  {
   "cell_type": "code",
   "execution_count": 68,
   "id": "36dd6574-1710-4a41-a1e2-02c01956074b",
   "metadata": {},
   "outputs": [
    {
     "data": {
      "image/png": "[encoded data removed]",
      "text/latex": [
       "$\\displaystyle \\infty$"
      ],
      "text/plain": [
       "∞"
      ]
     },
     "execution_count": 68,
     "metadata": {},
     "output_type": "execute_result"
    }
   ],
   "source": [
    "smp.limit(1/x, x, 0, dir=\"+\")\n"
   ]
  },
  {
   "cell_type": "code",
   "execution_count": 69,
   "id": "0e6ad242-3af0-49d7-a224-ee71a825e523",
   "metadata": {},
   "outputs": [
    {
     "data": {
      "image/png": "[encoded data removed]",
      "text/latex": [
       "$\\displaystyle -\\infty$"
      ],
      "text/plain": [
       "-∞"
      ]
     },
     "execution_count": 69,
     "metadata": {},
     "output_type": "execute_result"
    }
   ],
   "source": [
    "smp.limit(1/x, x, 0, dir=\"-\")\n"
   ]
  },
  {
   "cell_type": "code",
   "execution_count": null,
   "id": "0420c20e-9793-469e-8af4-658b1c608f99",
   "metadata": {},
   "outputs": [],
   "source": []
  },
  {
   "cell_type": "code",
   "execution_count": null,
   "id": "ecc3839f-9d9e-4f50-8696-a23b99ea5c3f",
   "metadata": {},
   "outputs": [],
   "source": []
  }
 ],
 "metadata": {
  "kernelspec": {
   "display_name": "Python 3 (ipykernel)",
   "language": "python",
   "name": "python3"
  },
  "language_info": {
   "codemirror_mode": {
    "name": "ipython",
    "version": 3
   },
   "file_extension": ".py",
   "mimetype": "text/x-python",
   "name": "python",
   "nbconvert_exporter": "python",
   "pygments_lexer": "ipython3",
   "version": "3.12.2"
  }
 },
 "nbformat": 4,
 "nbformat_minor": 5
}
